{
 "cells": [
  {
   "cell_type": "markdown",
   "metadata": {
    "id": "co7MV6sX7Xto"
   },
   "source": [
    "# Cross-Lingual Similarity and Semantic Search Engine with Multilingual Universal Sentence Encoder\n"
   ]
  },
  {
   "cell_type": "code",
   "execution_count": 1,
   "metadata": {},
   "outputs": [],
   "source": [
    "import bokeh\n",
    "import bokeh.models\n",
    "import bokeh.plotting\n",
    "import numpy as np\n",
    "import os\n",
    "import pandas as pd\n",
    "import tensorflow.compat.v2 as tf\n",
    "import tensorflow_hub as hub\n",
    "from tensorflow_text import SentencepieceTokenizer\n",
    "import sklearn.metrics.pairwise\n",
    "\n",
    "from simpleneighbors import SimpleNeighbors\n",
    "from tqdm import tqdm\n",
    "from tqdm import trange\n",
    "import subprocess"
   ]
  },
  {
   "cell_type": "code",
   "execution_count": 2,
   "metadata": {
    "id": "MSeY-MUQo2Ha"
   },
   "outputs": [],
   "source": [
    "#@title Setup common imports and functions\n",
    "\n",
    "\n",
    "def visualize_similarity(embeddings_1, embeddings_2, labels_1, labels_2,\n",
    "                         plot_title,\n",
    "                         plot_width=1200, plot_height=600,\n",
    "                         xaxis_font_size='12pt', yaxis_font_size='12pt'):\n",
    "\n",
    "  assert len(embeddings_1) == len(labels_1)\n",
    "  assert len(embeddings_2) == len(labels_2)\n",
    "\n",
    "  # arccos based text similarity (Yang et al. 2019; Cer et al. 2019)\n",
    "  sim = 1 - np.arccos(\n",
    "      sklearn.metrics.pairwise.cosine_similarity(embeddings_1,\n",
    "                                                 embeddings_2))/np.pi\n",
    "\n",
    "  embeddings_1_col, embeddings_2_col, sim_col = [], [], []\n",
    "  for i in range(len(embeddings_1)):\n",
    "    for j in range(len(embeddings_2)):\n",
    "      embeddings_1_col.append(labels_1[i])\n",
    "      embeddings_2_col.append(labels_2[j])\n",
    "      sim_col.append(sim[i][j])\n",
    "  df = pd.DataFrame(zip(embeddings_1_col, embeddings_2_col, sim_col),\n",
    "                    columns=['embeddings_1', 'embeddings_2', 'sim'])\n",
    "\n",
    "  mapper = bokeh.models.LinearColorMapper(\n",
    "      palette=[*reversed(bokeh.palettes.YlOrRd[9])], low=df.sim.min(),\n",
    "      high=df.sim.max())\n",
    "\n",
    "  p = bokeh.plotting.figure(title=plot_title, x_range=labels_1,\n",
    "                            x_axis_location=\"above\",\n",
    "                            y_range=[*reversed(labels_2)],\n",
    "                            plot_width=plot_width, plot_height=plot_height,\n",
    "                            tools=\"save\",toolbar_location='below', tooltips=[\n",
    "                                ('pair', '@embeddings_1 ||| @embeddings_2'),\n",
    "                                ('sim', '@sim')])\n",
    "  p.rect(x=\"embeddings_1\", y=\"embeddings_2\", width=1, height=1, source=df,\n",
    "         fill_color={'field': 'sim', 'transform': mapper}, line_color=None)\n",
    "\n",
    "  p.title.text_font_size = '12pt'\n",
    "  p.axis.axis_line_color = None\n",
    "  p.axis.major_tick_line_color = None\n",
    "  p.axis.major_label_standoff = 16\n",
    "  p.xaxis.major_label_text_font_size = xaxis_font_size\n",
    "  p.xaxis.major_label_orientation = 0.25 * np.pi\n",
    "  p.yaxis.major_label_text_font_size = yaxis_font_size\n",
    "  p.min_border_right = 300\n",
    "\n",
    "  bokeh.io.output_notebook()\n",
    "  bokeh.io.show(p)\n"
   ]
  },
  {
   "cell_type": "code",
   "execution_count": 29,
   "metadata": {
    "id": "mkmF3w8WGLcM"
   },
   "outputs": [],
   "source": [
    "# The 16-language multilingual module is the default but feel free\n",
    "# to pick others from the list and compare the results.\n",
    "module_url = 'https://tfhub.dev/google/universal-sentence-encoder-multilingual/3' #@param ['https://tfhub.dev/google/universal-sentence-encoder-multilingual/3', 'https://tfhub.dev/google/universal-sentence-encoder-multilingual-large/3']\n",
    "\n",
    "model = hub.load(module_url)\n",
    "\n",
    "def embed_text(input):\n",
    "  return model(input)"
   ]
  },
  {
   "cell_type": "code",
   "execution_count": 31,
   "metadata": {},
   "outputs": [],
   "source": [
    "final_df = pd.read_pickle('final_filter_dataset_social2.pkl')"
   ]
  },
  {
   "cell_type": "code",
   "execution_count": 75,
   "metadata": {},
   "outputs": [],
   "source": [
    "final_df = pd.read_pickle('final_filter_dataset_social_text.pkl')"
   ]
  },
  {
   "cell_type": "code",
   "execution_count": 4,
   "metadata": {},
   "outputs": [],
   "source": [
    "final_df = pd.read_pickle('final_filter_dataset_social_image.pkl')"
   ]
  },
  {
   "cell_type": "code",
   "execution_count": null,
   "metadata": {},
   "outputs": [],
   "source": []
  },
  {
   "cell_type": "code",
   "execution_count": 4,
   "metadata": {},
   "outputs": [],
   "source": [
    "final_df = pd.read_pickle('final_filter_dataset_social_v2.pkl')"
   ]
  },
  {
   "cell_type": "code",
   "execution_count": 9,
   "metadata": {},
   "outputs": [],
   "source": [
    "final_df = pd.read_pickle('final_filter_dataset_social_image_v2.pkl')"
   ]
  },
  {
   "cell_type": "code",
   "execution_count": 4,
   "metadata": {},
   "outputs": [],
   "source": [
    "final_df = pd.read_pickle('final_filter_dataset_social_text_v2.pkl')"
   ]
  },
  {
   "cell_type": "code",
   "execution_count": null,
   "metadata": {},
   "outputs": [],
   "source": []
  },
  {
   "cell_type": "code",
   "execution_count": 3,
   "metadata": {},
   "outputs": [],
   "source": [
    "final_df = pd.read_pickle('filtered_dataset_v2_views.pkl')"
   ]
  },
  {
   "cell_type": "code",
   "execution_count": 16,
   "metadata": {},
   "outputs": [],
   "source": [
    "final_df.  read_pickle('filtered_dataset_v2_views_dropna.pkl')"
   ]
  },
  {
   "cell_type": "code",
   "execution_count": 5,
   "metadata": {},
   "outputs": [
    {
     "data": {
      "text/plain": [
       "(136288, 29)"
      ]
     },
     "execution_count": 5,
     "metadata": {},
     "output_type": "execute_result"
    }
   ],
   "source": [
    "final_df.shape"
   ]
  },
  {
   "cell_type": "code",
   "execution_count": 6,
   "metadata": {},
   "outputs": [],
   "source": [
    "final_df = final_df.dropna(subset=['type_post', 'pop_class', 'spell_text_with_re', 'description_image'])"
   ]
  },
  {
   "cell_type": "code",
   "execution_count": 17,
   "metadata": {},
   "outputs": [
    {
     "data": {
      "text/plain": [
       "(32591, 29)"
      ]
     },
     "execution_count": 17,
     "metadata": {},
     "output_type": "execute_result"
    }
   ],
   "source": [
    "final_df.shape"
   ]
  },
  {
   "cell_type": "code",
   "execution_count": null,
   "metadata": {},
   "outputs": [],
   "source": []
  },
  {
   "cell_type": "code",
   "execution_count": 10,
   "metadata": {},
   "outputs": [
    {
     "data": {
      "text/html": [
       "<div>\n",
       "<style scoped>\n",
       "    .dataframe tbody tr th:only-of-type {\n",
       "        vertical-align: middle;\n",
       "    }\n",
       "\n",
       "    .dataframe tbody tr th {\n",
       "        vertical-align: top;\n",
       "    }\n",
       "\n",
       "    .dataframe thead th {\n",
       "        text-align: right;\n",
       "    }\n",
       "</style>\n",
       "<table border=\"1\" class=\"dataframe\">\n",
       "  <thead>\n",
       "    <tr style=\"text-align: right;\">\n",
       "      <th></th>\n",
       "      <th>id_community</th>\n",
       "      <th>id_post</th>\n",
       "      <th>date_posted</th>\n",
       "      <th>count_likes</th>\n",
       "      <th>count_views</th>\n",
       "      <th>count_comments</th>\n",
       "      <th>count_reposts</th>\n",
       "      <th>text_post</th>\n",
       "      <th>image_url</th>\n",
       "      <th>post_url</th>\n",
       "      <th>...</th>\n",
       "      <th>sentiment_text_ocr_image_2</th>\n",
       "      <th>level_sentiment_ocr_1</th>\n",
       "      <th>level_sentiment_ocr_2</th>\n",
       "      <th>description_image</th>\n",
       "      <th>spell_text_with_re</th>\n",
       "      <th>perc_unk_words</th>\n",
       "      <th>perc_unk_words_re</th>\n",
       "      <th>pop_class</th>\n",
       "      <th>likes_per_views</th>\n",
       "      <th>id_community_str</th>\n",
       "    </tr>\n",
       "  </thead>\n",
       "  <tbody>\n",
       "    <tr>\n",
       "      <th>1</th>\n",
       "      <td>-95355317</td>\n",
       "      <td>2106041</td>\n",
       "      <td>2022-05-12 12:03:02</td>\n",
       "      <td>6</td>\n",
       "      <td>6342.0</td>\n",
       "      <td>4</td>\n",
       "      <td>9</td>\n",
       "      <td>NaN</td>\n",
       "      <td>https://sun1-18.userapi.com/s/v1/ig2/gwRD8wNJH...</td>\n",
       "      <td>https://vk.com/wall-95355317_2106041</td>\n",
       "      <td>...</td>\n",
       "      <td>positive</td>\n",
       "      <td>0.986787</td>\n",
       "      <td>0.016925</td>\n",
       "      <td>the evolution of korean beauty in 2018 and 2020</td>\n",
       "      <td>когда вс жизнь мечтала стать парнем</td>\n",
       "      <td>0.666667</td>\n",
       "      <td>0.000000</td>\n",
       "      <td>NaN</td>\n",
       "      <td>0.000946</td>\n",
       "      <td>-95355317</td>\n",
       "    </tr>\n",
       "    <tr>\n",
       "      <th>3</th>\n",
       "      <td>-95355317</td>\n",
       "      <td>2106029</td>\n",
       "      <td>2022-05-12 10:03:00</td>\n",
       "      <td>9</td>\n",
       "      <td>8934.0</td>\n",
       "      <td>7</td>\n",
       "      <td>5</td>\n",
       "      <td>NaN</td>\n",
       "      <td>https://sun1-55.userapi.com/s/v1/ig2/iyfPNRSKA...</td>\n",
       "      <td>https://vk.com/wall-95355317_2106029</td>\n",
       "      <td>...</td>\n",
       "      <td>negative</td>\n",
       "      <td>0.976321</td>\n",
       "      <td>0.275140</td>\n",
       "      <td>a small console table is made out of a metal</td>\n",
       "      <td>не могу понять стоит или лежит</td>\n",
       "      <td>0.000000</td>\n",
       "      <td>0.000000</td>\n",
       "      <td>NaN</td>\n",
       "      <td>0.001007</td>\n",
       "      <td>-95355317</td>\n",
       "    </tr>\n",
       "    <tr>\n",
       "      <th>5</th>\n",
       "      <td>-95355317</td>\n",
       "      <td>2105981</td>\n",
       "      <td>2022-05-11 19:10:00</td>\n",
       "      <td>378</td>\n",
       "      <td>23118.0</td>\n",
       "      <td>2</td>\n",
       "      <td>161</td>\n",
       "      <td>NaN</td>\n",
       "      <td>https://sun1-96.userapi.com/s/v1/ig2/0Etc7GMf3...</td>\n",
       "      <td>https://vk.com/wall-95355317_2105981</td>\n",
       "      <td>...</td>\n",
       "      <td>skip</td>\n",
       "      <td>0.362979</td>\n",
       "      <td>0.239359</td>\n",
       "      <td>the face of a monkey on a screenshot of a cell...</td>\n",
       "      <td>влад крутится ли воздух внутри колеса вчера в ...</td>\n",
       "      <td>0.354167</td>\n",
       "      <td>0.125000</td>\n",
       "      <td>NaN</td>\n",
       "      <td>0.016350</td>\n",
       "      <td>-95355317</td>\n",
       "    </tr>\n",
       "    <tr>\n",
       "      <th>6</th>\n",
       "      <td>-95355317</td>\n",
       "      <td>2105977</td>\n",
       "      <td>2022-05-11 17:10:00</td>\n",
       "      <td>32</td>\n",
       "      <td>5581.0</td>\n",
       "      <td>0</td>\n",
       "      <td>42</td>\n",
       "      <td>NaN</td>\n",
       "      <td>https://sun1-83.userapi.com/s/v1/ig2/YQU9ENzXN...</td>\n",
       "      <td>https://vk.com/wall-95355317_2105977</td>\n",
       "      <td>...</td>\n",
       "      <td>skip</td>\n",
       "      <td>0.992889</td>\n",
       "      <td>0.020974</td>\n",
       "      <td>a screenshot of a cell phone message with a cake</td>\n",
       "      <td>это мы когда отмечаете один день без ссор  ещё...</td>\n",
       "      <td>0.272727</td>\n",
       "      <td>0.058824</td>\n",
       "      <td>NaN</td>\n",
       "      <td>0.005733</td>\n",
       "      <td>-95355317</td>\n",
       "    </tr>\n",
       "    <tr>\n",
       "      <th>8</th>\n",
       "      <td>-95355317</td>\n",
       "      <td>2105968</td>\n",
       "      <td>2022-05-11 12:10:00</td>\n",
       "      <td>19</td>\n",
       "      <td>5397.0</td>\n",
       "      <td>0</td>\n",
       "      <td>23</td>\n",
       "      <td>NaN</td>\n",
       "      <td>https://sun1-54.userapi.com/s/v1/ig2/2mVk4bj_j...</td>\n",
       "      <td>https://vk.com/wall-95355317_2105968</td>\n",
       "      <td>...</td>\n",
       "      <td>positive</td>\n",
       "      <td>0.737168</td>\n",
       "      <td>0.445540</td>\n",
       "      <td>a woman is making a bed with a clock</td>\n",
       "      <td>сегоднялягулоракьше  интересно что такого случ...</td>\n",
       "      <td>0.250000</td>\n",
       "      <td>0.083333</td>\n",
       "      <td>NaN</td>\n",
       "      <td>0.003520</td>\n",
       "      <td>-95355317</td>\n",
       "    </tr>\n",
       "  </tbody>\n",
       "</table>\n",
       "<p>5 rows × 29 columns</p>\n",
       "</div>"
      ],
      "text/plain": [
       "   id_community  id_post         date_posted  count_likes  count_views  \\\n",
       "1     -95355317  2106041 2022-05-12 12:03:02            6       6342.0   \n",
       "3     -95355317  2106029 2022-05-12 10:03:00            9       8934.0   \n",
       "5     -95355317  2105981 2022-05-11 19:10:00          378      23118.0   \n",
       "6     -95355317  2105977 2022-05-11 17:10:00           32       5581.0   \n",
       "8     -95355317  2105968 2022-05-11 12:10:00           19       5397.0   \n",
       "\n",
       "   count_comments  count_reposts text_post  \\\n",
       "1               4              9       NaN   \n",
       "3               7              5       NaN   \n",
       "5               2            161       NaN   \n",
       "6               0             42       NaN   \n",
       "8               0             23       NaN   \n",
       "\n",
       "                                           image_url  \\\n",
       "1  https://sun1-18.userapi.com/s/v1/ig2/gwRD8wNJH...   \n",
       "3  https://sun1-55.userapi.com/s/v1/ig2/iyfPNRSKA...   \n",
       "5  https://sun1-96.userapi.com/s/v1/ig2/0Etc7GMf3...   \n",
       "6  https://sun1-83.userapi.com/s/v1/ig2/YQU9ENzXN...   \n",
       "8  https://sun1-54.userapi.com/s/v1/ig2/2mVk4bj_j...   \n",
       "\n",
       "                               post_url  ... sentiment_text_ocr_image_2  \\\n",
       "1  https://vk.com/wall-95355317_2106041  ...                   positive   \n",
       "3  https://vk.com/wall-95355317_2106029  ...                   negative   \n",
       "5  https://vk.com/wall-95355317_2105981  ...                       skip   \n",
       "6  https://vk.com/wall-95355317_2105977  ...                       skip   \n",
       "8  https://vk.com/wall-95355317_2105968  ...                   positive   \n",
       "\n",
       "  level_sentiment_ocr_1  level_sentiment_ocr_2  \\\n",
       "1              0.986787               0.016925   \n",
       "3              0.976321               0.275140   \n",
       "5              0.362979               0.239359   \n",
       "6              0.992889               0.020974   \n",
       "8              0.737168               0.445540   \n",
       "\n",
       "                                   description_image  \\\n",
       "1    the evolution of korean beauty in 2018 and 2020   \n",
       "3       a small console table is made out of a metal   \n",
       "5  the face of a monkey on a screenshot of a cell...   \n",
       "6   a screenshot of a cell phone message with a cake   \n",
       "8               a woman is making a bed with a clock   \n",
       "\n",
       "                                  spell_text_with_re perc_unk_words  \\\n",
       "1       когда вс жизнь мечтала стать парнем                0.666667   \n",
       "3                     не могу понять стоит или лежит       0.000000   \n",
       "5  влад крутится ли воздух внутри колеса вчера в ...       0.354167   \n",
       "6  это мы когда отмечаете один день без ссор  ещё...       0.272727   \n",
       "8  сегоднялягулоракьше  интересно что такого случ...       0.250000   \n",
       "\n",
       "   perc_unk_words_re  pop_class likes_per_views id_community_str  \n",
       "1           0.000000        NaN        0.000946        -95355317  \n",
       "3           0.000000        NaN        0.001007        -95355317  \n",
       "5           0.125000        NaN        0.016350        -95355317  \n",
       "6           0.058824        NaN        0.005733        -95355317  \n",
       "8           0.083333        NaN        0.003520        -95355317  \n",
       "\n",
       "[5 rows x 29 columns]"
      ]
     },
     "execution_count": 10,
     "metadata": {},
     "output_type": "execute_result"
    }
   ],
   "source": [
    "final_df.head()"
   ]
  },
  {
   "cell_type": "code",
   "execution_count": null,
   "metadata": {},
   "outputs": [],
   "source": []
  },
  {
   "cell_type": "code",
   "execution_count": null,
   "metadata": {},
   "outputs": [],
   "source": [
    "final_df = pd.read_pickle('final_filter_dataset_social_image_v3.pkl')"
   ]
  },
  {
   "cell_type": "code",
   "execution_count": 21,
   "metadata": {},
   "outputs": [
    {
     "data": {
      "text/html": [
       "<div>\n",
       "<style scoped>\n",
       "    .dataframe tbody tr th:only-of-type {\n",
       "        vertical-align: middle;\n",
       "    }\n",
       "\n",
       "    .dataframe tbody tr th {\n",
       "        vertical-align: top;\n",
       "    }\n",
       "\n",
       "    .dataframe thead th {\n",
       "        text-align: right;\n",
       "    }\n",
       "</style>\n",
       "<table border=\"1\" class=\"dataframe\">\n",
       "  <thead>\n",
       "    <tr style=\"text-align: right;\">\n",
       "      <th></th>\n",
       "      <th>id_community</th>\n",
       "      <th>id_post</th>\n",
       "      <th>date_posted</th>\n",
       "      <th>count_likes</th>\n",
       "      <th>count_views</th>\n",
       "      <th>count_comments</th>\n",
       "      <th>count_reposts</th>\n",
       "      <th>text_post</th>\n",
       "      <th>image_url</th>\n",
       "      <th>post_url</th>\n",
       "      <th>...</th>\n",
       "      <th>level_sentiment_post_2</th>\n",
       "      <th>sentiment_text_ocr_image_1</th>\n",
       "      <th>sentiment_text_ocr_image_2</th>\n",
       "      <th>level_sentiment_ocr_1</th>\n",
       "      <th>level_sentiment_ocr_2</th>\n",
       "      <th>description_image</th>\n",
       "      <th>spell_text_with_re</th>\n",
       "      <th>perc_unk_words</th>\n",
       "      <th>perc_unk_words_re</th>\n",
       "      <th>pop_class</th>\n",
       "    </tr>\n",
       "  </thead>\n",
       "  <tbody>\n",
       "    <tr>\n",
       "      <th>3</th>\n",
       "      <td>-95355317</td>\n",
       "      <td>2106029</td>\n",
       "      <td>2022-05-12 10:03:00</td>\n",
       "      <td>9</td>\n",
       "      <td>8934.0</td>\n",
       "      <td>7</td>\n",
       "      <td>5</td>\n",
       "      <td>NaN</td>\n",
       "      <td>https://sun1-55.userapi.com/s/v1/ig2/iyfPNRSKA...</td>\n",
       "      <td>https://vk.com/wall-95355317_2106029</td>\n",
       "      <td>...</td>\n",
       "      <td>0.106701</td>\n",
       "      <td>neutral</td>\n",
       "      <td>negative</td>\n",
       "      <td>0.976321</td>\n",
       "      <td>0.275140</td>\n",
       "      <td>a small console table is made out of a metal</td>\n",
       "      <td>не могу понять стоит или лежит</td>\n",
       "      <td>0.000000</td>\n",
       "      <td>0.000000</td>\n",
       "      <td>0.0</td>\n",
       "    </tr>\n",
       "    <tr>\n",
       "      <th>5</th>\n",
       "      <td>-95355317</td>\n",
       "      <td>2105981</td>\n",
       "      <td>2022-05-11 19:10:00</td>\n",
       "      <td>378</td>\n",
       "      <td>23118.0</td>\n",
       "      <td>2</td>\n",
       "      <td>161</td>\n",
       "      <td>NaN</td>\n",
       "      <td>https://sun1-96.userapi.com/s/v1/ig2/0Etc7GMf3...</td>\n",
       "      <td>https://vk.com/wall-95355317_2105981</td>\n",
       "      <td>...</td>\n",
       "      <td>0.106701</td>\n",
       "      <td>neutral</td>\n",
       "      <td>skip</td>\n",
       "      <td>0.362979</td>\n",
       "      <td>0.239359</td>\n",
       "      <td>the face of a monkey on a screenshot of a cell...</td>\n",
       "      <td>влад крутится ли воздух внутри колеса вчера в ...</td>\n",
       "      <td>0.354167</td>\n",
       "      <td>0.125000</td>\n",
       "      <td>1.0</td>\n",
       "    </tr>\n",
       "    <tr>\n",
       "      <th>8</th>\n",
       "      <td>-95355317</td>\n",
       "      <td>2105968</td>\n",
       "      <td>2022-05-11 12:10:00</td>\n",
       "      <td>19</td>\n",
       "      <td>5397.0</td>\n",
       "      <td>0</td>\n",
       "      <td>23</td>\n",
       "      <td>NaN</td>\n",
       "      <td>https://sun1-54.userapi.com/s/v1/ig2/2mVk4bj_j...</td>\n",
       "      <td>https://vk.com/wall-95355317_2105968</td>\n",
       "      <td>...</td>\n",
       "      <td>0.106701</td>\n",
       "      <td>neutral</td>\n",
       "      <td>positive</td>\n",
       "      <td>0.737168</td>\n",
       "      <td>0.445540</td>\n",
       "      <td>a woman is making a bed with a clock</td>\n",
       "      <td>сегоднялягулоракьше  интересно что такого случ...</td>\n",
       "      <td>0.250000</td>\n",
       "      <td>0.083333</td>\n",
       "      <td>0.0</td>\n",
       "    </tr>\n",
       "    <tr>\n",
       "      <th>12</th>\n",
       "      <td>-95355317</td>\n",
       "      <td>2105872</td>\n",
       "      <td>2022-05-10 10:02:01</td>\n",
       "      <td>249</td>\n",
       "      <td>17896.0</td>\n",
       "      <td>2</td>\n",
       "      <td>123</td>\n",
       "      <td>NaN</td>\n",
       "      <td>https://sun1-89.userapi.com/s/v1/ig2/nvBHvrDEK...</td>\n",
       "      <td>https://vk.com/wall-95355317_2105872</td>\n",
       "      <td>...</td>\n",
       "      <td>0.106701</td>\n",
       "      <td>neutral</td>\n",
       "      <td>positive</td>\n",
       "      <td>0.327678</td>\n",
       "      <td>0.239359</td>\n",
       "      <td>a man is holding a cell phone in a car</td>\n",
       "      <td>быстро руки вверх   с аи воктебяцвлувгговоритч...</td>\n",
       "      <td>0.533333</td>\n",
       "      <td>0.272727</td>\n",
       "      <td>1.0</td>\n",
       "    </tr>\n",
       "    <tr>\n",
       "      <th>14</th>\n",
       "      <td>-95355317</td>\n",
       "      <td>2105727</td>\n",
       "      <td>2022-05-08 15:07:00</td>\n",
       "      <td>125</td>\n",
       "      <td>21487.0</td>\n",
       "      <td>4</td>\n",
       "      <td>27</td>\n",
       "      <td>NaN</td>\n",
       "      <td>https://sun1-26.userapi.com/s/v1/ig2/txL_3VCSV...</td>\n",
       "      <td>https://vk.com/wall-95355317_2105727</td>\n",
       "      <td>...</td>\n",
       "      <td>0.106701</td>\n",
       "      <td>neutral</td>\n",
       "      <td>skip</td>\n",
       "      <td>0.887215</td>\n",
       "      <td>0.112805</td>\n",
       "      <td>a picture of a woman shaving a man</td>\n",
       "      <td>в казахстане есть барбер к которой мужики запи...</td>\n",
       "      <td>0.388889</td>\n",
       "      <td>0.200000</td>\n",
       "      <td>1.0</td>\n",
       "    </tr>\n",
       "  </tbody>\n",
       "</table>\n",
       "<p>5 rows × 27 columns</p>\n",
       "</div>"
      ],
      "text/plain": [
       "    id_community  id_post         date_posted  count_likes  count_views  \\\n",
       "3      -95355317  2106029 2022-05-12 10:03:00            9       8934.0   \n",
       "5      -95355317  2105981 2022-05-11 19:10:00          378      23118.0   \n",
       "8      -95355317  2105968 2022-05-11 12:10:00           19       5397.0   \n",
       "12     -95355317  2105872 2022-05-10 10:02:01          249      17896.0   \n",
       "14     -95355317  2105727 2022-05-08 15:07:00          125      21487.0   \n",
       "\n",
       "    count_comments  count_reposts text_post  \\\n",
       "3                7              5       NaN   \n",
       "5                2            161       NaN   \n",
       "8                0             23       NaN   \n",
       "12               2            123       NaN   \n",
       "14               4             27       NaN   \n",
       "\n",
       "                                            image_url  \\\n",
       "3   https://sun1-55.userapi.com/s/v1/ig2/iyfPNRSKA...   \n",
       "5   https://sun1-96.userapi.com/s/v1/ig2/0Etc7GMf3...   \n",
       "8   https://sun1-54.userapi.com/s/v1/ig2/2mVk4bj_j...   \n",
       "12  https://sun1-89.userapi.com/s/v1/ig2/nvBHvrDEK...   \n",
       "14  https://sun1-26.userapi.com/s/v1/ig2/txL_3VCSV...   \n",
       "\n",
       "                                post_url  ... level_sentiment_post_2  \\\n",
       "3   https://vk.com/wall-95355317_2106029  ...               0.106701   \n",
       "5   https://vk.com/wall-95355317_2105981  ...               0.106701   \n",
       "8   https://vk.com/wall-95355317_2105968  ...               0.106701   \n",
       "12  https://vk.com/wall-95355317_2105872  ...               0.106701   \n",
       "14  https://vk.com/wall-95355317_2105727  ...               0.106701   \n",
       "\n",
       "   sentiment_text_ocr_image_1  sentiment_text_ocr_image_2  \\\n",
       "3                     neutral                    negative   \n",
       "5                     neutral                        skip   \n",
       "8                     neutral                    positive   \n",
       "12                    neutral                    positive   \n",
       "14                    neutral                        skip   \n",
       "\n",
       "   level_sentiment_ocr_1 level_sentiment_ocr_2  \\\n",
       "3               0.976321              0.275140   \n",
       "5               0.362979              0.239359   \n",
       "8               0.737168              0.445540   \n",
       "12              0.327678              0.239359   \n",
       "14              0.887215              0.112805   \n",
       "\n",
       "                                    description_image  \\\n",
       "3        a small console table is made out of a metal   \n",
       "5   the face of a monkey on a screenshot of a cell...   \n",
       "8                a woman is making a bed with a clock   \n",
       "12             a man is holding a cell phone in a car   \n",
       "14                 a picture of a woman shaving a man   \n",
       "\n",
       "                                   spell_text_with_re  perc_unk_words  \\\n",
       "3                      не могу понять стоит или лежит        0.000000   \n",
       "5   влад крутится ли воздух внутри колеса вчера в ...        0.354167   \n",
       "8   сегоднялягулоракьше  интересно что такого случ...        0.250000   \n",
       "12  быстро руки вверх   с аи воктебяцвлувгговоритч...        0.533333   \n",
       "14  в казахстане есть барбер к которой мужики запи...        0.388889   \n",
       "\n",
       "   perc_unk_words_re pop_class  \n",
       "3           0.000000       0.0  \n",
       "5           0.125000       1.0  \n",
       "8           0.083333       0.0  \n",
       "12          0.272727       1.0  \n",
       "14          0.200000       1.0  \n",
       "\n",
       "[5 rows x 27 columns]"
      ]
     },
     "execution_count": 21,
     "metadata": {},
     "output_type": "execute_result"
    }
   ],
   "source": [
    "final_df.head(5)"
   ]
  },
  {
   "cell_type": "code",
   "execution_count": 5,
   "metadata": {},
   "outputs": [
    {
     "data": {
      "text/plain": [
       "(30989, 27)"
      ]
     },
     "execution_count": 5,
     "metadata": {},
     "output_type": "execute_result"
    }
   ],
   "source": [
    "final_df.shape"
   ]
  },
  {
   "cell_type": "code",
   "execution_count": null,
   "metadata": {},
   "outputs": [],
   "source": []
  },
  {
   "cell_type": "code",
   "execution_count": 3,
   "metadata": {},
   "outputs": [],
   "source": [
    "udf = pd.read_pickle('dataset_social_finish_1.pkl')"
   ]
  },
  {
   "cell_type": "code",
   "execution_count": 3,
   "metadata": {},
   "outputs": [],
   "source": [
    "udf = pd.read_pickle('dataset_social_final_finish.pkl')"
   ]
  },
  {
   "cell_type": "code",
   "execution_count": 4,
   "metadata": {},
   "outputs": [
    {
     "data": {
      "text/plain": [
       "Index(['id_community', 'id_post', 'date_posted', 'count_likes', 'count_views',\n",
       "       'count_comments', 'count_reposts', 'text_post', 'image_url', 'post_url',\n",
       "       'type_post', 'text_ocr_image', 'size_text_ocr', 'spell_text_ocr_image',\n",
       "       'sentiment_text_post_1', 'sentiment_text_post_2',\n",
       "       'level_sentiment_post_1', 'level_sentiment_post_2',\n",
       "       'sentiment_text_ocr_image_1', 'sentiment_text_ocr_image_2',\n",
       "       'level_sentiment_ocr_1', 'level_sentiment_ocr_2', 'description_image',\n",
       "       'spell_text_with_re', 'year', 'date', 'dayofweek', 'weekend',\n",
       "       'log_count_likes', 'log_count_views', 'log_count_comments',\n",
       "       'log_count_reposts'],\n",
       "      dtype='object')"
      ]
     },
     "execution_count": 4,
     "metadata": {},
     "output_type": "execute_result"
    }
   ],
   "source": [
    "udf.columns"
   ]
  },
  {
   "cell_type": "code",
   "execution_count": 31,
   "metadata": {},
   "outputs": [
    {
     "data": {
      "text/html": [
       "<div>\n",
       "<style scoped>\n",
       "    .dataframe tbody tr th:only-of-type {\n",
       "        vertical-align: middle;\n",
       "    }\n",
       "\n",
       "    .dataframe tbody tr th {\n",
       "        vertical-align: top;\n",
       "    }\n",
       "\n",
       "    .dataframe thead th {\n",
       "        text-align: right;\n",
       "    }\n",
       "</style>\n",
       "<table border=\"1\" class=\"dataframe\">\n",
       "  <thead>\n",
       "    <tr style=\"text-align: right;\">\n",
       "      <th></th>\n",
       "      <th>id_community</th>\n",
       "      <th>id_post</th>\n",
       "      <th>date_posted</th>\n",
       "      <th>count_likes</th>\n",
       "      <th>count_views</th>\n",
       "      <th>count_comments</th>\n",
       "      <th>count_reposts</th>\n",
       "      <th>text_post</th>\n",
       "      <th>image_url</th>\n",
       "      <th>post_url</th>\n",
       "      <th>...</th>\n",
       "      <th>level_sentiment_post_1</th>\n",
       "      <th>level_sentiment_post_2</th>\n",
       "      <th>sentiment_text_ocr_image_1</th>\n",
       "      <th>sentiment_text_ocr_image_2</th>\n",
       "      <th>level_sentiment_ocr_1</th>\n",
       "      <th>level_sentiment_ocr_2</th>\n",
       "      <th>description_image</th>\n",
       "      <th>spell_text_with_re</th>\n",
       "      <th>perc_unk_words</th>\n",
       "      <th>perc_unk_words_re</th>\n",
       "    </tr>\n",
       "  </thead>\n",
       "  <tbody>\n",
       "    <tr>\n",
       "      <th>145327</th>\n",
       "      <td>-25679656</td>\n",
       "      <td>1381060</td>\n",
       "      <td>2022-05-20 21:45:00</td>\n",
       "      <td>650</td>\n",
       "      <td>27621.0</td>\n",
       "      <td>38</td>\n",
       "      <td>258</td>\n",
       "      <td></td>\n",
       "      <td>https://sun1-29.userapi.com/s/v1/ig2/hQWOLWIWe...</td>\n",
       "      <td>https://vk.com/wall-25679656_1381060</td>\n",
       "      <td>...</td>\n",
       "      <td>NaN</td>\n",
       "      <td>NaN</td>\n",
       "      <td>neutral</td>\n",
       "      <td>negative</td>\n",
       "      <td>0.637041</td>\n",
       "      <td>0.132974</td>\n",
       "      <td>an image of a painting of a woman sitting at a...</td>\n",
       "      <td>вообще надо что-то делать для восстановления к...</td>\n",
       "      <td>0.142857</td>\n",
       "      <td>0.074074</td>\n",
       "    </tr>\n",
       "    <tr>\n",
       "      <th>145329</th>\n",
       "      <td>-25679656</td>\n",
       "      <td>1380815</td>\n",
       "      <td>2022-05-20 17:45:00</td>\n",
       "      <td>5131</td>\n",
       "      <td>156188.0</td>\n",
       "      <td>148</td>\n",
       "      <td>2719</td>\n",
       "      <td>Лучшее фото с марафона которое я видела</td>\n",
       "      <td>https://sun1-99.userapi.com/s/v1/ig2/NcDKjIlrg...</td>\n",
       "      <td>https://vk.com/wall-25679656_1380815</td>\n",
       "      <td>...</td>\n",
       "      <td>0.831153</td>\n",
       "      <td>0.55448</td>\n",
       "      <td></td>\n",
       "      <td></td>\n",
       "      <td>NaN</td>\n",
       "      <td>NaN</td>\n",
       "      <td>a group of people running a race on a bridge</td>\n",
       "      <td></td>\n",
       "      <td>NaN</td>\n",
       "      <td>NaN</td>\n",
       "    </tr>\n",
       "    <tr>\n",
       "      <th>145330</th>\n",
       "      <td>-25679656</td>\n",
       "      <td>1380689</td>\n",
       "      <td>2022-05-20 15:45:00</td>\n",
       "      <td>1955</td>\n",
       "      <td>74437.0</td>\n",
       "      <td>19</td>\n",
       "      <td>1193</td>\n",
       "      <td></td>\n",
       "      <td>https://sun1-87.userapi.com/s/v1/ig2/tlgjKfpbH...</td>\n",
       "      <td>https://vk.com/wall-25679656_1380689</td>\n",
       "      <td>...</td>\n",
       "      <td>NaN</td>\n",
       "      <td>NaN</td>\n",
       "      <td>neutral</td>\n",
       "      <td>negative</td>\n",
       "      <td>0.531219</td>\n",
       "      <td>0.233716</td>\n",
       "      <td>a black and white photo of a girl with a flowe...</td>\n",
       "      <td>может  тебе пора повзрослеть стать серьезной ...</td>\n",
       "      <td>0.285714</td>\n",
       "      <td>0.000000</td>\n",
       "    </tr>\n",
       "    <tr>\n",
       "      <th>145332</th>\n",
       "      <td>-25679656</td>\n",
       "      <td>1380414</td>\n",
       "      <td>2022-05-20 11:45:00</td>\n",
       "      <td>1163</td>\n",
       "      <td>62925.0</td>\n",
       "      <td>22</td>\n",
       "      <td>450</td>\n",
       "      <td></td>\n",
       "      <td>https://sun1-83.userapi.com/s/v1/ig2/uwK-IhnnO...</td>\n",
       "      <td>https://vk.com/wall-25679656_1380414</td>\n",
       "      <td>...</td>\n",
       "      <td>NaN</td>\n",
       "      <td>NaN</td>\n",
       "      <td>positive</td>\n",
       "      <td>skip</td>\n",
       "      <td>0.196836</td>\n",
       "      <td>0.100889</td>\n",
       "      <td>a picture of a group of kids and an old man wi...</td>\n",
       "      <td>это хогвартс место  где я буду относиться ко в...</td>\n",
       "      <td>0.294118</td>\n",
       "      <td>0.117647</td>\n",
       "    </tr>\n",
       "    <tr>\n",
       "      <th>145333</th>\n",
       "      <td>-25679656</td>\n",
       "      <td>1380248</td>\n",
       "      <td>2022-05-20 09:45:00</td>\n",
       "      <td>716</td>\n",
       "      <td>43814.0</td>\n",
       "      <td>11</td>\n",
       "      <td>290</td>\n",
       "      <td></td>\n",
       "      <td>https://sun1-13.userapi.com/s/v1/ig2/mU4ht7jDO...</td>\n",
       "      <td>https://vk.com/wall-25679656_1380248</td>\n",
       "      <td>...</td>\n",
       "      <td>NaN</td>\n",
       "      <td>NaN</td>\n",
       "      <td>neutral</td>\n",
       "      <td>positive</td>\n",
       "      <td>0.793116</td>\n",
       "      <td>0.152042</td>\n",
       "      <td>a cat laying on a blanket with its mouth open</td>\n",
       "      <td>я ставлю будильник на  будильник  будит меня в  я</td>\n",
       "      <td>0.416667</td>\n",
       "      <td>0.000000</td>\n",
       "    </tr>\n",
       "    <tr>\n",
       "      <th>...</th>\n",
       "      <td>...</td>\n",
       "      <td>...</td>\n",
       "      <td>...</td>\n",
       "      <td>...</td>\n",
       "      <td>...</td>\n",
       "      <td>...</td>\n",
       "      <td>...</td>\n",
       "      <td>...</td>\n",
       "      <td>...</td>\n",
       "      <td>...</td>\n",
       "      <td>...</td>\n",
       "      <td>...</td>\n",
       "      <td>...</td>\n",
       "      <td>...</td>\n",
       "      <td>...</td>\n",
       "      <td>...</td>\n",
       "      <td>...</td>\n",
       "      <td>...</td>\n",
       "      <td>...</td>\n",
       "      <td>...</td>\n",
       "      <td>...</td>\n",
       "    </tr>\n",
       "    <tr>\n",
       "      <th>202325</th>\n",
       "      <td>-25679656</td>\n",
       "      <td>1295</td>\n",
       "      <td>2012-04-28 23:04:00</td>\n",
       "      <td>3580</td>\n",
       "      <td>NaN</td>\n",
       "      <td>0</td>\n",
       "      <td>808</td>\n",
       "      <td></td>\n",
       "      <td>https://sun1-98.userapi.com/s/v1/if1/CEkLj76-9...</td>\n",
       "      <td>https://vk.com/wall-25679656_1295</td>\n",
       "      <td>...</td>\n",
       "      <td>NaN</td>\n",
       "      <td>NaN</td>\n",
       "      <td>negative</td>\n",
       "      <td>skip</td>\n",
       "      <td>0.476590</td>\n",
       "      <td>0.320831</td>\n",
       "      <td>a picture of a face on a yellow</td>\n",
       "      <td>ты сова иа и жаворонок судя по ритму жизни я з...</td>\n",
       "      <td>0.272727</td>\n",
       "      <td>0.000000</td>\n",
       "    </tr>\n",
       "    <tr>\n",
       "      <th>202326</th>\n",
       "      <td>-25679656</td>\n",
       "      <td>1294</td>\n",
       "      <td>2012-04-28 22:56:00</td>\n",
       "      <td>2975</td>\n",
       "      <td>NaN</td>\n",
       "      <td>0</td>\n",
       "      <td>615</td>\n",
       "      <td></td>\n",
       "      <td>https://sun1-86.userapi.com/s/v1/if1/vTvuk_fC_...</td>\n",
       "      <td>https://vk.com/wall-25679656_1294</td>\n",
       "      <td>...</td>\n",
       "      <td>NaN</td>\n",
       "      <td>NaN</td>\n",
       "      <td>neutral</td>\n",
       "      <td>negative</td>\n",
       "      <td>0.173298</td>\n",
       "      <td>0.164526</td>\n",
       "      <td>a drawing of a woman with a bottle</td>\n",
       "      <td>и запомни золушка ровно в  часов ночи волшебст...</td>\n",
       "      <td>0.200000</td>\n",
       "      <td>0.071429</td>\n",
       "    </tr>\n",
       "    <tr>\n",
       "      <th>202327</th>\n",
       "      <td>-25679656</td>\n",
       "      <td>1293</td>\n",
       "      <td>2012-04-28 22:54:00</td>\n",
       "      <td>3066</td>\n",
       "      <td>NaN</td>\n",
       "      <td>0</td>\n",
       "      <td>559</td>\n",
       "      <td></td>\n",
       "      <td>https://sun1-15.userapi.com/s/v1/if1/mnS8dQkvt...</td>\n",
       "      <td>https://vk.com/wall-25679656_1293</td>\n",
       "      <td>...</td>\n",
       "      <td>NaN</td>\n",
       "      <td>NaN</td>\n",
       "      <td>skip</td>\n",
       "      <td>positive</td>\n",
       "      <td>0.173298</td>\n",
       "      <td>0.067557</td>\n",
       "      <td>a man and a woman standing next to a suitcase</td>\n",
       "      <td>я вас аюби бы дебби</td>\n",
       "      <td>0.600000</td>\n",
       "      <td>0.400000</td>\n",
       "    </tr>\n",
       "    <tr>\n",
       "      <th>202328</th>\n",
       "      <td>-25679656</td>\n",
       "      <td>1289</td>\n",
       "      <td>2012-04-28 22:53:00</td>\n",
       "      <td>2973</td>\n",
       "      <td>NaN</td>\n",
       "      <td>0</td>\n",
       "      <td>595</td>\n",
       "      <td></td>\n",
       "      <td>https://sun1-99.userapi.com/s/v1/if1/mjTW_uMIv...</td>\n",
       "      <td>https://vk.com/wall-25679656_1289</td>\n",
       "      <td>...</td>\n",
       "      <td>NaN</td>\n",
       "      <td>NaN</td>\n",
       "      <td>skip</td>\n",
       "      <td>positive</td>\n",
       "      <td>0.334599</td>\n",
       "      <td>0.182436</td>\n",
       "      <td>a group of people sitting at a computer</td>\n",
       "      <td>пап а правда  что от общения в чатах на форума...</td>\n",
       "      <td>0.466667</td>\n",
       "      <td>0.071429</td>\n",
       "    </tr>\n",
       "    <tr>\n",
       "      <th>202329</th>\n",
       "      <td>-25679656</td>\n",
       "      <td>1285</td>\n",
       "      <td>2012-04-28 22:51:00</td>\n",
       "      <td>4163</td>\n",
       "      <td>NaN</td>\n",
       "      <td>0</td>\n",
       "      <td>885</td>\n",
       "      <td></td>\n",
       "      <td>https://sun1-97.userapi.com/s/v1/if1/jUVHfvQRE...</td>\n",
       "      <td>https://vk.com/wall-25679656_1285</td>\n",
       "      <td>...</td>\n",
       "      <td>NaN</td>\n",
       "      <td>NaN</td>\n",
       "      <td>negative</td>\n",
       "      <td>neutral</td>\n",
       "      <td>0.644235</td>\n",
       "      <td>0.191943</td>\n",
       "      <td>two men in suits shaking hands with each other</td>\n",
       "      <td>как жаль что вы наконец то уходите</td>\n",
       "      <td>0.125000</td>\n",
       "      <td>0.000000</td>\n",
       "    </tr>\n",
       "  </tbody>\n",
       "</table>\n",
       "<p>29068 rows × 26 columns</p>\n",
       "</div>"
      ],
      "text/plain": [
       "        id_community  id_post         date_posted  count_likes  count_views  \\\n",
       "145327     -25679656  1381060 2022-05-20 21:45:00          650      27621.0   \n",
       "145329     -25679656  1380815 2022-05-20 17:45:00         5131     156188.0   \n",
       "145330     -25679656  1380689 2022-05-20 15:45:00         1955      74437.0   \n",
       "145332     -25679656  1380414 2022-05-20 11:45:00         1163      62925.0   \n",
       "145333     -25679656  1380248 2022-05-20 09:45:00          716      43814.0   \n",
       "...              ...      ...                 ...          ...          ...   \n",
       "202325     -25679656     1295 2012-04-28 23:04:00         3580          NaN   \n",
       "202326     -25679656     1294 2012-04-28 22:56:00         2975          NaN   \n",
       "202327     -25679656     1293 2012-04-28 22:54:00         3066          NaN   \n",
       "202328     -25679656     1289 2012-04-28 22:53:00         2973          NaN   \n",
       "202329     -25679656     1285 2012-04-28 22:51:00         4163          NaN   \n",
       "\n",
       "        count_comments  count_reposts  \\\n",
       "145327              38            258   \n",
       "145329             148           2719   \n",
       "145330              19           1193   \n",
       "145332              22            450   \n",
       "145333              11            290   \n",
       "...                ...            ...   \n",
       "202325               0            808   \n",
       "202326               0            615   \n",
       "202327               0            559   \n",
       "202328               0            595   \n",
       "202329               0            885   \n",
       "\n",
       "                                      text_post  \\\n",
       "145327                                            \n",
       "145329  Лучшее фото с марафона которое я видела   \n",
       "145330                                            \n",
       "145332                                            \n",
       "145333                                            \n",
       "...                                         ...   \n",
       "202325                                            \n",
       "202326                                            \n",
       "202327                                            \n",
       "202328                                            \n",
       "202329                                            \n",
       "\n",
       "                                                image_url  \\\n",
       "145327  https://sun1-29.userapi.com/s/v1/ig2/hQWOLWIWe...   \n",
       "145329  https://sun1-99.userapi.com/s/v1/ig2/NcDKjIlrg...   \n",
       "145330  https://sun1-87.userapi.com/s/v1/ig2/tlgjKfpbH...   \n",
       "145332  https://sun1-83.userapi.com/s/v1/ig2/uwK-IhnnO...   \n",
       "145333  https://sun1-13.userapi.com/s/v1/ig2/mU4ht7jDO...   \n",
       "...                                                   ...   \n",
       "202325  https://sun1-98.userapi.com/s/v1/if1/CEkLj76-9...   \n",
       "202326  https://sun1-86.userapi.com/s/v1/if1/vTvuk_fC_...   \n",
       "202327  https://sun1-15.userapi.com/s/v1/if1/mnS8dQkvt...   \n",
       "202328  https://sun1-99.userapi.com/s/v1/if1/mjTW_uMIv...   \n",
       "202329  https://sun1-97.userapi.com/s/v1/if1/jUVHfvQRE...   \n",
       "\n",
       "                                    post_url  ... level_sentiment_post_1  \\\n",
       "145327  https://vk.com/wall-25679656_1381060  ...                    NaN   \n",
       "145329  https://vk.com/wall-25679656_1380815  ...               0.831153   \n",
       "145330  https://vk.com/wall-25679656_1380689  ...                    NaN   \n",
       "145332  https://vk.com/wall-25679656_1380414  ...                    NaN   \n",
       "145333  https://vk.com/wall-25679656_1380248  ...                    NaN   \n",
       "...                                      ...  ...                    ...   \n",
       "202325     https://vk.com/wall-25679656_1295  ...                    NaN   \n",
       "202326     https://vk.com/wall-25679656_1294  ...                    NaN   \n",
       "202327     https://vk.com/wall-25679656_1293  ...                    NaN   \n",
       "202328     https://vk.com/wall-25679656_1289  ...                    NaN   \n",
       "202329     https://vk.com/wall-25679656_1285  ...                    NaN   \n",
       "\n",
       "       level_sentiment_post_2  sentiment_text_ocr_image_1  \\\n",
       "145327                    NaN                     neutral   \n",
       "145329                0.55448                               \n",
       "145330                    NaN                     neutral   \n",
       "145332                    NaN                    positive   \n",
       "145333                    NaN                     neutral   \n",
       "...                       ...                         ...   \n",
       "202325                    NaN                    negative   \n",
       "202326                    NaN                     neutral   \n",
       "202327                    NaN                        skip   \n",
       "202328                    NaN                        skip   \n",
       "202329                    NaN                    negative   \n",
       "\n",
       "       sentiment_text_ocr_image_2 level_sentiment_ocr_1 level_sentiment_ocr_2  \\\n",
       "145327                   negative              0.637041              0.132974   \n",
       "145329                                              NaN                   NaN   \n",
       "145330                   negative              0.531219              0.233716   \n",
       "145332                       skip              0.196836              0.100889   \n",
       "145333                   positive              0.793116              0.152042   \n",
       "...                           ...                   ...                   ...   \n",
       "202325                       skip              0.476590              0.320831   \n",
       "202326                   negative              0.173298              0.164526   \n",
       "202327                   positive              0.173298              0.067557   \n",
       "202328                   positive              0.334599              0.182436   \n",
       "202329                    neutral              0.644235              0.191943   \n",
       "\n",
       "                                        description_image  \\\n",
       "145327  an image of a painting of a woman sitting at a...   \n",
       "145329       a group of people running a race on a bridge   \n",
       "145330  a black and white photo of a girl with a flowe...   \n",
       "145332  a picture of a group of kids and an old man wi...   \n",
       "145333      a cat laying on a blanket with its mouth open   \n",
       "...                                                   ...   \n",
       "202325                    a picture of a face on a yellow   \n",
       "202326                 a drawing of a woman with a bottle   \n",
       "202327      a man and a woman standing next to a suitcase   \n",
       "202328            a group of people sitting at a computer   \n",
       "202329     two men in suits shaking hands with each other   \n",
       "\n",
       "                                       spell_text_with_re perc_unk_words  \\\n",
       "145327  вообще надо что-то делать для восстановления к...       0.142857   \n",
       "145329                                                               NaN   \n",
       "145330   может  тебе пора повзрослеть стать серьезной ...       0.285714   \n",
       "145332  это хогвартс место  где я буду относиться ко в...       0.294118   \n",
       "145333  я ставлю будильник на  будильник  будит меня в  я       0.416667   \n",
       "...                                                   ...            ...   \n",
       "202325  ты сова иа и жаворонок судя по ритму жизни я з...       0.272727   \n",
       "202326  и запомни золушка ровно в  часов ночи волшебст...       0.200000   \n",
       "202327                                я вас аюби бы дебби       0.600000   \n",
       "202328  пап а правда  что от общения в чатах на форума...       0.466667   \n",
       "202329                как жаль что вы наконец то уходите        0.125000   \n",
       "\n",
       "       perc_unk_words_re  \n",
       "145327          0.074074  \n",
       "145329               NaN  \n",
       "145330          0.000000  \n",
       "145332          0.117647  \n",
       "145333          0.000000  \n",
       "...                  ...  \n",
       "202325          0.000000  \n",
       "202326          0.071429  \n",
       "202327          0.400000  \n",
       "202328          0.071429  \n",
       "202329          0.000000  \n",
       "\n",
       "[29068 rows x 26 columns]"
      ]
     },
     "execution_count": 31,
     "metadata": {},
     "output_type": "execute_result"
    }
   ],
   "source": [
    "df_test[df_test['description_image'].str.len() > 0]"
   ]
  },
  {
   "cell_type": "code",
   "execution_count": 5,
   "metadata": {},
   "outputs": [],
   "source": [
    "s1 = udf[udf['description_image'].str.len() > 0].loc[:4000, 'description_image']\n",
    "s2 = udf[udf['description_image'].str.len() > 0].loc[:4000, 'spell_text_with_re']\n",
    "e1 = embed_text(s1)\n",
    "e2 = embed_text(s2)"
   ]
  },
  {
   "cell_type": "code",
   "execution_count": null,
   "metadata": {},
   "outputs": [],
   "source": [
    "# npz"
   ]
  },
  {
   "cell_type": "code",
   "execution_count": 6,
   "metadata": {},
   "outputs": [],
   "source": [
    "def sim(e1, e2):\n",
    "    return 1 - np.arccos(sklearn.metrics.pairwise.cosine_similarity(e1, e2))/np.pi"
   ]
  },
  {
   "cell_type": "code",
   "execution_count": 15,
   "metadata": {},
   "outputs": [
    {
     "data": {
      "text/plain": [
       "<seaborn.axisgrid.FacetGrid at 0x7f92ec06b198>"
      ]
     },
     "execution_count": 15,
     "metadata": {},
     "output_type": "execute_result"
    },
    {
     "data": {
      "image/png": "[encoded data removed]",
      "text/plain": [
       "<Figure size 360x360 with 1 Axes>"
      ]
     },
     "metadata": {
      "needs_background": "light"
     },
     "output_type": "display_data"
    }
   ],
   "source": [
    "sns.displot(sim(e1, e2).diagonal())"
   ]
  },
  {
   "cell_type": "code",
   "execution_count": 10,
   "metadata": {},
   "outputs": [
    {
     "name": "stderr",
     "output_type": "stream",
     "text": [
      "/home/sergey/.local/lib/python3.6/site-packages/ipykernel_launcher.py:2: RuntimeWarning: invalid value encountered in arccos\n",
      "  \n"
     ]
    },
    {
     "data": {
      "text/plain": [
       "<seaborn.axisgrid.FacetGrid at 0x7fad46b78c88>"
      ]
     },
     "execution_count": 10,
     "metadata": {},
     "output_type": "execute_result"
    },
    {
     "data": {
      "image/png": "[encoded data removed]",
      "text/plain": [
       "<Figure size 360x360 with 1 Axes>"
      ]
     },
     "metadata": {
      "needs_background": "light"
     },
     "output_type": "display_data"
    }
   ],
   "source": [
    "sns.displot(sim(e1[:-1], e1[1:]).diagonal())"
   ]
  },
  {
   "cell_type": "code",
   "execution_count": 20,
   "metadata": {},
   "outputs": [
    {
     "name": "stderr",
     "output_type": "stream",
     "text": [
      "/home/sergey/.local/lib/python3.6/site-packages/ipykernel_launcher.py:2: RuntimeWarning: invalid value encountered in arccos\n",
      "  \n"
     ]
    },
    {
     "data": {
      "text/plain": [
       "<seaborn.axisgrid.FacetGrid at 0x7f92292bbf60>"
      ]
     },
     "execution_count": 20,
     "metadata": {},
     "output_type": "execute_result"
    },
    {
     "data": {
      "image/png": "[encoded data removed]",
      "text/plain": [
       "<Figure size 360x360 with 1 Axes>"
      ]
     },
     "metadata": {
      "needs_background": "light"
     },
     "output_type": "display_data"
    }
   ],
   "source": [
    "sns.displot(sim(e2[:-1], e2[1:]).diagonal())"
   ]
  },
  {
   "cell_type": "code",
   "execution_count": 18,
   "metadata": {},
   "outputs": [
    {
     "data": {
      "text/plain": [
       "<matplotlib.axes._subplots.AxesSubplot at 0x7f92281c5fd0>"
      ]
     },
     "execution_count": 18,
     "metadata": {},
     "output_type": "execute_result"
    },
    {
     "data": {
      "image/png": "[encoded data removed]",
      "text/plain": [
       "<Figure size 432x288 with 2 Axes>"
      ]
     },
     "metadata": {
      "needs_background": "light"
     },
     "output_type": "display_data"
    }
   ],
   "source": [
    "sns.heatmap(sim(e1, e2))"
   ]
  },
  {
   "cell_type": "code",
   "execution_count": null,
   "metadata": {},
   "outputs": [],
   "source": []
  },
  {
   "cell_type": "markdown",
   "metadata": {},
   "source": [
    "### Модель классификации популярности"
   ]
  },
  {
   "cell_type": "code",
   "execution_count": 9,
   "metadata": {},
   "outputs": [],
   "source": [
    "import os, random\n",
    "import matplotlib.pyplot as plt\n",
    "import numpy as np\n",
    "from keras.preprocessing import image"
   ]
  },
  {
   "cell_type": "code",
   "execution_count": 1,
   "metadata": {},
   "outputs": [],
   "source": [
    "check = ! ls /home/sergey/maga_diploma/models/popular/dataset/is_pop/*"
   ]
  },
  {
   "cell_type": "code",
   "execution_count": 2,
   "metadata": {},
   "outputs": [
    {
     "data": {
      "text/plain": [
       "'/home/sergey/maga_diploma/models/popular/dataset/is_pop/4ch_-95355317_1912286.jpg'"
      ]
     },
     "execution_count": 2,
     "metadata": {},
     "output_type": "execute_result"
    }
   ],
   "source": [
    "check[1]"
   ]
  },
  {
   "cell_type": "code",
   "execution_count": 10,
   "metadata": {},
   "outputs": [],
   "source": [
    "base_dir = '/home/sergey/maga_diploma/models/popular/dataset'\n",
    "pop_data_dir = os.path.join(base_dir, 'is_pop')\n",
    "notpop_data_dir = os.path.join(base_dir, 'not_pop')\n",
    "\n",
    "\n",
    "img_width, img_height = 224, 224"
   ]
  },
  {
   "cell_type": "code",
   "execution_count": 3,
   "metadata": {},
   "outputs": [],
   "source": [
    "from tensorflow.keras.applications import ResNet50\n",
    "\n",
    "img_width, img_height = 224, 224\n",
    "conv_base = ResNet50(weights='imagenet', \n",
    "                  include_top=False,\n",
    "                  input_shape=(img_width, img_height, 3))"
   ]
  },
  {
   "cell_type": "code",
   "execution_count": 56,
   "metadata": {},
   "outputs": [],
   "source": [
    "# Extract features\n",
    "import os, shutil\n",
    "from keras.preprocessing.image import ImageDataGenerator\n",
    "\n",
    "datagen = ImageDataGenerator(rescale=1./255)\n",
    "batch_size = 32\n",
    "\n",
    "def extract_features(directory, train_sample_count, valid_sample_count):\n",
    "    train_features = np.zeros(shape=(train_sample_count, 7, 7, 2048))  # Must be equal to the output of the convolutional base\n",
    "    train_labels = np.zeros(shape=(train_sample_count))\n",
    "    \n",
    "    valid_features = np.zeros(shape=(valid_sample_count, 7, 7, 2048))  # Must be equal to the output of the convolutional base\n",
    "    valid_labels = np.zeros(shape=(valid_sample_count))\n",
    "    \n",
    "    # Preprocess data\n",
    "    generator = datagen.flow_from_directory(directory,\n",
    "                                            target_size=(img_width,img_height),\n",
    "                                            batch_size = batch_size,\n",
    "                                            class_mode='binary',\n",
    "                                            shuffle=False)\n",
    "    # Pass data through convolutional base\n",
    "\n",
    "    i = 0\n",
    "    j = 0\n",
    "    print(train_features.shape, train_labels.shape, valid_features.shape, valid_labels.shape)\n",
    "    # print(generator.filenames)\n",
    "    for inputs_batch, labels_batch in generator:\n",
    "        # print(inputs_batch)\n",
    "        if i * batch_size < train_sample_count:\n",
    "            features_batch = conv_base.predict(inputs_batch)\n",
    "            train_features[i * batch_size: (i + 1) * batch_size] = features_batch\n",
    "            train_labels[i * batch_size: (i + 1) * batch_size] = labels_batch\n",
    "            i += 1\n",
    "        elif j * batch_size < valid_sample_count:\n",
    "            features_batch = conv_base.predict(inputs_batch)\n",
    "            valid_features[j * batch_size: (j + 1) * batch_size] = features_batch\n",
    "            valid_labels[j * batch_size: (j + 1) * batch_size] = labels_batch\n",
    "            j += 1\n",
    "        else:\n",
    "            break\n",
    "\n",
    "    return train_features, train_labels, valid_features, valid_labels"
   ]
  },
  {
   "cell_type": "code",
   "execution_count": null,
   "metadata": {},
   "outputs": [],
   "source": [
    "kek1, kek2, kek3, kek4 = extract_features(base_dir, 640, 320)"
   ]
  },
  {
   "cell_type": "code",
   "execution_count": 11,
   "metadata": {},
   "outputs": [],
   "source": [
    "import os, shutil\n",
    "from keras.preprocessing.image import ImageDataGenerator\n",
    "\n",
    "datagen = ImageDataGenerator(rescale=1./255)\n",
    "batch_size = 32"
   ]
  },
  {
   "cell_type": "code",
   "execution_count": 12,
   "metadata": {},
   "outputs": [
    {
     "name": "stdout",
     "output_type": "stream",
     "text": [
      "Found 39806 images belonging to 2 classes.\n"
     ]
    }
   ],
   "source": [
    "generator = datagen.flow_from_directory(base_dir,\n",
    "                                        target_size=(224,224),\n",
    "                                        batch_size = 32,\n",
    "                                        class_mode=None, shuffle=False)"
   ]
  },
  {
   "cell_type": "code",
   "execution_count": 5,
   "metadata": {},
   "outputs": [],
   "source": [
    "import pandas as pd\n",
    "import numpy as np\n",
    "import pickle\n",
    "import tensorflow as tf\n",
    "from tensorflow.keras import layers"
   ]
  },
  {
   "cell_type": "code",
   "execution_count": 21,
   "metadata": {},
   "outputs": [],
   "source": [
    "lst_pkls = ! ls /media/sergey/Transcend/Serega/maga_diplom/embeddings_features/feats_*.pkl"
   ]
  },
  {
   "cell_type": "code",
   "execution_count": 14,
   "metadata": {},
   "outputs": [
    {
     "data": {
      "text/plain": [
       "['/media/sergey/Transcend/Serega/maga_diplom/embeddings_features/feats_0.pkl',\n",
       " '/media/sergey/Transcend/Serega/maga_diplom/embeddings_features/feats_1.pkl',\n",
       " '/media/sergey/Transcend/Serega/maga_diplom/embeddings_features/feats_2.pkl',\n",
       " '/media/sergey/Transcend/Serega/maga_diplom/embeddings_features/feats_3.pkl',\n",
       " '/media/sergey/Transcend/Serega/maga_diplom/embeddings_features/feats_4.pkl',\n",
       " '/media/sergey/Transcend/Serega/maga_diplom/embeddings_features/feats_7.pkl']"
      ]
     },
     "execution_count": 14,
     "metadata": {},
     "output_type": "execute_result"
    }
   ],
   "source": [
    "lst_pkls"
   ]
  },
  {
   "cell_type": "code",
   "execution_count": 2,
   "metadata": {},
   "outputs": [],
   "source": [
    "for i, f in enumerate(lst_pkls):\n",
    "    with open(lst_pkls[0], 'rb') as f:\n",
    "        obj = pickle.load(f)"
   ]
  },
  {
   "cell_type": "code",
   "execution_count": 19,
   "metadata": {},
   "outputs": [],
   "source": [
    "pd.DataFrame(np.vstack(obj), index=ids[:6400], columns=list(map(lambda x: f'r{x:06d}', range(obj[0].shape[1])))).astype(pd.SparseDtype(\"float32\", 0)).to_csv(lst_pkls[0] + '.csv.bz2', compression='bz2')"
   ]
  },
  {
   "cell_type": "code",
   "execution_count": 1,
   "metadata": {},
   "outputs": [],
   "source": [
    "import os, random\n",
    "import matplotlib.pyplot as plt\n",
    "import numpy as np\n",
    "import pandas as pd\n",
    "from tqdm import tqdm\n",
    "import pickle\n",
    "from keras.preprocessing import image\n",
    "from tensorflow.keras.applications import ResNet50\n",
    "import os, shutil\n",
    "from keras.preprocessing.image import ImageDataGenerator"
   ]
  },
  {
   "cell_type": "code",
   "execution_count": 2,
   "metadata": {},
   "outputs": [
    {
     "name": "stdout",
     "output_type": "stream",
     "text": [
      "Found 39806 images belonging to 2 classes.\n"
     ]
    }
   ],
   "source": [
    "base_dir = '/home/sergey/maga_diploma/models/popular/dataset'\n",
    "out_dir = '/home/sergey/maga_diploma/models/popular/features'\n",
    "img_width, img_height = 224, 224\n",
    "conv_base = ResNet50(weights='imagenet', include_top=False, input_shape=(img_width, img_height, 3))\n",
    "n_features = 100352\n",
    "\n",
    "datagen = ImageDataGenerator(rescale=1./255)\n",
    "generator = datagen.flow_from_directory(base_dir,\n",
    "                                        target_size=(img_width, img_height),\n",
    "                                        batch_size = 1024,\n",
    "                                        class_mode=None, shuffle=False)"
   ]
  },
  {
   "cell_type": "code",
   "execution_count": 3,
   "metadata": {},
   "outputs": [],
   "source": [
    "ids = list(map(lambda img_name: '_'.join(img_name.rstrip('.jpg').split('/')[1].split('_')[-2:]), generator.filenames))"
   ]
  },
  {
   "cell_type": "code",
   "execution_count": 10,
   "metadata": {},
   "outputs": [
    {
     "data": {
      "text/plain": [
       "['-95355317_1912243',\n",
       " '-95355317_1912286',\n",
       " '-95355317_1912322',\n",
       " '-95355317_1912335',\n",
       " '-95355317_1912342',\n",
       " '-95355317_1912463',\n",
       " '-95355317_1912531',\n",
       " '-95355317_1912537',\n",
       " '-95355317_1912544',\n",
       " '-95355317_1912666']"
      ]
     },
     "execution_count": 10,
     "metadata": {},
     "output_type": "execute_result"
    }
   ],
   "source": [
    "ids[:10]"
   ]
  },
  {
   "cell_type": "code",
   "execution_count": 11,
   "metadata": {},
   "outputs": [
    {
     "data": {
      "text/plain": [
       "['-131489096_3006',\n",
       " '-131489096_3374',\n",
       " '-131489096_3947',\n",
       " '-131489096_4387',\n",
       " '-131489096_440',\n",
       " '-131489096_4815',\n",
       " '-131489096_511',\n",
       " '-131489096_5335',\n",
       " '-131489096_5527',\n",
       " '-131489096_5952']"
      ]
     },
     "execution_count": 11,
     "metadata": {},
     "output_type": "execute_result"
    }
   ],
   "source": [
    "ids[-10:]"
   ]
  },
  {
   "cell_type": "code",
   "execution_count": 3,
   "metadata": {},
   "outputs": [
    {
     "data": {
      "text/plain": [
       "39"
      ]
     },
     "execution_count": 3,
     "metadata": {},
     "output_type": "execute_result"
    }
   ],
   "source": [
    "len(generator)"
   ]
  },
  {
   "cell_type": "code",
   "execution_count": 18,
   "metadata": {},
   "outputs": [],
   "source": [
    "import torch\n",
    "import torch.nn as nn\n",
    "import torchvision.models as models\n",
    "import torchvision.transforms as transforms\n",
    "from torch.autograd import Variable\n",
    "from PIL import Image"
   ]
  },
  {
   "cell_type": "code",
   "execution_count": 19,
   "metadata": {},
   "outputs": [
    {
     "name": "stderr",
     "output_type": "stream",
     "text": [
      "/home/sergey/.local/lib/python3.6/site-packages/torchvision/transforms/transforms.py:318: UserWarning: The use of the transforms.Scale transform is deprecated, please use transforms.Resize instead.\n",
      "  \"please use transforms.Resize instead.\")\n"
     ]
    }
   ],
   "source": [
    "# Load the pretrained model\n",
    "model = models.resnet50(pretrained=True)\n",
    "\n",
    "# Use the model object to select the desired layer\n",
    "layer = model._modules.get('avgpool')\n",
    "\n",
    "# Set model to evaluation mode\n",
    "model.eval()\n",
    "# print(model)\n",
    "# Image transforms\n",
    "scaler = transforms.Scale((224, 224))\n",
    "normalize = transforms.Normalize(mean=[0.485, 0.456, 0.406], std=[0.229, 0.224, 0.225])\n",
    "to_tensor = transforms.ToTensor()\n",
    "\n",
    "def get_vector(image_name):\n",
    "    # 1. Load the image with Pillow library\n",
    "    img = Image.open(image_name)\n",
    "    # 2. Create a PyTorch Variable with the transformed image\n",
    "    t_img = Variable(normalize(to_tensor(scaler(img))).unsqueeze(0))\n",
    "    # 3. Create a vector of zeros that will hold our feature vector\n",
    "    #    The 'avgpool' layer has an output size of 512\n",
    "    my_embedding = torch.zeros(2048)\n",
    "    # 4. Define a function that will copy the output of a layer\n",
    "    def copy_data(m, i, o):\n",
    "        my_embedding.copy_(o.data.reshape(o.data.size(1)))\n",
    "    # 5. Attach that function to our selected layer\n",
    "    h = layer.register_forward_hook(copy_data)\n",
    "    # 6. Run the model on our transformed image\n",
    "    newmodel = torch.nn.Sequential(*(list(model.children())[:-1]))\n",
    "    newmodel(t_img)\n",
    "    # 7. Detach our copy function from the layer\n",
    "    h.remove()\n",
    "    # 8. Return the feature vector\n",
    "    return my_embedding.numpy()"
   ]
  },
  {
   "cell_type": "code",
   "execution_count": 14,
   "metadata": {
    "collapsed": true,
    "jupyter": {
     "outputs_hidden": true
    },
    "tags": []
   },
   "outputs": [
    {
     "name": "stdout",
     "output_type": "stream",
     "text": [
      "Sequential(\n",
      "  (0): Conv2d(3, 64, kernel_size=(7, 7), stride=(2, 2), padding=(3, 3), bias=False)\n",
      "  (1): BatchNorm2d(64, eps=1e-05, momentum=0.1, affine=True, track_running_stats=True)\n",
      "  (2): ReLU(inplace=True)\n",
      "  (3): MaxPool2d(kernel_size=3, stride=2, padding=1, dilation=1, ceil_mode=False)\n",
      "  (4): Sequential(\n",
      "    (0): Bottleneck(\n",
      "      (conv1): Conv2d(64, 64, kernel_size=(1, 1), stride=(1, 1), bias=False)\n",
      "      (bn1): BatchNorm2d(64, eps=1e-05, momentum=0.1, affine=True, track_running_stats=True)\n",
      "      (conv2): Conv2d(64, 64, kernel_size=(3, 3), stride=(1, 1), padding=(1, 1), bias=False)\n",
      "      (bn2): BatchNorm2d(64, eps=1e-05, momentum=0.1, affine=True, track_running_stats=True)\n",
      "      (conv3): Conv2d(64, 256, kernel_size=(1, 1), stride=(1, 1), bias=False)\n",
      "      (bn3): BatchNorm2d(256, eps=1e-05, momentum=0.1, affine=True, track_running_stats=True)\n",
      "      (relu): ReLU(inplace=True)\n",
      "      (downsample): Sequential(\n",
      "        (0): Conv2d(64, 256, kernel_size=(1, 1), stride=(1, 1), bias=False)\n",
      "        (1): BatchNorm2d(256, eps=1e-05, momentum=0.1, affine=True, track_running_stats=True)\n",
      "      )\n",
      "    )\n",
      "    (1): Bottleneck(\n",
      "      (conv1): Conv2d(256, 64, kernel_size=(1, 1), stride=(1, 1), bias=False)\n",
      "      (bn1): BatchNorm2d(64, eps=1e-05, momentum=0.1, affine=True, track_running_stats=True)\n",
      "      (conv2): Conv2d(64, 64, kernel_size=(3, 3), stride=(1, 1), padding=(1, 1), bias=False)\n",
      "      (bn2): BatchNorm2d(64, eps=1e-05, momentum=0.1, affine=True, track_running_stats=True)\n",
      "      (conv3): Conv2d(64, 256, kernel_size=(1, 1), stride=(1, 1), bias=False)\n",
      "      (bn3): BatchNorm2d(256, eps=1e-05, momentum=0.1, affine=True, track_running_stats=True)\n",
      "      (relu): ReLU(inplace=True)\n",
      "    )\n",
      "    (2): Bottleneck(\n",
      "      (conv1): Conv2d(256, 64, kernel_size=(1, 1), stride=(1, 1), bias=False)\n",
      "      (bn1): BatchNorm2d(64, eps=1e-05, momentum=0.1, affine=True, track_running_stats=True)\n",
      "      (conv2): Conv2d(64, 64, kernel_size=(3, 3), stride=(1, 1), padding=(1, 1), bias=False)\n",
      "      (bn2): BatchNorm2d(64, eps=1e-05, momentum=0.1, affine=True, track_running_stats=True)\n",
      "      (conv3): Conv2d(64, 256, kernel_size=(1, 1), stride=(1, 1), bias=False)\n",
      "      (bn3): BatchNorm2d(256, eps=1e-05, momentum=0.1, affine=True, track_running_stats=True)\n",
      "      (relu): ReLU(inplace=True)\n",
      "    )\n",
      "  )\n",
      "  (5): Sequential(\n",
      "    (0): Bottleneck(\n",
      "      (conv1): Conv2d(256, 128, kernel_size=(1, 1), stride=(1, 1), bias=False)\n",
      "      (bn1): BatchNorm2d(128, eps=1e-05, momentum=0.1, affine=True, track_running_stats=True)\n",
      "      (conv2): Conv2d(128, 128, kernel_size=(3, 3), stride=(2, 2), padding=(1, 1), bias=False)\n",
      "      (bn2): BatchNorm2d(128, eps=1e-05, momentum=0.1, affine=True, track_running_stats=True)\n",
      "      (conv3): Conv2d(128, 512, kernel_size=(1, 1), stride=(1, 1), bias=False)\n",
      "      (bn3): BatchNorm2d(512, eps=1e-05, momentum=0.1, affine=True, track_running_stats=True)\n",
      "      (relu): ReLU(inplace=True)\n",
      "      (downsample): Sequential(\n",
      "        (0): Conv2d(256, 512, kernel_size=(1, 1), stride=(2, 2), bias=False)\n",
      "        (1): BatchNorm2d(512, eps=1e-05, momentum=0.1, affine=True, track_running_stats=True)\n",
      "      )\n",
      "    )\n",
      "    (1): Bottleneck(\n",
      "      (conv1): Conv2d(512, 128, kernel_size=(1, 1), stride=(1, 1), bias=False)\n",
      "      (bn1): BatchNorm2d(128, eps=1e-05, momentum=0.1, affine=True, track_running_stats=True)\n",
      "      (conv2): Conv2d(128, 128, kernel_size=(3, 3), stride=(1, 1), padding=(1, 1), bias=False)\n",
      "      (bn2): BatchNorm2d(128, eps=1e-05, momentum=0.1, affine=True, track_running_stats=True)\n",
      "      (conv3): Conv2d(128, 512, kernel_size=(1, 1), stride=(1, 1), bias=False)\n",
      "      (bn3): BatchNorm2d(512, eps=1e-05, momentum=0.1, affine=True, track_running_stats=True)\n",
      "      (relu): ReLU(inplace=True)\n",
      "    )\n",
      "    (2): Bottleneck(\n",
      "      (conv1): Conv2d(512, 128, kernel_size=(1, 1), stride=(1, 1), bias=False)\n",
      "      (bn1): BatchNorm2d(128, eps=1e-05, momentum=0.1, affine=True, track_running_stats=True)\n",
      "      (conv2): Conv2d(128, 128, kernel_size=(3, 3), stride=(1, 1), padding=(1, 1), bias=False)\n",
      "      (bn2): BatchNorm2d(128, eps=1e-05, momentum=0.1, affine=True, track_running_stats=True)\n",
      "      (conv3): Conv2d(128, 512, kernel_size=(1, 1), stride=(1, 1), bias=False)\n",
      "      (bn3): BatchNorm2d(512, eps=1e-05, momentum=0.1, affine=True, track_running_stats=True)\n",
      "      (relu): ReLU(inplace=True)\n",
      "    )\n",
      "    (3): Bottleneck(\n",
      "      (conv1): Conv2d(512, 128, kernel_size=(1, 1), stride=(1, 1), bias=False)\n",
      "      (bn1): BatchNorm2d(128, eps=1e-05, momentum=0.1, affine=True, track_running_stats=True)\n",
      "      (conv2): Conv2d(128, 128, kernel_size=(3, 3), stride=(1, 1), padding=(1, 1), bias=False)\n",
      "      (bn2): BatchNorm2d(128, eps=1e-05, momentum=0.1, affine=True, track_running_stats=True)\n",
      "      (conv3): Conv2d(128, 512, kernel_size=(1, 1), stride=(1, 1), bias=False)\n",
      "      (bn3): BatchNorm2d(512, eps=1e-05, momentum=0.1, affine=True, track_running_stats=True)\n",
      "      (relu): ReLU(inplace=True)\n",
      "    )\n",
      "  )\n",
      "  (6): Sequential(\n",
      "    (0): Bottleneck(\n",
      "      (conv1): Conv2d(512, 256, kernel_size=(1, 1), stride=(1, 1), bias=False)\n",
      "      (bn1): BatchNorm2d(256, eps=1e-05, momentum=0.1, affine=True, track_running_stats=True)\n",
      "      (conv2): Conv2d(256, 256, kernel_size=(3, 3), stride=(2, 2), padding=(1, 1), bias=False)\n",
      "      (bn2): BatchNorm2d(256, eps=1e-05, momentum=0.1, affine=True, track_running_stats=True)\n",
      "      (conv3): Conv2d(256, 1024, kernel_size=(1, 1), stride=(1, 1), bias=False)\n",
      "      (bn3): BatchNorm2d(1024, eps=1e-05, momentum=0.1, affine=True, track_running_stats=True)\n",
      "      (relu): ReLU(inplace=True)\n",
      "      (downsample): Sequential(\n",
      "        (0): Conv2d(512, 1024, kernel_size=(1, 1), stride=(2, 2), bias=False)\n",
      "        (1): BatchNorm2d(1024, eps=1e-05, momentum=0.1, affine=True, track_running_stats=True)\n",
      "      )\n",
      "    )\n",
      "    (1): Bottleneck(\n",
      "      (conv1): Conv2d(1024, 256, kernel_size=(1, 1), stride=(1, 1), bias=False)\n",
      "      (bn1): BatchNorm2d(256, eps=1e-05, momentum=0.1, affine=True, track_running_stats=True)\n",
      "      (conv2): Conv2d(256, 256, kernel_size=(3, 3), stride=(1, 1), padding=(1, 1), bias=False)\n",
      "      (bn2): BatchNorm2d(256, eps=1e-05, momentum=0.1, affine=True, track_running_stats=True)\n",
      "      (conv3): Conv2d(256, 1024, kernel_size=(1, 1), stride=(1, 1), bias=False)\n",
      "      (bn3): BatchNorm2d(1024, eps=1e-05, momentum=0.1, affine=True, track_running_stats=True)\n",
      "      (relu): ReLU(inplace=True)\n",
      "    )\n",
      "    (2): Bottleneck(\n",
      "      (conv1): Conv2d(1024, 256, kernel_size=(1, 1), stride=(1, 1), bias=False)\n",
      "      (bn1): BatchNorm2d(256, eps=1e-05, momentum=0.1, affine=True, track_running_stats=True)\n",
      "      (conv2): Conv2d(256, 256, kernel_size=(3, 3), stride=(1, 1), padding=(1, 1), bias=False)\n",
      "      (bn2): BatchNorm2d(256, eps=1e-05, momentum=0.1, affine=True, track_running_stats=True)\n",
      "      (conv3): Conv2d(256, 1024, kernel_size=(1, 1), stride=(1, 1), bias=False)\n",
      "      (bn3): BatchNorm2d(1024, eps=1e-05, momentum=0.1, affine=True, track_running_stats=True)\n",
      "      (relu): ReLU(inplace=True)\n",
      "    )\n",
      "    (3): Bottleneck(\n",
      "      (conv1): Conv2d(1024, 256, kernel_size=(1, 1), stride=(1, 1), bias=False)\n",
      "      (bn1): BatchNorm2d(256, eps=1e-05, momentum=0.1, affine=True, track_running_stats=True)\n",
      "      (conv2): Conv2d(256, 256, kernel_size=(3, 3), stride=(1, 1), padding=(1, 1), bias=False)\n",
      "      (bn2): BatchNorm2d(256, eps=1e-05, momentum=0.1, affine=True, track_running_stats=True)\n",
      "      (conv3): Conv2d(256, 1024, kernel_size=(1, 1), stride=(1, 1), bias=False)\n",
      "      (bn3): BatchNorm2d(1024, eps=1e-05, momentum=0.1, affine=True, track_running_stats=True)\n",
      "      (relu): ReLU(inplace=True)\n",
      "    )\n",
      "    (4): Bottleneck(\n",
      "      (conv1): Conv2d(1024, 256, kernel_size=(1, 1), stride=(1, 1), bias=False)\n",
      "      (bn1): BatchNorm2d(256, eps=1e-05, momentum=0.1, affine=True, track_running_stats=True)\n",
      "      (conv2): Conv2d(256, 256, kernel_size=(3, 3), stride=(1, 1), padding=(1, 1), bias=False)\n",
      "      (bn2): BatchNorm2d(256, eps=1e-05, momentum=0.1, affine=True, track_running_stats=True)\n",
      "      (conv3): Conv2d(256, 1024, kernel_size=(1, 1), stride=(1, 1), bias=False)\n",
      "      (bn3): BatchNorm2d(1024, eps=1e-05, momentum=0.1, affine=True, track_running_stats=True)\n",
      "      (relu): ReLU(inplace=True)\n",
      "    )\n",
      "    (5): Bottleneck(\n",
      "      (conv1): Conv2d(1024, 256, kernel_size=(1, 1), stride=(1, 1), bias=False)\n",
      "      (bn1): BatchNorm2d(256, eps=1e-05, momentum=0.1, affine=True, track_running_stats=True)\n",
      "      (conv2): Conv2d(256, 256, kernel_size=(3, 3), stride=(1, 1), padding=(1, 1), bias=False)\n",
      "      (bn2): BatchNorm2d(256, eps=1e-05, momentum=0.1, affine=True, track_running_stats=True)\n",
      "      (conv3): Conv2d(256, 1024, kernel_size=(1, 1), stride=(1, 1), bias=False)\n",
      "      (bn3): BatchNorm2d(1024, eps=1e-05, momentum=0.1, affine=True, track_running_stats=True)\n",
      "      (relu): ReLU(inplace=True)\n",
      "    )\n",
      "  )\n",
      "  (7): Sequential(\n",
      "    (0): Bottleneck(\n",
      "      (conv1): Conv2d(1024, 512, kernel_size=(1, 1), stride=(1, 1), bias=False)\n",
      "      (bn1): BatchNorm2d(512, eps=1e-05, momentum=0.1, affine=True, track_running_stats=True)\n",
      "      (conv2): Conv2d(512, 512, kernel_size=(3, 3), stride=(2, 2), padding=(1, 1), bias=False)\n",
      "      (bn2): BatchNorm2d(512, eps=1e-05, momentum=0.1, affine=True, track_running_stats=True)\n",
      "      (conv3): Conv2d(512, 2048, kernel_size=(1, 1), stride=(1, 1), bias=False)\n",
      "      (bn3): BatchNorm2d(2048, eps=1e-05, momentum=0.1, affine=True, track_running_stats=True)\n",
      "      (relu): ReLU(inplace=True)\n",
      "      (downsample): Sequential(\n",
      "        (0): Conv2d(1024, 2048, kernel_size=(1, 1), stride=(2, 2), bias=False)\n",
      "        (1): BatchNorm2d(2048, eps=1e-05, momentum=0.1, affine=True, track_running_stats=True)\n",
      "      )\n",
      "    )\n",
      "    (1): Bottleneck(\n",
      "      (conv1): Conv2d(2048, 512, kernel_size=(1, 1), stride=(1, 1), bias=False)\n",
      "      (bn1): BatchNorm2d(512, eps=1e-05, momentum=0.1, affine=True, track_running_stats=True)\n",
      "      (conv2): Conv2d(512, 512, kernel_size=(3, 3), stride=(1, 1), padding=(1, 1), bias=False)\n",
      "      (bn2): BatchNorm2d(512, eps=1e-05, momentum=0.1, affine=True, track_running_stats=True)\n",
      "      (conv3): Conv2d(512, 2048, kernel_size=(1, 1), stride=(1, 1), bias=False)\n",
      "      (bn3): BatchNorm2d(2048, eps=1e-05, momentum=0.1, affine=True, track_running_stats=True)\n",
      "      (relu): ReLU(inplace=True)\n",
      "    )\n",
      "    (2): Bottleneck(\n",
      "      (conv1): Conv2d(2048, 512, kernel_size=(1, 1), stride=(1, 1), bias=False)\n",
      "      (bn1): BatchNorm2d(512, eps=1e-05, momentum=0.1, affine=True, track_running_stats=True)\n",
      "      (conv2): Conv2d(512, 512, kernel_size=(3, 3), stride=(1, 1), padding=(1, 1), bias=False)\n",
      "      (bn2): BatchNorm2d(512, eps=1e-05, momentum=0.1, affine=True, track_running_stats=True)\n",
      "      (conv3): Conv2d(512, 2048, kernel_size=(1, 1), stride=(1, 1), bias=False)\n",
      "      (bn3): BatchNorm2d(2048, eps=1e-05, momentum=0.1, affine=True, track_running_stats=True)\n",
      "      (relu): ReLU(inplace=True)\n",
      "    )\n",
      "  )\n",
      "  (8): AdaptiveAvgPool2d(output_size=(1, 1))\n",
      ")\n"
     ]
    }
   ],
   "source": [
    "newmodel = torch.nn.Sequential(*(list(model.children())[:-1]))\n",
    "print(newmodel)"
   ]
  },
  {
   "cell_type": "code",
   "execution_count": 20,
   "metadata": {},
   "outputs": [],
   "source": [
    "imgs1 = ! ls /home/sergey/maga_diploma/models/popular/dataset/is_pop/*"
   ]
  },
  {
   "cell_type": "code",
   "execution_count": 21,
   "metadata": {},
   "outputs": [],
   "source": [
    "imgs2 = ! ls /home/sergey/maga_diploma/models/popular/dataset/not_pop/*"
   ]
  },
  {
   "cell_type": "code",
   "execution_count": 22,
   "metadata": {},
   "outputs": [],
   "source": [
    "lst_imgs = imgs1 + imgs2"
   ]
  },
  {
   "cell_type": "code",
   "execution_count": 12,
   "metadata": {},
   "outputs": [
    {
     "data": {
      "text/plain": [
       "'/home/sergey/maga_diploma/models/popular/dataset/not_pop/weirdreparametrizationtrick_-131489096_5038.jpg'"
      ]
     },
     "execution_count": 12,
     "metadata": {},
     "output_type": "execute_result"
    }
   ],
   "source": [
    "lst_imgs[-1]"
   ]
  },
  {
   "cell_type": "code",
   "execution_count": null,
   "metadata": {},
   "outputs": [],
   "source": []
  },
  {
   "cell_type": "code",
   "execution_count": null,
   "metadata": {},
   "outputs": [
    {
     "data": {
      "text/plain": [
       "array([0.5361881 , 0.3498943 , 1.5066544 , ..., 0.20216975, 0.04845281,\n",
       "       0.12976383], dtype=float32)"
      ]
     },
     "execution_count": 27,
     "metadata": {},
     "output_type": "execute_result"
    }
   ],
   "source": [
    "# for index, row in tqdm(final_df.iterrows()):\n",
    "get_vector('/home/sergey/maga_diploma/models/popular/dataset/is_pop/4ch_-95355317_1912243.jpg')"
   ]
  },
  {
   "cell_type": "code",
   "execution_count": 25,
   "metadata": {},
   "outputs": [
    {
     "data": {
      "text/plain": [
       "array([0.5361881 , 0.3498943 , 1.5066544 , ..., 0.20216975, 0.04845281,\n",
       "       0.12976383], dtype=float32)"
      ]
     },
     "execution_count": 25,
     "metadata": {},
     "output_type": "execute_result"
    }
   ],
   "source": [
    "get_vector('/home/sergey/maga_diploma/models/popular/dataset/is_pop/4ch_-95355317_1912243.jpg')"
   ]
  },
  {
   "cell_type": "code",
   "execution_count": 38,
   "metadata": {},
   "outputs": [
    {
     "name": "stdout",
     "output_type": "stream",
     "text": [
      "/home/sergey/maga_diploma/models/popular/dataset/is_pop/4ch_-95355317_1912243.jpg\n"
     ]
    }
   ],
   "source": [
    "for img in lst_imgs:\n",
    "    print(img)\n",
    "    break"
   ]
  },
  {
   "cell_type": "code",
   "execution_count": 42,
   "metadata": {},
   "outputs": [
    {
     "data": {
      "text/html": [
       "<div>\n",
       "<style scoped>\n",
       "    .dataframe tbody tr th:only-of-type {\n",
       "        vertical-align: middle;\n",
       "    }\n",
       "\n",
       "    .dataframe tbody tr th {\n",
       "        vertical-align: top;\n",
       "    }\n",
       "\n",
       "    .dataframe thead th {\n",
       "        text-align: right;\n",
       "    }\n",
       "</style>\n",
       "<table border=\"1\" class=\"dataframe\">\n",
       "  <thead>\n",
       "    <tr style=\"text-align: right;\">\n",
       "      <th></th>\n",
       "      <th>e0000</th>\n",
       "      <th>e0001</th>\n",
       "      <th>e0002</th>\n",
       "      <th>e0003</th>\n",
       "      <th>e0004</th>\n",
       "      <th>e0005</th>\n",
       "      <th>e0006</th>\n",
       "      <th>e0007</th>\n",
       "      <th>e0008</th>\n",
       "      <th>e0009</th>\n",
       "      <th>...</th>\n",
       "      <th>e1014</th>\n",
       "      <th>e1015</th>\n",
       "      <th>e1016</th>\n",
       "      <th>e1017</th>\n",
       "      <th>e1018</th>\n",
       "      <th>e1019</th>\n",
       "      <th>e1020</th>\n",
       "      <th>e1021</th>\n",
       "      <th>e1022</th>\n",
       "      <th>e1023</th>\n",
       "    </tr>\n",
       "  </thead>\n",
       "  <tbody>\n",
       "    <tr>\n",
       "      <th>-95355317_1912243</th>\n",
       "      <td>-0.036852</td>\n",
       "      <td>-0.042962</td>\n",
       "      <td>-0.015249</td>\n",
       "      <td>0.066069</td>\n",
       "      <td>-0.057772</td>\n",
       "      <td>-0.016043</td>\n",
       "      <td>-0.015388</td>\n",
       "      <td>-0.036241</td>\n",
       "      <td>0.039223</td>\n",
       "      <td>0.021916</td>\n",
       "      <td>...</td>\n",
       "      <td>-0.052106</td>\n",
       "      <td>0.037163</td>\n",
       "      <td>-0.049161</td>\n",
       "      <td>0.075815</td>\n",
       "      <td>0.014216</td>\n",
       "      <td>-0.061854</td>\n",
       "      <td>-0.042947</td>\n",
       "      <td>0.007784</td>\n",
       "      <td>0.008634</td>\n",
       "      <td>0.093152</td>\n",
       "    </tr>\n",
       "  </tbody>\n",
       "</table>\n",
       "<p>1 rows × 1024 columns</p>\n",
       "</div>"
      ],
      "text/plain": [
       "                      e0000     e0001     e0002     e0003     e0004     e0005  \\\n",
       "-95355317_1912243 -0.036852 -0.042962 -0.015249  0.066069 -0.057772 -0.016043   \n",
       "\n",
       "                      e0006     e0007     e0008     e0009  ...     e1014  \\\n",
       "-95355317_1912243 -0.015388 -0.036241  0.039223  0.021916  ... -0.052106   \n",
       "\n",
       "                      e1015     e1016     e1017     e1018     e1019     e1020  \\\n",
       "-95355317_1912243  0.037163 -0.049161  0.075815  0.014216 -0.061854 -0.042947   \n",
       "\n",
       "                      e1021     e1022     e1023  \n",
       "-95355317_1912243  0.007784  0.008634  0.093152  \n",
       "\n",
       "[1 rows x 1024 columns]"
      ]
     },
     "execution_count": 42,
     "metadata": {},
     "output_type": "execute_result"
    }
   ],
   "source": [
    "df_embed.loc[df_embed.index == '-95355317_1912243']"
   ]
  },
  {
   "cell_type": "code",
   "execution_count": null,
   "metadata": {},
   "outputs": [],
   "source": []
  },
  {
   "cell_type": "code",
   "execution_count": 23,
   "metadata": {},
   "outputs": [
    {
     "name": "stderr",
     "output_type": "stream",
     "text": [
      "  9%|▉         | 3001/32590 [03:22<30:25, 16.21it/s] "
     ]
    },
    {
     "name": "stdout",
     "output_type": "stream",
     "text": [
      "/home/sergey/maga_diploma/models/popular/dataset/is_pop/dayvinchik_-91050183_2440670.jpg\n"
     ]
    },
    {
     "name": "stderr",
     "output_type": "stream",
     "text": [
      " 13%|█▎        | 4238/32590 [04:41<25:29, 18.54it/s]"
     ]
    },
    {
     "name": "stdout",
     "output_type": "stream",
     "text": [
      "/home/sergey/maga_diploma/models/popular/dataset/is_pop/jokesss_-28468381_135343.jpg\n"
     ]
    },
    {
     "name": "stderr",
     "output_type": "stream",
     "text": [
      " 13%|█▎        | 4276/32590 [04:43<23:29, 20.09it/s]"
     ]
    },
    {
     "name": "stdout",
     "output_type": "stream",
     "text": [
      "/home/sergey/maga_diploma/models/popular/dataset/is_pop/jokesss_-28468381_137012.jpg\n",
      "/home/sergey/maga_diploma/models/popular/dataset/is_pop/jokesss_-28468381_137025.jpg\n"
     ]
    },
    {
     "name": "stderr",
     "output_type": "stream",
     "text": [
      " 13%|█▎        | 4324/32590 [04:46<27:11, 17.32it/s]"
     ]
    },
    {
     "name": "stdout",
     "output_type": "stream",
     "text": [
      "/home/sergey/maga_diploma/models/popular/dataset/is_pop/jokesss_-28468381_139330.jpg\n"
     ]
    },
    {
     "name": "stderr",
     "output_type": "stream",
     "text": [
      " 14%|█▍        | 4643/32590 [05:07<27:09, 17.15it/s]"
     ]
    },
    {
     "name": "stdout",
     "output_type": "stream",
     "text": [
      "/home/sergey/maga_diploma/models/popular/dataset/is_pop/jokesss_-28468381_196486.jpg\n"
     ]
    },
    {
     "name": "stderr",
     "output_type": "stream",
     "text": [
      " 15%|█▍        | 4784/32590 [05:16<25:42, 18.02it/s]"
     ]
    },
    {
     "name": "stdout",
     "output_type": "stream",
     "text": [
      "/home/sergey/maga_diploma/models/popular/dataset/is_pop/jokesss_-28468381_220785.jpg\n"
     ]
    },
    {
     "name": "stderr",
     "output_type": "stream",
     "text": [
      " 15%|█▍        | 4799/32590 [05:17<27:51, 16.63it/s]"
     ]
    },
    {
     "name": "stdout",
     "output_type": "stream",
     "text": [
      "/home/sergey/maga_diploma/models/popular/dataset/is_pop/jokesss_-28468381_222777.jpg\n"
     ]
    },
    {
     "name": "stderr",
     "output_type": "stream",
     "text": [
      " 15%|█▌        | 4940/32590 [05:26<28:37, 16.09it/s]"
     ]
    },
    {
     "name": "stdout",
     "output_type": "stream",
     "text": [
      "/home/sergey/maga_diploma/models/popular/dataset/is_pop/jokesss_-28468381_256434.jpg\n"
     ]
    },
    {
     "name": "stderr",
     "output_type": "stream",
     "text": [
      " 20%|██        | 6580/32590 [07:10<27:07, 15.98it/s]"
     ]
    },
    {
     "name": "stdout",
     "output_type": "stream",
     "text": [
      "/home/sergey/maga_diploma/models/popular/dataset/is_pop/mudakoff_-57846937_19623896.jpg\n"
     ]
    },
    {
     "name": "stderr",
     "output_type": "stream",
     "text": [
      " 22%|██▏       | 7025/32590 [07:38<24:13, 17.59it/s]"
     ]
    },
    {
     "name": "stdout",
     "output_type": "stream",
     "text": [
      "/home/sergey/maga_diploma/models/popular/dataset/is_pop/mudakoff_-57846937_22123466.jpg\n"
     ]
    },
    {
     "name": "stderr",
     "output_type": "stream",
     "text": [
      " 32%|███▏      | 10522/32590 [11:33<21:32, 17.08it/s]"
     ]
    },
    {
     "name": "stdout",
     "output_type": "stream",
     "text": [
      "/home/sergey/maga_diploma/models/popular/dataset/is_pop/mudakoff_-57846937_39278132.jpg\n"
     ]
    },
    {
     "name": "stderr",
     "output_type": "stream",
     "text": [
      " 37%|███▋      | 11969/32590 [13:05<19:26, 17.68it/s]"
     ]
    },
    {
     "name": "stdout",
     "output_type": "stream",
     "text": [
      "/home/sergey/maga_diploma/models/popular/dataset/is_pop/sarsar_-25679656_1034015.jpg\n"
     ]
    },
    {
     "name": "stderr",
     "output_type": "stream",
     "text": [
      " 37%|███▋      | 12098/32590 [13:14<20:56, 16.31it/s]"
     ]
    },
    {
     "name": "stdout",
     "output_type": "stream",
     "text": [
      "/home/sergey/maga_diploma/models/popular/dataset/is_pop/sarsar_-25679656_107972.jpg\n"
     ]
    },
    {
     "name": "stderr",
     "output_type": "stream",
     "text": [
      " 37%|███▋      | 12121/32590 [13:15<21:23, 15.95it/s]"
     ]
    },
    {
     "name": "stdout",
     "output_type": "stream",
     "text": [
      "/home/sergey/maga_diploma/models/popular/dataset/is_pop/sarsar_-25679656_108869.jpg\n"
     ]
    },
    {
     "name": "stderr",
     "output_type": "stream",
     "text": [
      " 41%|████▏     | 13514/32590 [14:47<18:07, 17.53it/s]"
     ]
    },
    {
     "name": "stdout",
     "output_type": "stream",
     "text": [
      "/home/sergey/maga_diploma/models/popular/dataset/is_pop/sarsar_-25679656_83882.jpg\n",
      "/home/sergey/maga_diploma/models/popular/dataset/is_pop/sarsar_-25679656_839477.jpg\n"
     ]
    },
    {
     "name": "stderr",
     "output_type": "stream",
     "text": [
      " 42%|████▏     | 13530/32590 [14:48<17:41, 17.96it/s]"
     ]
    },
    {
     "name": "stdout",
     "output_type": "stream",
     "text": [
      "/home/sergey/maga_diploma/models/popular/dataset/is_pop/sarsar_-25679656_84327.jpg\n"
     ]
    },
    {
     "name": "stderr",
     "output_type": "stream",
     "text": [
      " 42%|████▏     | 13669/32590 [14:57<18:58, 16.62it/s]"
     ]
    },
    {
     "name": "stdout",
     "output_type": "stream",
     "text": [
      "/home/sergey/maga_diploma/models/popular/dataset/is_pop/sarsar_-25679656_88274.jpg\n"
     ]
    },
    {
     "name": "stderr",
     "output_type": "stream",
     "text": [
      " 43%|████▎     | 14000/32590 [15:18<18:32, 16.72it/s]"
     ]
    },
    {
     "name": "stdout",
     "output_type": "stream",
     "text": [
      "/home/sergey/maga_diploma/models/popular/dataset/is_pop/sarsar_-25679656_98426.jpg\n"
     ]
    },
    {
     "name": "stderr",
     "output_type": "stream",
     "text": [
      " 47%|████▋     | 15387/32590 [16:50<15:24, 18.61it/s]"
     ]
    },
    {
     "name": "stdout",
     "output_type": "stream",
     "text": [
      "/home/sergey/maga_diploma/models/popular/dataset/is_pop/scolu_-158490202_245450.jpg\n"
     ]
    },
    {
     "name": "stderr",
     "output_type": "stream",
     "text": [
      " 47%|████▋     | 15432/32590 [16:52<15:01, 19.03it/s]"
     ]
    },
    {
     "name": "stdout",
     "output_type": "stream",
     "text": [
      "/home/sergey/maga_diploma/models/popular/dataset/is_pop/scolu_-158490202_323849.jpg\n"
     ]
    },
    {
     "name": "stderr",
     "output_type": "stream",
     "text": [
      " 47%|████▋     | 15477/32590 [16:55<14:43, 19.36it/s]"
     ]
    },
    {
     "name": "stdout",
     "output_type": "stream",
     "text": [
      "/home/sergey/maga_diploma/models/popular/dataset/is_pop/scolu_-158490202_450214.jpg\n"
     ]
    },
    {
     "name": "stderr",
     "output_type": "stream",
     "text": [
      " 48%|████▊     | 15654/32590 [17:06<15:14, 18.51it/s]"
     ]
    },
    {
     "name": "stdout",
     "output_type": "stream",
     "text": [
      "/home/sergey/maga_diploma/models/popular/dataset/is_pop/scolu_-158490202_829494.jpg\n"
     ]
    },
    {
     "name": "stderr",
     "output_type": "stream",
     "text": [
      " 48%|████▊     | 15719/32590 [17:10<15:10, 18.52it/s]"
     ]
    },
    {
     "name": "stdout",
     "output_type": "stream",
     "text": [
      "/home/sergey/maga_diploma/models/popular/dataset/is_pop/scolu_-158490202_939725.jpg\n"
     ]
    },
    {
     "name": "stderr",
     "output_type": "stream",
     "text": [
      " 48%|████▊     | 15748/32590 [17:11<15:15, 18.41it/s]"
     ]
    },
    {
     "name": "stdout",
     "output_type": "stream",
     "text": [
      "/home/sergey/maga_diploma/models/popular/dataset/is_pop/scolu_-158490202_982290.jpg\n"
     ]
    },
    {
     "name": "stderr",
     "output_type": "stream",
     "text": [
      " 52%|█████▏    | 17019/32590 [18:30<13:03, 19.87it/s]"
     ]
    },
    {
     "name": "stdout",
     "output_type": "stream",
     "text": [
      "/home/sergey/maga_diploma/models/popular/dataset/not_pop/4ch_-95355317_2007396.jpg\n"
     ]
    },
    {
     "name": "stderr",
     "output_type": "stream",
     "text": [
      " 61%|██████    | 19916/32590 [21:28<12:07, 17.41it/s]"
     ]
    },
    {
     "name": "stdout",
     "output_type": "stream",
     "text": [
      "/home/sergey/maga_diploma/models/popular/dataset/not_pop/jokesss_-28468381_132157.jpg\n"
     ]
    },
    {
     "name": "stderr",
     "output_type": "stream",
     "text": [
      " 62%|██████▏   | 20129/32590 [21:41<11:24, 18.19it/s]"
     ]
    },
    {
     "name": "stdout",
     "output_type": "stream",
     "text": [
      "/home/sergey/maga_diploma/models/popular/dataset/not_pop/jokesss_-28468381_137911.jpg\n"
     ]
    },
    {
     "name": "stderr",
     "output_type": "stream",
     "text": [
      " 62%|██████▏   | 20164/32590 [21:43<11:12, 18.47it/s]"
     ]
    },
    {
     "name": "stdout",
     "output_type": "stream",
     "text": [
      "/home/sergey/maga_diploma/models/popular/dataset/not_pop/jokesss_-28468381_138603.jpg\n"
     ]
    },
    {
     "name": "stderr",
     "output_type": "stream",
     "text": [
      " 62%|██████▏   | 20185/32590 [21:44<10:52, 19.00it/s]"
     ]
    },
    {
     "name": "stdout",
     "output_type": "stream",
     "text": [
      "/home/sergey/maga_diploma/models/popular/dataset/not_pop/jokesss_-28468381_139189.jpg\n"
     ]
    },
    {
     "name": "stderr",
     "output_type": "stream",
     "text": [
      " 62%|██████▏   | 20204/32590 [21:45<11:12, 18.41it/s]"
     ]
    },
    {
     "name": "stdout",
     "output_type": "stream",
     "text": [
      "/home/sergey/maga_diploma/models/popular/dataset/not_pop/jokesss_-28468381_139613.jpg\n"
     ]
    },
    {
     "name": "stderr",
     "output_type": "stream",
     "text": [
      " 63%|██████▎   | 20395/32590 [21:57<14:49, 13.71it/s]"
     ]
    },
    {
     "name": "stdout",
     "output_type": "stream",
     "text": [
      "/home/sergey/maga_diploma/models/popular/dataset/not_pop/jokesss_-28468381_160670.jpg\n"
     ]
    },
    {
     "name": "stderr",
     "output_type": "stream",
     "text": [
      " 67%|██████▋   | 21840/32590 [23:29<08:55, 20.06it/s]"
     ]
    },
    {
     "name": "stdout",
     "output_type": "stream",
     "text": [
      "/home/sergey/maga_diploma/models/popular/dataset/not_pop/jokesss_-28468381_92683.jpg\n"
     ]
    },
    {
     "name": "stderr",
     "output_type": "stream",
     "text": [
      " 67%|██████▋   | 21929/32590 [23:35<10:17, 17.26it/s]"
     ]
    },
    {
     "name": "stdout",
     "output_type": "stream",
     "text": [
      "/home/sergey/maga_diploma/models/popular/dataset/not_pop/mudakoff_-57846937_10359117.jpg\n"
     ]
    },
    {
     "name": "stderr",
     "output_type": "stream",
     "text": [
      " 68%|██████▊   | 22090/32590 [23:44<09:03, 19.32it/s]"
     ]
    },
    {
     "name": "stdout",
     "output_type": "stream",
     "text": [
      "/home/sergey/maga_diploma/models/popular/dataset/not_pop/mudakoff_-57846937_12899508.jpg\n"
     ]
    },
    {
     "name": "stderr",
     "output_type": "stream",
     "text": [
      " 81%|████████  | 26275/32590 [28:09<05:36, 18.76it/s]"
     ]
    },
    {
     "name": "stdout",
     "output_type": "stream",
     "text": [
      "/home/sergey/maga_diploma/models/popular/dataset/not_pop/mudakoff_-57846937_38545745.jpg\n"
     ]
    },
    {
     "name": "stderr",
     "output_type": "stream",
     "text": [
      " 86%|████████▌ | 28045/32590 [29:59<04:24, 17.17it/s]"
     ]
    },
    {
     "name": "stdout",
     "output_type": "stream",
     "text": [
      "/home/sergey/maga_diploma/models/popular/dataset/not_pop/sarsar_-25679656_101128.jpg\n"
     ]
    },
    {
     "name": "stderr",
     "output_type": "stream",
     "text": [
      " 87%|████████▋ | 28242/32590 [30:11<03:57, 18.34it/s]"
     ]
    },
    {
     "name": "stdout",
     "output_type": "stream",
     "text": [
      "/home/sergey/maga_diploma/models/popular/dataset/not_pop/sarsar_-25679656_106320.jpg\n"
     ]
    },
    {
     "name": "stderr",
     "output_type": "stream",
     "text": [
      " 88%|████████▊ | 28661/32590 [30:38<04:51, 13.48it/s]"
     ]
    },
    {
     "name": "stdout",
     "output_type": "stream",
     "text": [
      "/home/sergey/maga_diploma/models/popular/dataset/not_pop/sarsar_-25679656_115562.jpg\n"
     ]
    },
    {
     "name": "stderr",
     "output_type": "stream",
     "text": [
      " 91%|█████████ | 29594/32590 [31:38<02:48, 17.81it/s]"
     ]
    },
    {
     "name": "stdout",
     "output_type": "stream",
     "text": [
      "/home/sergey/maga_diploma/models/popular/dataset/not_pop/sarsar_-25679656_450628.jpg\n"
     ]
    },
    {
     "name": "stderr",
     "output_type": "stream",
     "text": [
      " 91%|█████████ | 29661/32590 [31:43<02:38, 18.52it/s]"
     ]
    },
    {
     "name": "stdout",
     "output_type": "stream",
     "text": [
      "/home/sergey/maga_diploma/models/popular/dataset/not_pop/sarsar_-25679656_524946.jpg\n"
     ]
    },
    {
     "name": "stderr",
     "output_type": "stream",
     "text": [
      " 92%|█████████▏| 29860/32590 [31:55<02:39, 17.13it/s]"
     ]
    },
    {
     "name": "stdout",
     "output_type": "stream",
     "text": [
      "/home/sergey/maga_diploma/models/popular/dataset/not_pop/sarsar_-25679656_727723.jpg\n"
     ]
    },
    {
     "name": "stderr",
     "output_type": "stream",
     "text": [
      "100%|█████████▉| 32529/32590 [34:44<00:03, 17.36it/s]"
     ]
    },
    {
     "name": "stdout",
     "output_type": "stream",
     "text": [
      "/home/sergey/maga_diploma/models/popular/dataset/not_pop/scolu_-158490202_929114.jpg\n"
     ]
    },
    {
     "name": "stderr",
     "output_type": "stream",
     "text": [
      "100%|██████████| 32590/32590 [34:47<00:00, 15.61it/s]\n"
     ]
    }
   ],
   "source": [
    "all_vec = []\n",
    "ids_feat = []\n",
    "for img in tqdm(lst_imgs):\n",
    "    try:\n",
    "        vec_img = get_vector(img)\n",
    "        full_id_path = '_'.join(img.rstrip('.jpg').split('/')[-1].split('_')[-2:])\n",
    "        ids_feat.append(full_id_path)\n",
    "        all_vec.append(vec_img)\n",
    "    except:\n",
    "        print(img)"
   ]
  },
  {
   "cell_type": "code",
   "execution_count": null,
   "metadata": {},
   "outputs": [],
   "source": [
    "ids_f = final_df.apply(ids_feat, axis=1)"
   ]
  },
  {
   "cell_type": "code",
   "execution_count": 22,
   "metadata": {},
   "outputs": [
    {
     "data": {
      "text/plain": [
       "2048"
      ]
     },
     "execution_count": 22,
     "metadata": {},
     "output_type": "execute_result"
    }
   ],
   "source": [
    "all_vec[0].shape[0]"
   ]
  },
  {
   "cell_type": "code",
   "execution_count": 16,
   "metadata": {},
   "outputs": [
    {
     "data": {
      "text/plain": [
       "(39700, 2048)"
      ]
     },
     "execution_count": 16,
     "metadata": {},
     "output_type": "execute_result"
    }
   ],
   "source": [
    "np.vstack(all_vec).shape"
   ]
  },
  {
   "cell_type": "code",
   "execution_count": 24,
   "metadata": {},
   "outputs": [],
   "source": [
    "df_ids_f = pd.DataFrame(ids_feat, columns =['full_id'])"
   ]
  },
  {
   "cell_type": "code",
   "execution_count": 25,
   "metadata": {},
   "outputs": [],
   "source": [
    "df_features = pd.DataFrame(np.vstack(all_vec), index=df_ids_f['full_id'], columns=list(map(lambda x: f'r{x:04d}', range(all_vec[0].shape[0]))))"
   ]
  },
  {
   "cell_type": "code",
   "execution_count": 26,
   "metadata": {},
   "outputs": [
    {
     "data": {
      "text/html": [
       "<div>\n",
       "<style scoped>\n",
       "    .dataframe tbody tr th:only-of-type {\n",
       "        vertical-align: middle;\n",
       "    }\n",
       "\n",
       "    .dataframe tbody tr th {\n",
       "        vertical-align: top;\n",
       "    }\n",
       "\n",
       "    .dataframe thead th {\n",
       "        text-align: right;\n",
       "    }\n",
       "</style>\n",
       "<table border=\"1\" class=\"dataframe\">\n",
       "  <thead>\n",
       "    <tr style=\"text-align: right;\">\n",
       "      <th></th>\n",
       "      <th>r0000</th>\n",
       "      <th>r0001</th>\n",
       "      <th>r0002</th>\n",
       "      <th>r0003</th>\n",
       "      <th>r0004</th>\n",
       "      <th>r0005</th>\n",
       "      <th>r0006</th>\n",
       "      <th>r0007</th>\n",
       "      <th>r0008</th>\n",
       "      <th>r0009</th>\n",
       "      <th>...</th>\n",
       "      <th>r2038</th>\n",
       "      <th>r2039</th>\n",
       "      <th>r2040</th>\n",
       "      <th>r2041</th>\n",
       "      <th>r2042</th>\n",
       "      <th>r2043</th>\n",
       "      <th>r2044</th>\n",
       "      <th>r2045</th>\n",
       "      <th>r2046</th>\n",
       "      <th>r2047</th>\n",
       "    </tr>\n",
       "    <tr>\n",
       "      <th>full_id</th>\n",
       "      <th></th>\n",
       "      <th></th>\n",
       "      <th></th>\n",
       "      <th></th>\n",
       "      <th></th>\n",
       "      <th></th>\n",
       "      <th></th>\n",
       "      <th></th>\n",
       "      <th></th>\n",
       "      <th></th>\n",
       "      <th></th>\n",
       "      <th></th>\n",
       "      <th></th>\n",
       "      <th></th>\n",
       "      <th></th>\n",
       "      <th></th>\n",
       "      <th></th>\n",
       "      <th></th>\n",
       "      <th></th>\n",
       "      <th></th>\n",
       "      <th></th>\n",
       "    </tr>\n",
       "  </thead>\n",
       "  <tbody>\n",
       "    <tr>\n",
       "      <th>-95355317_1912243</th>\n",
       "      <td>0.536188</td>\n",
       "      <td>0.349894</td>\n",
       "      <td>1.506654</td>\n",
       "      <td>0.283189</td>\n",
       "      <td>2.337270</td>\n",
       "      <td>0.174769</td>\n",
       "      <td>1.046770</td>\n",
       "      <td>0.533082</td>\n",
       "      <td>0.777308</td>\n",
       "      <td>0.590744</td>\n",
       "      <td>...</td>\n",
       "      <td>0.179661</td>\n",
       "      <td>0.416117</td>\n",
       "      <td>0.181666</td>\n",
       "      <td>0.384575</td>\n",
       "      <td>0.579714</td>\n",
       "      <td>0.051675</td>\n",
       "      <td>0.620378</td>\n",
       "      <td>0.202170</td>\n",
       "      <td>0.048453</td>\n",
       "      <td>0.129764</td>\n",
       "    </tr>\n",
       "    <tr>\n",
       "      <th>-95355317_1912265</th>\n",
       "      <td>0.003945</td>\n",
       "      <td>0.584910</td>\n",
       "      <td>0.377823</td>\n",
       "      <td>0.340319</td>\n",
       "      <td>2.068039</td>\n",
       "      <td>0.519837</td>\n",
       "      <td>1.092467</td>\n",
       "      <td>0.195462</td>\n",
       "      <td>0.148247</td>\n",
       "      <td>0.254683</td>\n",
       "      <td>...</td>\n",
       "      <td>0.327393</td>\n",
       "      <td>0.036257</td>\n",
       "      <td>1.338266</td>\n",
       "      <td>0.341015</td>\n",
       "      <td>0.387614</td>\n",
       "      <td>0.080910</td>\n",
       "      <td>0.306842</td>\n",
       "      <td>0.716825</td>\n",
       "      <td>1.119978</td>\n",
       "      <td>0.542209</td>\n",
       "    </tr>\n",
       "    <tr>\n",
       "      <th>-95355317_1912286</th>\n",
       "      <td>0.793197</td>\n",
       "      <td>0.855088</td>\n",
       "      <td>0.417756</td>\n",
       "      <td>0.353084</td>\n",
       "      <td>2.170411</td>\n",
       "      <td>0.327545</td>\n",
       "      <td>0.521138</td>\n",
       "      <td>0.501608</td>\n",
       "      <td>0.132792</td>\n",
       "      <td>0.016950</td>\n",
       "      <td>...</td>\n",
       "      <td>0.124897</td>\n",
       "      <td>0.578020</td>\n",
       "      <td>0.126133</td>\n",
       "      <td>0.309108</td>\n",
       "      <td>0.365733</td>\n",
       "      <td>0.011886</td>\n",
       "      <td>0.748699</td>\n",
       "      <td>0.114037</td>\n",
       "      <td>0.242575</td>\n",
       "      <td>0.044906</td>\n",
       "    </tr>\n",
       "    <tr>\n",
       "      <th>-95355317_1912325</th>\n",
       "      <td>0.006089</td>\n",
       "      <td>0.658439</td>\n",
       "      <td>1.074135</td>\n",
       "      <td>0.330527</td>\n",
       "      <td>1.703276</td>\n",
       "      <td>0.755171</td>\n",
       "      <td>1.367317</td>\n",
       "      <td>0.515087</td>\n",
       "      <td>0.348449</td>\n",
       "      <td>0.311497</td>\n",
       "      <td>...</td>\n",
       "      <td>0.414011</td>\n",
       "      <td>0.063164</td>\n",
       "      <td>0.271546</td>\n",
       "      <td>0.783574</td>\n",
       "      <td>0.915760</td>\n",
       "      <td>0.112708</td>\n",
       "      <td>0.522570</td>\n",
       "      <td>0.067861</td>\n",
       "      <td>1.042791</td>\n",
       "      <td>0.556116</td>\n",
       "    </tr>\n",
       "    <tr>\n",
       "      <th>-95355317_1912335</th>\n",
       "      <td>2.166512</td>\n",
       "      <td>0.458409</td>\n",
       "      <td>0.699782</td>\n",
       "      <td>1.508947</td>\n",
       "      <td>0.048526</td>\n",
       "      <td>1.211681</td>\n",
       "      <td>0.161053</td>\n",
       "      <td>0.791156</td>\n",
       "      <td>0.155514</td>\n",
       "      <td>1.271283</td>\n",
       "      <td>...</td>\n",
       "      <td>0.207724</td>\n",
       "      <td>1.258040</td>\n",
       "      <td>1.138336</td>\n",
       "      <td>0.725349</td>\n",
       "      <td>0.348591</td>\n",
       "      <td>0.079434</td>\n",
       "      <td>0.639469</td>\n",
       "      <td>0.476220</td>\n",
       "      <td>0.066718</td>\n",
       "      <td>0.139818</td>\n",
       "    </tr>\n",
       "  </tbody>\n",
       "</table>\n",
       "<p>5 rows × 2048 columns</p>\n",
       "</div>"
      ],
      "text/plain": [
       "                      r0000     r0001     r0002     r0003     r0004     r0005  \\\n",
       "full_id                                                                         \n",
       "-95355317_1912243  0.536188  0.349894  1.506654  0.283189  2.337270  0.174769   \n",
       "-95355317_1912265  0.003945  0.584910  0.377823  0.340319  2.068039  0.519837   \n",
       "-95355317_1912286  0.793197  0.855088  0.417756  0.353084  2.170411  0.327545   \n",
       "-95355317_1912325  0.006089  0.658439  1.074135  0.330527  1.703276  0.755171   \n",
       "-95355317_1912335  2.166512  0.458409  0.699782  1.508947  0.048526  1.211681   \n",
       "\n",
       "                      r0006     r0007     r0008     r0009  ...     r2038  \\\n",
       "full_id                                                    ...             \n",
       "-95355317_1912243  1.046770  0.533082  0.777308  0.590744  ...  0.179661   \n",
       "-95355317_1912265  1.092467  0.195462  0.148247  0.254683  ...  0.327393   \n",
       "-95355317_1912286  0.521138  0.501608  0.132792  0.016950  ...  0.124897   \n",
       "-95355317_1912325  1.367317  0.515087  0.348449  0.311497  ...  0.414011   \n",
       "-95355317_1912335  0.161053  0.791156  0.155514  1.271283  ...  0.207724   \n",
       "\n",
       "                      r2039     r2040     r2041     r2042     r2043     r2044  \\\n",
       "full_id                                                                         \n",
       "-95355317_1912243  0.416117  0.181666  0.384575  0.579714  0.051675  0.620378   \n",
       "-95355317_1912265  0.036257  1.338266  0.341015  0.387614  0.080910  0.306842   \n",
       "-95355317_1912286  0.578020  0.126133  0.309108  0.365733  0.011886  0.748699   \n",
       "-95355317_1912325  0.063164  0.271546  0.783574  0.915760  0.112708  0.522570   \n",
       "-95355317_1912335  1.258040  1.138336  0.725349  0.348591  0.079434  0.639469   \n",
       "\n",
       "                      r2045     r2046     r2047  \n",
       "full_id                                          \n",
       "-95355317_1912243  0.202170  0.048453  0.129764  \n",
       "-95355317_1912265  0.716825  1.119978  0.542209  \n",
       "-95355317_1912286  0.114037  0.242575  0.044906  \n",
       "-95355317_1912325  0.067861  1.042791  0.556116  \n",
       "-95355317_1912335  0.476220  0.066718  0.139818  \n",
       "\n",
       "[5 rows x 2048 columns]"
      ]
     },
     "execution_count": 26,
     "metadata": {},
     "output_type": "execute_result"
    }
   ],
   "source": [
    "df_features.head()"
   ]
  },
  {
   "cell_type": "code",
   "execution_count": 27,
   "metadata": {},
   "outputs": [
    {
     "data": {
      "text/plain": [
       "(32546, 2048)"
      ]
     },
     "execution_count": 27,
     "metadata": {},
     "output_type": "execute_result"
    }
   ],
   "source": [
    "df_features.shape"
   ]
  },
  {
   "cell_type": "code",
   "execution_count": 30,
   "metadata": {},
   "outputs": [],
   "source": [
    "df_features.to_pickle('df_features_torch_v2.pkl')"
   ]
  },
  {
   "cell_type": "code",
   "execution_count": 27,
   "metadata": {},
   "outputs": [],
   "source": [
    "df_features.to_pickle('df_features_torch_image_v2.pkl')"
   ]
  },
  {
   "cell_type": "code",
   "execution_count": 20,
   "metadata": {},
   "outputs": [],
   "source": [
    "df_features.to_pickle('df_features_torch_image_v3.pkl')"
   ]
  },
  {
   "cell_type": "code",
   "execution_count": 32,
   "metadata": {},
   "outputs": [],
   "source": [
    "df_features.to_pickle('df_features_torch_image.pkl')"
   ]
  },
  {
   "cell_type": "code",
   "execution_count": 5,
   "metadata": {},
   "outputs": [],
   "source": [
    "df_features = pd.read_pickle('df_features_torch_image.pkl')"
   ]
  },
  {
   "cell_type": "code",
   "execution_count": 24,
   "metadata": {},
   "outputs": [],
   "source": [
    "df_features.to_pickle('df_features_torch.pkl')"
   ]
  },
  {
   "cell_type": "code",
   "execution_count": 28,
   "metadata": {},
   "outputs": [],
   "source": [
    "df_features.to_pickle('df_features_torch_v3.pkl')"
   ]
  },
  {
   "cell_type": "code",
   "execution_count": null,
   "metadata": {},
   "outputs": [],
   "source": []
  },
  {
   "cell_type": "code",
   "execution_count": 39,
   "metadata": {},
   "outputs": [],
   "source": [
    "df_all = df_features.join(df_embed_features, how='inner').join(df_class, how='inner')"
   ]
  },
  {
   "cell_type": "code",
   "execution_count": 13,
   "metadata": {},
   "outputs": [],
   "source": [
    "df_all = df_embed_features.join(df_class, how='inner')"
   ]
  },
  {
   "cell_type": "code",
   "execution_count": 40,
   "metadata": {},
   "outputs": [
    {
     "data": {
      "text/plain": [
       "(32549, 3073)"
      ]
     },
     "execution_count": 40,
     "metadata": {},
     "output_type": "execute_result"
    }
   ],
   "source": [
    "df_all.shape"
   ]
  },
  {
   "cell_type": "code",
   "execution_count": 54,
   "metadata": {},
   "outputs": [
    {
     "data": {
      "text/html": [
       "<div>\n",
       "<style scoped>\n",
       "    .dataframe tbody tr th:only-of-type {\n",
       "        vertical-align: middle;\n",
       "    }\n",
       "\n",
       "    .dataframe tbody tr th {\n",
       "        vertical-align: top;\n",
       "    }\n",
       "\n",
       "    .dataframe thead th {\n",
       "        text-align: right;\n",
       "    }\n",
       "</style>\n",
       "<table border=\"1\" class=\"dataframe\">\n",
       "  <thead>\n",
       "    <tr style=\"text-align: right;\">\n",
       "      <th></th>\n",
       "      <th>r0000</th>\n",
       "      <th>r0001</th>\n",
       "      <th>r0002</th>\n",
       "      <th>r0003</th>\n",
       "      <th>r0004</th>\n",
       "      <th>r0005</th>\n",
       "      <th>r0006</th>\n",
       "      <th>r0007</th>\n",
       "      <th>r0008</th>\n",
       "      <th>r0009</th>\n",
       "      <th>...</th>\n",
       "      <th>e1015</th>\n",
       "      <th>e1016</th>\n",
       "      <th>e1017</th>\n",
       "      <th>e1018</th>\n",
       "      <th>e1019</th>\n",
       "      <th>e1020</th>\n",
       "      <th>e1021</th>\n",
       "      <th>e1022</th>\n",
       "      <th>e1023</th>\n",
       "      <th>pop_class</th>\n",
       "    </tr>\n",
       "  </thead>\n",
       "  <tbody>\n",
       "    <tr>\n",
       "      <th>-95355317_2050447</th>\n",
       "      <td>0.057344</td>\n",
       "      <td>1.948761</td>\n",
       "      <td>0.443601</td>\n",
       "      <td>0.456698</td>\n",
       "      <td>0.136211</td>\n",
       "      <td>0.164066</td>\n",
       "      <td>1.669898</td>\n",
       "      <td>0.400474</td>\n",
       "      <td>0.215134</td>\n",
       "      <td>0.637504</td>\n",
       "      <td>...</td>\n",
       "      <td>0.038702</td>\n",
       "      <td>0.044032</td>\n",
       "      <td>0.023785</td>\n",
       "      <td>-0.010377</td>\n",
       "      <td>0.072736</td>\n",
       "      <td>0.002888</td>\n",
       "      <td>-0.079291</td>\n",
       "      <td>0.087915</td>\n",
       "      <td>-0.004391</td>\n",
       "      <td>1.0</td>\n",
       "    </tr>\n",
       "    <tr>\n",
       "      <th>-95355317_2068015</th>\n",
       "      <td>0.986775</td>\n",
       "      <td>0.541421</td>\n",
       "      <td>0.803849</td>\n",
       "      <td>0.342154</td>\n",
       "      <td>1.045853</td>\n",
       "      <td>0.307013</td>\n",
       "      <td>0.462082</td>\n",
       "      <td>0.018197</td>\n",
       "      <td>1.326146</td>\n",
       "      <td>1.033313</td>\n",
       "      <td>...</td>\n",
       "      <td>0.024123</td>\n",
       "      <td>0.068611</td>\n",
       "      <td>-0.048347</td>\n",
       "      <td>-0.011865</td>\n",
       "      <td>0.052724</td>\n",
       "      <td>0.013257</td>\n",
       "      <td>0.043604</td>\n",
       "      <td>0.018830</td>\n",
       "      <td>0.026824</td>\n",
       "      <td>1.0</td>\n",
       "    </tr>\n",
       "    <tr>\n",
       "      <th>-91050183_10228</th>\n",
       "      <td>0.589319</td>\n",
       "      <td>0.676640</td>\n",
       "      <td>0.984213</td>\n",
       "      <td>1.006903</td>\n",
       "      <td>0.375679</td>\n",
       "      <td>0.554894</td>\n",
       "      <td>0.596023</td>\n",
       "      <td>0.971159</td>\n",
       "      <td>0.036272</td>\n",
       "      <td>2.200578</td>\n",
       "      <td>...</td>\n",
       "      <td>-0.092995</td>\n",
       "      <td>0.063462</td>\n",
       "      <td>-0.028078</td>\n",
       "      <td>-0.046794</td>\n",
       "      <td>0.081714</td>\n",
       "      <td>0.017104</td>\n",
       "      <td>0.042686</td>\n",
       "      <td>-0.035135</td>\n",
       "      <td>0.005118</td>\n",
       "      <td>1.0</td>\n",
       "    </tr>\n",
       "    <tr>\n",
       "      <th>-91050183_10388</th>\n",
       "      <td>0.070245</td>\n",
       "      <td>0.570792</td>\n",
       "      <td>0.144515</td>\n",
       "      <td>0.305198</td>\n",
       "      <td>1.321359</td>\n",
       "      <td>0.314336</td>\n",
       "      <td>0.816716</td>\n",
       "      <td>0.134760</td>\n",
       "      <td>0.155296</td>\n",
       "      <td>0.449767</td>\n",
       "      <td>...</td>\n",
       "      <td>0.033405</td>\n",
       "      <td>0.077069</td>\n",
       "      <td>0.016350</td>\n",
       "      <td>-0.012188</td>\n",
       "      <td>0.032734</td>\n",
       "      <td>-0.065866</td>\n",
       "      <td>0.039703</td>\n",
       "      <td>-0.011875</td>\n",
       "      <td>-0.009320</td>\n",
       "      <td>1.0</td>\n",
       "    </tr>\n",
       "    <tr>\n",
       "      <th>-91050183_10489</th>\n",
       "      <td>0.614560</td>\n",
       "      <td>1.066614</td>\n",
       "      <td>1.204115</td>\n",
       "      <td>0.175818</td>\n",
       "      <td>1.112054</td>\n",
       "      <td>1.394015</td>\n",
       "      <td>1.289493</td>\n",
       "      <td>0.663563</td>\n",
       "      <td>0.498381</td>\n",
       "      <td>0.720199</td>\n",
       "      <td>...</td>\n",
       "      <td>0.042632</td>\n",
       "      <td>0.076713</td>\n",
       "      <td>0.007337</td>\n",
       "      <td>-0.060711</td>\n",
       "      <td>0.072249</td>\n",
       "      <td>0.055161</td>\n",
       "      <td>0.045725</td>\n",
       "      <td>0.042407</td>\n",
       "      <td>-0.018751</td>\n",
       "      <td>1.0</td>\n",
       "    </tr>\n",
       "  </tbody>\n",
       "</table>\n",
       "<p>5 rows × 3073 columns</p>\n",
       "</div>"
      ],
      "text/plain": [
       "                      r0000     r0001     r0002     r0003     r0004     r0005  \\\n",
       "-95355317_2050447  0.057344  1.948761  0.443601  0.456698  0.136211  0.164066   \n",
       "-95355317_2068015  0.986775  0.541421  0.803849  0.342154  1.045853  0.307013   \n",
       "-91050183_10228    0.589319  0.676640  0.984213  1.006903  0.375679  0.554894   \n",
       "-91050183_10388    0.070245  0.570792  0.144515  0.305198  1.321359  0.314336   \n",
       "-91050183_10489    0.614560  1.066614  1.204115  0.175818  1.112054  1.394015   \n",
       "\n",
       "                      r0006     r0007     r0008     r0009  ...     e1015  \\\n",
       "-95355317_2050447  1.669898  0.400474  0.215134  0.637504  ...  0.038702   \n",
       "-95355317_2068015  0.462082  0.018197  1.326146  1.033313  ...  0.024123   \n",
       "-91050183_10228    0.596023  0.971159  0.036272  2.200578  ... -0.092995   \n",
       "-91050183_10388    0.816716  0.134760  0.155296  0.449767  ...  0.033405   \n",
       "-91050183_10489    1.289493  0.663563  0.498381  0.720199  ...  0.042632   \n",
       "\n",
       "                      e1016     e1017     e1018     e1019     e1020     e1021  \\\n",
       "-95355317_2050447  0.044032  0.023785 -0.010377  0.072736  0.002888 -0.079291   \n",
       "-95355317_2068015  0.068611 -0.048347 -0.011865  0.052724  0.013257  0.043604   \n",
       "-91050183_10228    0.063462 -0.028078 -0.046794  0.081714  0.017104  0.042686   \n",
       "-91050183_10388    0.077069  0.016350 -0.012188  0.032734 -0.065866  0.039703   \n",
       "-91050183_10489    0.076713  0.007337 -0.060711  0.072249  0.055161  0.045725   \n",
       "\n",
       "                      e1022     e1023  pop_class  \n",
       "-95355317_2050447  0.087915 -0.004391        1.0  \n",
       "-95355317_2068015  0.018830  0.026824        1.0  \n",
       "-91050183_10228   -0.035135  0.005118        1.0  \n",
       "-91050183_10388   -0.011875 -0.009320        1.0  \n",
       "-91050183_10489    0.042407 -0.018751        1.0  \n",
       "\n",
       "[5 rows x 3073 columns]"
      ]
     },
     "execution_count": 54,
     "metadata": {},
     "output_type": "execute_result"
    }
   ],
   "source": [
    "df_all.head()"
   ]
  },
  {
   "cell_type": "code",
   "execution_count": 41,
   "metadata": {},
   "outputs": [],
   "source": [
    "df_all.to_pickle('ready_for_learning_v2_views.pkl.bz2')"
   ]
  },
  {
   "cell_type": "code",
   "execution_count": 48,
   "metadata": {},
   "outputs": [],
   "source": [
    "df_all.to_pickle('ready_for_learning_v2.pkl.bz2')"
   ]
  },
  {
   "cell_type": "code",
   "execution_count": 40,
   "metadata": {},
   "outputs": [],
   "source": [
    "df_all.to_pickle('ready_for_learning_image_v2.pkl.bz2')"
   ]
  },
  {
   "cell_type": "code",
   "execution_count": 15,
   "metadata": {},
   "outputs": [],
   "source": [
    "df_all.to_pickle('ready_for_learning_text_v2.pkl.bz2')"
   ]
  },
  {
   "cell_type": "code",
   "execution_count": 55,
   "metadata": {},
   "outputs": [],
   "source": [
    "df_all.to_pickle('ready_for_learning_image_v3.pkl.bz2')"
   ]
  },
  {
   "cell_type": "code",
   "execution_count": 25,
   "metadata": {},
   "outputs": [],
   "source": [
    "df_embed = pd.read_pickle('/home/sergey/maga_diploma/models/embedding/embeds.pkl.bz2')"
   ]
  },
  {
   "cell_type": "code",
   "execution_count": 34,
   "metadata": {},
   "outputs": [
    {
     "data": {
      "text/plain": [
       "(39807, 1024)"
      ]
     },
     "execution_count": 34,
     "metadata": {},
     "output_type": "execute_result"
    }
   ],
   "source": [
    "df_embed.shape"
   ]
  },
  {
   "cell_type": "code",
   "execution_count": 26,
   "metadata": {},
   "outputs": [
    {
     "data": {
      "text/html": [
       "<div>\n",
       "<style scoped>\n",
       "    .dataframe tbody tr th:only-of-type {\n",
       "        vertical-align: middle;\n",
       "    }\n",
       "\n",
       "    .dataframe tbody tr th {\n",
       "        vertical-align: top;\n",
       "    }\n",
       "\n",
       "    .dataframe thead th {\n",
       "        text-align: right;\n",
       "    }\n",
       "</style>\n",
       "<table border=\"1\" class=\"dataframe\">\n",
       "  <thead>\n",
       "    <tr style=\"text-align: right;\">\n",
       "      <th></th>\n",
       "      <th>e0000</th>\n",
       "      <th>e0001</th>\n",
       "      <th>e0002</th>\n",
       "      <th>e0003</th>\n",
       "      <th>e0004</th>\n",
       "      <th>e0005</th>\n",
       "      <th>e0006</th>\n",
       "      <th>e0007</th>\n",
       "      <th>e0008</th>\n",
       "      <th>e0009</th>\n",
       "      <th>...</th>\n",
       "      <th>e1014</th>\n",
       "      <th>e1015</th>\n",
       "      <th>e1016</th>\n",
       "      <th>e1017</th>\n",
       "      <th>e1018</th>\n",
       "      <th>e1019</th>\n",
       "      <th>e1020</th>\n",
       "      <th>e1021</th>\n",
       "      <th>e1022</th>\n",
       "      <th>e1023</th>\n",
       "    </tr>\n",
       "  </thead>\n",
       "  <tbody>\n",
       "    <tr>\n",
       "      <th>-95355317_2106029</th>\n",
       "      <td>-0.045382</td>\n",
       "      <td>0.015105</td>\n",
       "      <td>0.038909</td>\n",
       "      <td>-0.010901</td>\n",
       "      <td>-0.016286</td>\n",
       "      <td>-0.055293</td>\n",
       "      <td>-0.027288</td>\n",
       "      <td>0.015078</td>\n",
       "      <td>0.057733</td>\n",
       "      <td>-0.072396</td>\n",
       "      <td>...</td>\n",
       "      <td>-0.039408</td>\n",
       "      <td>-0.005850</td>\n",
       "      <td>-0.004164</td>\n",
       "      <td>0.004020</td>\n",
       "      <td>-0.060126</td>\n",
       "      <td>-0.054701</td>\n",
       "      <td>-0.040827</td>\n",
       "      <td>-0.026879</td>\n",
       "      <td>0.076339</td>\n",
       "      <td>0.084979</td>\n",
       "    </tr>\n",
       "    <tr>\n",
       "      <th>-95355317_2105981</th>\n",
       "      <td>-0.056735</td>\n",
       "      <td>0.058037</td>\n",
       "      <td>0.033955</td>\n",
       "      <td>0.017643</td>\n",
       "      <td>-0.009828</td>\n",
       "      <td>-0.048618</td>\n",
       "      <td>-0.048682</td>\n",
       "      <td>0.052804</td>\n",
       "      <td>0.042236</td>\n",
       "      <td>-0.044791</td>\n",
       "      <td>...</td>\n",
       "      <td>-0.042704</td>\n",
       "      <td>0.048332</td>\n",
       "      <td>-0.046734</td>\n",
       "      <td>0.053527</td>\n",
       "      <td>0.027771</td>\n",
       "      <td>-0.068680</td>\n",
       "      <td>0.041872</td>\n",
       "      <td>-0.038115</td>\n",
       "      <td>-0.036452</td>\n",
       "      <td>0.076066</td>\n",
       "    </tr>\n",
       "    <tr>\n",
       "      <th>-95355317_2105968</th>\n",
       "      <td>-0.052933</td>\n",
       "      <td>0.013161</td>\n",
       "      <td>0.054018</td>\n",
       "      <td>-0.023808</td>\n",
       "      <td>0.004628</td>\n",
       "      <td>-0.024946</td>\n",
       "      <td>-0.044910</td>\n",
       "      <td>0.062204</td>\n",
       "      <td>0.053243</td>\n",
       "      <td>-0.047761</td>\n",
       "      <td>...</td>\n",
       "      <td>-0.077836</td>\n",
       "      <td>0.074202</td>\n",
       "      <td>-0.037541</td>\n",
       "      <td>0.031950</td>\n",
       "      <td>-0.000858</td>\n",
       "      <td>-0.076412</td>\n",
       "      <td>-0.022519</td>\n",
       "      <td>-0.015696</td>\n",
       "      <td>-0.052819</td>\n",
       "      <td>0.086610</td>\n",
       "    </tr>\n",
       "    <tr>\n",
       "      <th>-95355317_2105872</th>\n",
       "      <td>-0.021468</td>\n",
       "      <td>0.056831</td>\n",
       "      <td>-0.031442</td>\n",
       "      <td>-0.010386</td>\n",
       "      <td>0.012000</td>\n",
       "      <td>-0.070602</td>\n",
       "      <td>-0.031497</td>\n",
       "      <td>-0.010290</td>\n",
       "      <td>0.023301</td>\n",
       "      <td>-0.035283</td>\n",
       "      <td>...</td>\n",
       "      <td>-0.069001</td>\n",
       "      <td>0.072397</td>\n",
       "      <td>-0.021274</td>\n",
       "      <td>0.060612</td>\n",
       "      <td>-0.019083</td>\n",
       "      <td>-0.060826</td>\n",
       "      <td>0.014437</td>\n",
       "      <td>-0.029841</td>\n",
       "      <td>0.005074</td>\n",
       "      <td>-0.047073</td>\n",
       "    </tr>\n",
       "    <tr>\n",
       "      <th>-95355317_2105727</th>\n",
       "      <td>-0.074436</td>\n",
       "      <td>0.016291</td>\n",
       "      <td>0.076521</td>\n",
       "      <td>-0.009539</td>\n",
       "      <td>-0.018878</td>\n",
       "      <td>0.034221</td>\n",
       "      <td>0.045252</td>\n",
       "      <td>-0.009726</td>\n",
       "      <td>0.005933</td>\n",
       "      <td>-0.024984</td>\n",
       "      <td>...</td>\n",
       "      <td>-0.049976</td>\n",
       "      <td>-0.052051</td>\n",
       "      <td>0.011533</td>\n",
       "      <td>0.075416</td>\n",
       "      <td>0.015131</td>\n",
       "      <td>0.070137</td>\n",
       "      <td>0.070674</td>\n",
       "      <td>-0.011637</td>\n",
       "      <td>0.029167</td>\n",
       "      <td>-0.059281</td>\n",
       "    </tr>\n",
       "  </tbody>\n",
       "</table>\n",
       "<p>5 rows × 1024 columns</p>\n",
       "</div>"
      ],
      "text/plain": [
       "                      e0000     e0001     e0002     e0003     e0004     e0005  \\\n",
       "-95355317_2106029 -0.045382  0.015105  0.038909 -0.010901 -0.016286 -0.055293   \n",
       "-95355317_2105981 -0.056735  0.058037  0.033955  0.017643 -0.009828 -0.048618   \n",
       "-95355317_2105968 -0.052933  0.013161  0.054018 -0.023808  0.004628 -0.024946   \n",
       "-95355317_2105872 -0.021468  0.056831 -0.031442 -0.010386  0.012000 -0.070602   \n",
       "-95355317_2105727 -0.074436  0.016291  0.076521 -0.009539 -0.018878  0.034221   \n",
       "\n",
       "                      e0006     e0007     e0008     e0009  ...     e1014  \\\n",
       "-95355317_2106029 -0.027288  0.015078  0.057733 -0.072396  ... -0.039408   \n",
       "-95355317_2105981 -0.048682  0.052804  0.042236 -0.044791  ... -0.042704   \n",
       "-95355317_2105968 -0.044910  0.062204  0.053243 -0.047761  ... -0.077836   \n",
       "-95355317_2105872 -0.031497 -0.010290  0.023301 -0.035283  ... -0.069001   \n",
       "-95355317_2105727  0.045252 -0.009726  0.005933 -0.024984  ... -0.049976   \n",
       "\n",
       "                      e1015     e1016     e1017     e1018     e1019     e1020  \\\n",
       "-95355317_2106029 -0.005850 -0.004164  0.004020 -0.060126 -0.054701 -0.040827   \n",
       "-95355317_2105981  0.048332 -0.046734  0.053527  0.027771 -0.068680  0.041872   \n",
       "-95355317_2105968  0.074202 -0.037541  0.031950 -0.000858 -0.076412 -0.022519   \n",
       "-95355317_2105872  0.072397 -0.021274  0.060612 -0.019083 -0.060826  0.014437   \n",
       "-95355317_2105727 -0.052051  0.011533  0.075416  0.015131  0.070137  0.070674   \n",
       "\n",
       "                      e1021     e1022     e1023  \n",
       "-95355317_2106029 -0.026879  0.076339  0.084979  \n",
       "-95355317_2105981 -0.038115 -0.036452  0.076066  \n",
       "-95355317_2105968 -0.015696 -0.052819  0.086610  \n",
       "-95355317_2105872 -0.029841  0.005074 -0.047073  \n",
       "-95355317_2105727 -0.011637  0.029167 -0.059281  \n",
       "\n",
       "[5 rows x 1024 columns]"
      ]
     },
     "execution_count": 26,
     "metadata": {},
     "output_type": "execute_result"
    }
   ],
   "source": [
    "df_embed.head()"
   ]
  },
  {
   "cell_type": "code",
   "execution_count": 26,
   "metadata": {},
   "outputs": [
    {
     "data": {
      "text/plain": [
       "['r2038',\n",
       " 'r2039',\n",
       " 'r2040',\n",
       " 'r2041',\n",
       " 'r2042',\n",
       " 'r2043',\n",
       " 'r2044',\n",
       " 'r2045',\n",
       " 'r2046',\n",
       " 'r2047']"
      ]
     },
     "execution_count": 26,
     "metadata": {},
     "output_type": "execute_result"
    }
   ],
   "source": [
    "for index, row in tqdm(final_df.iterrows()):\n",
    "pd.DataFrame(np.vstack(features), index=ids, columns=list(map(lambda x: f'r{x:04d}', range(len(test_check)))))"
   ]
  },
  {
   "cell_type": "code",
   "execution_count": 35,
   "metadata": {},
   "outputs": [
    {
     "data": {
      "text/plain": [
       "array([0.5361881 , 0.3498943 , 1.5066544 , ..., 0.20216975, 0.04845281,\n",
       "       0.12976383], dtype=float32)"
      ]
     },
     "execution_count": 35,
     "metadata": {},
     "output_type": "execute_result"
    }
   ],
   "source": [
    "test_check"
   ]
  },
  {
   "cell_type": "code",
   "execution_count": 34,
   "metadata": {},
   "outputs": [
    {
     "ename": "ValueError",
     "evalue": "Shape of passed values is (2048, 1), indices imply (2048, 2048)",
     "output_type": "error",
     "traceback": [
      "\u001b[0;31m---------------------------------------------------------------------------\u001b[0m",
      "\u001b[0;31mValueError\u001b[0m                                Traceback (most recent call last)",
      "\u001b[0;32m~/.local/lib/python3.6/site-packages/pandas/core/internals/managers.py\u001b[0m in \u001b[0;36mcreate_block_manager_from_blocks\u001b[0;34m(blocks, axes)\u001b[0m\n\u001b[1;32m   1670\u001b[0m                 blocks = [\n\u001b[0;32m-> 1671\u001b[0;31m                     \u001b[0mmake_block\u001b[0m\u001b[0;34m(\u001b[0m\u001b[0mvalues\u001b[0m\u001b[0;34m=\u001b[0m\u001b[0mblocks\u001b[0m\u001b[0;34m[\u001b[0m\u001b[0;36m0\u001b[0m\u001b[0;34m]\u001b[0m\u001b[0;34m,\u001b[0m \u001b[0mplacement\u001b[0m\u001b[0;34m=\u001b[0m\u001b[0mslice\u001b[0m\u001b[0;34m(\u001b[0m\u001b[0;36m0\u001b[0m\u001b[0;34m,\u001b[0m \u001b[0mlen\u001b[0m\u001b[0;34m(\u001b[0m\u001b[0maxes\u001b[0m\u001b[0;34m[\u001b[0m\u001b[0;36m0\u001b[0m\u001b[0;34m]\u001b[0m\u001b[0;34m)\u001b[0m\u001b[0;34m)\u001b[0m\u001b[0;34m)\u001b[0m\u001b[0;34m\u001b[0m\u001b[0;34m\u001b[0m\u001b[0m\n\u001b[0m\u001b[1;32m   1672\u001b[0m                 ]\n",
      "\u001b[0;32m~/.local/lib/python3.6/site-packages/pandas/core/internals/blocks.py\u001b[0m in \u001b[0;36mmake_block\u001b[0;34m(values, placement, klass, ndim, dtype)\u001b[0m\n\u001b[1;32m   2743\u001b[0m \u001b[0;34m\u001b[0m\u001b[0m\n\u001b[0;32m-> 2744\u001b[0;31m     \u001b[0;32mreturn\u001b[0m \u001b[0mklass\u001b[0m\u001b[0;34m(\u001b[0m\u001b[0mvalues\u001b[0m\u001b[0;34m,\u001b[0m \u001b[0mndim\u001b[0m\u001b[0;34m=\u001b[0m\u001b[0mndim\u001b[0m\u001b[0;34m,\u001b[0m \u001b[0mplacement\u001b[0m\u001b[0;34m=\u001b[0m\u001b[0mplacement\u001b[0m\u001b[0;34m)\u001b[0m\u001b[0;34m\u001b[0m\u001b[0;34m\u001b[0m\u001b[0m\n\u001b[0m\u001b[1;32m   2745\u001b[0m \u001b[0;34m\u001b[0m\u001b[0m\n",
      "\u001b[0;32m~/.local/lib/python3.6/site-packages/pandas/core/internals/blocks.py\u001b[0m in \u001b[0;36m__init__\u001b[0;34m(self, values, placement, ndim)\u001b[0m\n\u001b[1;32m    130\u001b[0m             raise ValueError(\n\u001b[0;32m--> 131\u001b[0;31m                 \u001b[0;34mf\"Wrong number of items passed {len(self.values)}, \"\u001b[0m\u001b[0;34m\u001b[0m\u001b[0;34m\u001b[0m\u001b[0m\n\u001b[0m\u001b[1;32m    132\u001b[0m                 \u001b[0;34mf\"placement implies {len(self.mgr_locs)}\"\u001b[0m\u001b[0;34m\u001b[0m\u001b[0;34m\u001b[0m\u001b[0m\n",
      "\u001b[0;31mValueError\u001b[0m: Wrong number of items passed 1, placement implies 2048",
      "\nDuring handling of the above exception, another exception occurred:\n",
      "\u001b[0;31mValueError\u001b[0m                                Traceback (most recent call last)",
      "\u001b[0;32m<ipython-input-34-574801228f1f>\u001b[0m in \u001b[0;36m<module>\u001b[0;34m\u001b[0m\n\u001b[0;32m----> 1\u001b[0;31m \u001b[0mpd\u001b[0m\u001b[0;34m.\u001b[0m\u001b[0mDataFrame\u001b[0m\u001b[0;34m(\u001b[0m\u001b[0mtest_check\u001b[0m\u001b[0;34m,\u001b[0m \u001b[0mcolumns\u001b[0m\u001b[0;34m=\u001b[0m\u001b[0mlist\u001b[0m\u001b[0;34m(\u001b[0m\u001b[0mmap\u001b[0m\u001b[0;34m(\u001b[0m\u001b[0;32mlambda\u001b[0m \u001b[0mx\u001b[0m\u001b[0;34m:\u001b[0m \u001b[0;34mf'r{x:04d}'\u001b[0m\u001b[0;34m,\u001b[0m \u001b[0mrange\u001b[0m\u001b[0;34m(\u001b[0m\u001b[0mtest_check\u001b[0m\u001b[0;34m.\u001b[0m\u001b[0mshape\u001b[0m\u001b[0;34m[\u001b[0m\u001b[0;36m0\u001b[0m\u001b[0;34m]\u001b[0m\u001b[0;34m)\u001b[0m\u001b[0;34m)\u001b[0m\u001b[0;34m)\u001b[0m\u001b[0;34m)\u001b[0m\u001b[0;34m\u001b[0m\u001b[0;34m\u001b[0m\u001b[0m\n\u001b[0m",
      "\u001b[0;32m~/.local/lib/python3.6/site-packages/pandas/core/frame.py\u001b[0m in \u001b[0;36m__init__\u001b[0;34m(self, data, index, columns, dtype, copy)\u001b[0m\n\u001b[1;32m    495\u001b[0m                 \u001b[0mmgr\u001b[0m \u001b[0;34m=\u001b[0m \u001b[0minit_dict\u001b[0m\u001b[0;34m(\u001b[0m\u001b[0;34m{\u001b[0m\u001b[0mdata\u001b[0m\u001b[0;34m.\u001b[0m\u001b[0mname\u001b[0m\u001b[0;34m:\u001b[0m \u001b[0mdata\u001b[0m\u001b[0;34m}\u001b[0m\u001b[0;34m,\u001b[0m \u001b[0mindex\u001b[0m\u001b[0;34m,\u001b[0m \u001b[0mcolumns\u001b[0m\u001b[0;34m,\u001b[0m \u001b[0mdtype\u001b[0m\u001b[0;34m=\u001b[0m\u001b[0mdtype\u001b[0m\u001b[0;34m)\u001b[0m\u001b[0;34m\u001b[0m\u001b[0;34m\u001b[0m\u001b[0m\n\u001b[1;32m    496\u001b[0m             \u001b[0;32melse\u001b[0m\u001b[0;34m:\u001b[0m\u001b[0;34m\u001b[0m\u001b[0;34m\u001b[0m\u001b[0m\n\u001b[0;32m--> 497\u001b[0;31m                 \u001b[0mmgr\u001b[0m \u001b[0;34m=\u001b[0m \u001b[0minit_ndarray\u001b[0m\u001b[0;34m(\u001b[0m\u001b[0mdata\u001b[0m\u001b[0;34m,\u001b[0m \u001b[0mindex\u001b[0m\u001b[0;34m,\u001b[0m \u001b[0mcolumns\u001b[0m\u001b[0;34m,\u001b[0m \u001b[0mdtype\u001b[0m\u001b[0;34m=\u001b[0m\u001b[0mdtype\u001b[0m\u001b[0;34m,\u001b[0m \u001b[0mcopy\u001b[0m\u001b[0;34m=\u001b[0m\u001b[0mcopy\u001b[0m\u001b[0;34m)\u001b[0m\u001b[0;34m\u001b[0m\u001b[0;34m\u001b[0m\u001b[0m\n\u001b[0m\u001b[1;32m    498\u001b[0m \u001b[0;34m\u001b[0m\u001b[0m\n\u001b[1;32m    499\u001b[0m         \u001b[0;31m# For data is list-like, or Iterable (will consume into list)\u001b[0m\u001b[0;34m\u001b[0m\u001b[0;34m\u001b[0m\u001b[0;34m\u001b[0m\u001b[0m\n",
      "\u001b[0;32m~/.local/lib/python3.6/site-packages/pandas/core/internals/construction.py\u001b[0m in \u001b[0;36minit_ndarray\u001b[0;34m(values, index, columns, dtype, copy)\u001b[0m\n\u001b[1;32m    232\u001b[0m         \u001b[0mblock_values\u001b[0m \u001b[0;34m=\u001b[0m \u001b[0;34m[\u001b[0m\u001b[0mvalues\u001b[0m\u001b[0;34m]\u001b[0m\u001b[0;34m\u001b[0m\u001b[0;34m\u001b[0m\u001b[0m\n\u001b[1;32m    233\u001b[0m \u001b[0;34m\u001b[0m\u001b[0m\n\u001b[0;32m--> 234\u001b[0;31m     \u001b[0;32mreturn\u001b[0m \u001b[0mcreate_block_manager_from_blocks\u001b[0m\u001b[0;34m(\u001b[0m\u001b[0mblock_values\u001b[0m\u001b[0;34m,\u001b[0m \u001b[0;34m[\u001b[0m\u001b[0mcolumns\u001b[0m\u001b[0;34m,\u001b[0m \u001b[0mindex\u001b[0m\u001b[0;34m]\u001b[0m\u001b[0;34m)\u001b[0m\u001b[0;34m\u001b[0m\u001b[0;34m\u001b[0m\u001b[0m\n\u001b[0m\u001b[1;32m    235\u001b[0m \u001b[0;34m\u001b[0m\u001b[0m\n\u001b[1;32m    236\u001b[0m \u001b[0;34m\u001b[0m\u001b[0m\n",
      "\u001b[0;32m~/.local/lib/python3.6/site-packages/pandas/core/internals/managers.py\u001b[0m in \u001b[0;36mcreate_block_manager_from_blocks\u001b[0;34m(blocks, axes)\u001b[0m\n\u001b[1;32m   1679\u001b[0m         \u001b[0mblocks\u001b[0m \u001b[0;34m=\u001b[0m \u001b[0;34m[\u001b[0m\u001b[0mgetattr\u001b[0m\u001b[0;34m(\u001b[0m\u001b[0mb\u001b[0m\u001b[0;34m,\u001b[0m \u001b[0;34m\"values\"\u001b[0m\u001b[0;34m,\u001b[0m \u001b[0mb\u001b[0m\u001b[0;34m)\u001b[0m \u001b[0;32mfor\u001b[0m \u001b[0mb\u001b[0m \u001b[0;32min\u001b[0m \u001b[0mblocks\u001b[0m\u001b[0;34m]\u001b[0m\u001b[0;34m\u001b[0m\u001b[0;34m\u001b[0m\u001b[0m\n\u001b[1;32m   1680\u001b[0m         \u001b[0mtot_items\u001b[0m \u001b[0;34m=\u001b[0m \u001b[0msum\u001b[0m\u001b[0;34m(\u001b[0m\u001b[0mb\u001b[0m\u001b[0;34m.\u001b[0m\u001b[0mshape\u001b[0m\u001b[0;34m[\u001b[0m\u001b[0;36m0\u001b[0m\u001b[0;34m]\u001b[0m \u001b[0;32mfor\u001b[0m \u001b[0mb\u001b[0m \u001b[0;32min\u001b[0m \u001b[0mblocks\u001b[0m\u001b[0;34m)\u001b[0m\u001b[0;34m\u001b[0m\u001b[0;34m\u001b[0m\u001b[0m\n\u001b[0;32m-> 1681\u001b[0;31m         \u001b[0;32mraise\u001b[0m \u001b[0mconstruction_error\u001b[0m\u001b[0;34m(\u001b[0m\u001b[0mtot_items\u001b[0m\u001b[0;34m,\u001b[0m \u001b[0mblocks\u001b[0m\u001b[0;34m[\u001b[0m\u001b[0;36m0\u001b[0m\u001b[0;34m]\u001b[0m\u001b[0;34m.\u001b[0m\u001b[0mshape\u001b[0m\u001b[0;34m[\u001b[0m\u001b[0;36m1\u001b[0m\u001b[0;34m:\u001b[0m\u001b[0;34m]\u001b[0m\u001b[0;34m,\u001b[0m \u001b[0maxes\u001b[0m\u001b[0;34m,\u001b[0m \u001b[0me\u001b[0m\u001b[0;34m)\u001b[0m\u001b[0;34m\u001b[0m\u001b[0;34m\u001b[0m\u001b[0m\n\u001b[0m\u001b[1;32m   1682\u001b[0m \u001b[0;34m\u001b[0m\u001b[0m\n\u001b[1;32m   1683\u001b[0m \u001b[0;34m\u001b[0m\u001b[0m\n",
      "\u001b[0;31mValueError\u001b[0m: Shape of passed values is (2048, 1), indices imply (2048, 2048)"
     ]
    }
   ],
   "source": [
    "pd.DataFrame(test_check, columns=list(map(lambda x: f'r{x:04d}', range(test_check.shape[0]))))"
   ]
  },
  {
   "cell_type": "code",
   "execution_count": null,
   "metadata": {},
   "outputs": [],
   "source": [
    "pd.DataFrame(np.vstack(features), index=ids, columns=list(map(lambda x: f'r{x:06d}', range(features[0].shape[1]))))"
   ]
  },
  {
   "cell_type": "code",
   "execution_count": null,
   "metadata": {},
   "outputs": [],
   "source": [
    "df_resnet_features = pd.DataFrame(np.vstack(features), index=ids, columns=list(map(lambda x: f'r{x:06d}', range(features[0].shape[1]))))\n",
    "df_resnet_features"
   ]
  },
  {
   "cell_type": "code",
   "execution_count": null,
   "metadata": {},
   "outputs": [],
   "source": []
  },
  {
   "cell_type": "code",
   "execution_count": null,
   "metadata": {},
   "outputs": [
    {
     "name": "stderr",
     "output_type": "stream",
     "text": [
      "1it [00:49, 49.07s/it]"
     ]
    }
   ],
   "source": [
    "cnt = 0\n",
    "for i, inputs_batch in tqdm(enumerate(generator)):\n",
    "    # if cnt < 20:\n",
    "    #     cnt+=1\n",
    "    #     continue\n",
    "    pd.DataFrame(conv_base.predict(inputs_batch).reshape((generator.batch_size, -1)), \n",
    "                 index=ids[i:i+generator.batch_size], \n",
    "                 columns=list(map(lambda x: f'r{x:06d}', range(n_features))))\\\n",
    "        .to_csv(os.path.join(out_dir, f'resnet_features_{i:04d}.csv.gz'))"
   ]
  },
  {
   "cell_type": "code",
   "execution_count": 3,
   "metadata": {
    "tags": []
   },
   "outputs": [
    {
     "name": "stderr",
     "output_type": "stream",
     "text": [
      "38it [28:40, 45.29s/it]\n"
     ]
    },
    {
     "ename": "ValueError",
     "evalue": "Shape of passed values is (1024, 87612), indices imply (1024, 100352)",
     "output_type": "error",
     "traceback": [
      "\u001b[0;31m---------------------------------------------------------------------------\u001b[0m",
      "\u001b[0;31mValueError\u001b[0m                                Traceback (most recent call last)",
      "\u001b[0;32m~/.local/lib/python3.6/site-packages/pandas/core/internals/managers.py\u001b[0m in \u001b[0;36mcreate_block_manager_from_blocks\u001b[0;34m(blocks, axes)\u001b[0m\n\u001b[1;32m   1670\u001b[0m                 blocks = [\n\u001b[0;32m-> 1671\u001b[0;31m                     \u001b[0mmake_block\u001b[0m\u001b[0;34m(\u001b[0m\u001b[0mvalues\u001b[0m\u001b[0;34m=\u001b[0m\u001b[0mblocks\u001b[0m\u001b[0;34m[\u001b[0m\u001b[0;36m0\u001b[0m\u001b[0;34m]\u001b[0m\u001b[0;34m,\u001b[0m \u001b[0mplacement\u001b[0m\u001b[0;34m=\u001b[0m\u001b[0mslice\u001b[0m\u001b[0;34m(\u001b[0m\u001b[0;36m0\u001b[0m\u001b[0;34m,\u001b[0m \u001b[0mlen\u001b[0m\u001b[0;34m(\u001b[0m\u001b[0maxes\u001b[0m\u001b[0;34m[\u001b[0m\u001b[0;36m0\u001b[0m\u001b[0;34m]\u001b[0m\u001b[0;34m)\u001b[0m\u001b[0;34m)\u001b[0m\u001b[0;34m)\u001b[0m\u001b[0;34m\u001b[0m\u001b[0;34m\u001b[0m\u001b[0m\n\u001b[0m\u001b[1;32m   1672\u001b[0m                 ]\n",
      "\u001b[0;32m~/.local/lib/python3.6/site-packages/pandas/core/internals/blocks.py\u001b[0m in \u001b[0;36mmake_block\u001b[0;34m(values, placement, klass, ndim, dtype)\u001b[0m\n\u001b[1;32m   2743\u001b[0m \u001b[0;34m\u001b[0m\u001b[0m\n\u001b[0;32m-> 2744\u001b[0;31m     \u001b[0;32mreturn\u001b[0m \u001b[0mklass\u001b[0m\u001b[0;34m(\u001b[0m\u001b[0mvalues\u001b[0m\u001b[0;34m,\u001b[0m \u001b[0mndim\u001b[0m\u001b[0;34m=\u001b[0m\u001b[0mndim\u001b[0m\u001b[0;34m,\u001b[0m \u001b[0mplacement\u001b[0m\u001b[0;34m=\u001b[0m\u001b[0mplacement\u001b[0m\u001b[0;34m)\u001b[0m\u001b[0;34m\u001b[0m\u001b[0;34m\u001b[0m\u001b[0m\n\u001b[0m\u001b[1;32m   2745\u001b[0m \u001b[0;34m\u001b[0m\u001b[0m\n",
      "\u001b[0;32m~/.local/lib/python3.6/site-packages/pandas/core/internals/blocks.py\u001b[0m in \u001b[0;36m__init__\u001b[0;34m(self, values, placement, ndim)\u001b[0m\n\u001b[1;32m    130\u001b[0m             raise ValueError(\n\u001b[0;32m--> 131\u001b[0;31m                 \u001b[0;34mf\"Wrong number of items passed {len(self.values)}, \"\u001b[0m\u001b[0;34m\u001b[0m\u001b[0;34m\u001b[0m\u001b[0m\n\u001b[0m\u001b[1;32m    132\u001b[0m                 \u001b[0;34mf\"placement implies {len(self.mgr_locs)}\"\u001b[0m\u001b[0;34m\u001b[0m\u001b[0;34m\u001b[0m\u001b[0m\n",
      "\u001b[0;31mValueError\u001b[0m: Wrong number of items passed 87612, placement implies 100352",
      "\nDuring handling of the above exception, another exception occurred:\n",
      "\u001b[0;31mValueError\u001b[0m                                Traceback (most recent call last)",
      "\u001b[0;32m<ipython-input-3-7275a1a696a9>\u001b[0m in \u001b[0;36m<module>\u001b[0;34m\u001b[0m\n\u001b[1;32m      2\u001b[0m     pd.DataFrame(conv_base.predict(inputs_batch).reshape((generator.batch_size, -1)), \n\u001b[1;32m      3\u001b[0m                  \u001b[0mindex\u001b[0m\u001b[0;34m=\u001b[0m\u001b[0mids\u001b[0m\u001b[0;34m[\u001b[0m\u001b[0mi\u001b[0m\u001b[0;34m:\u001b[0m\u001b[0mi\u001b[0m\u001b[0;34m+\u001b[0m\u001b[0mgenerator\u001b[0m\u001b[0;34m.\u001b[0m\u001b[0mbatch_size\u001b[0m\u001b[0;34m]\u001b[0m\u001b[0;34m,\u001b[0m\u001b[0;34m\u001b[0m\u001b[0;34m\u001b[0m\u001b[0m\n\u001b[0;32m----> 4\u001b[0;31m                  columns=list(map(lambda x: f'r{x:06d}', range(n_features))))\\\n\u001b[0m\u001b[1;32m      5\u001b[0m         \u001b[0;34m.\u001b[0m\u001b[0mastype\u001b[0m\u001b[0;34m(\u001b[0m\u001b[0mpd\u001b[0m\u001b[0;34m.\u001b[0m\u001b[0mSparseDtype\u001b[0m\u001b[0;34m(\u001b[0m\u001b[0;34m\"float32\"\u001b[0m\u001b[0;34m,\u001b[0m \u001b[0;36m0\u001b[0m\u001b[0;34m)\u001b[0m\u001b[0;34m)\u001b[0m\u001b[0;31m\\\u001b[0m\u001b[0;34m\u001b[0m\u001b[0;34m\u001b[0m\u001b[0m\n\u001b[1;32m      6\u001b[0m         \u001b[0;34m.\u001b[0m\u001b[0mto_pickle\u001b[0m\u001b[0;34m(\u001b[0m\u001b[0mos\u001b[0m\u001b[0;34m.\u001b[0m\u001b[0mpath\u001b[0m\u001b[0;34m.\u001b[0m\u001b[0mjoin\u001b[0m\u001b[0;34m(\u001b[0m\u001b[0mout_dir\u001b[0m\u001b[0;34m,\u001b[0m \u001b[0;34mf'resnet_features_{i:04d}.pkl.bz2'\u001b[0m\u001b[0;34m)\u001b[0m\u001b[0;34m)\u001b[0m\u001b[0;34m\u001b[0m\u001b[0;34m\u001b[0m\u001b[0m\n",
      "\u001b[0;32m~/.local/lib/python3.6/site-packages/pandas/core/frame.py\u001b[0m in \u001b[0;36m__init__\u001b[0;34m(self, data, index, columns, dtype, copy)\u001b[0m\n\u001b[1;32m    495\u001b[0m                 \u001b[0mmgr\u001b[0m \u001b[0;34m=\u001b[0m \u001b[0minit_dict\u001b[0m\u001b[0;34m(\u001b[0m\u001b[0;34m{\u001b[0m\u001b[0mdata\u001b[0m\u001b[0;34m.\u001b[0m\u001b[0mname\u001b[0m\u001b[0;34m:\u001b[0m \u001b[0mdata\u001b[0m\u001b[0;34m}\u001b[0m\u001b[0;34m,\u001b[0m \u001b[0mindex\u001b[0m\u001b[0;34m,\u001b[0m \u001b[0mcolumns\u001b[0m\u001b[0;34m,\u001b[0m \u001b[0mdtype\u001b[0m\u001b[0;34m=\u001b[0m\u001b[0mdtype\u001b[0m\u001b[0;34m)\u001b[0m\u001b[0;34m\u001b[0m\u001b[0;34m\u001b[0m\u001b[0m\n\u001b[1;32m    496\u001b[0m             \u001b[0;32melse\u001b[0m\u001b[0;34m:\u001b[0m\u001b[0;34m\u001b[0m\u001b[0;34m\u001b[0m\u001b[0m\n\u001b[0;32m--> 497\u001b[0;31m                 \u001b[0mmgr\u001b[0m \u001b[0;34m=\u001b[0m \u001b[0minit_ndarray\u001b[0m\u001b[0;34m(\u001b[0m\u001b[0mdata\u001b[0m\u001b[0;34m,\u001b[0m \u001b[0mindex\u001b[0m\u001b[0;34m,\u001b[0m \u001b[0mcolumns\u001b[0m\u001b[0;34m,\u001b[0m \u001b[0mdtype\u001b[0m\u001b[0;34m=\u001b[0m\u001b[0mdtype\u001b[0m\u001b[0;34m,\u001b[0m \u001b[0mcopy\u001b[0m\u001b[0;34m=\u001b[0m\u001b[0mcopy\u001b[0m\u001b[0;34m)\u001b[0m\u001b[0;34m\u001b[0m\u001b[0;34m\u001b[0m\u001b[0m\n\u001b[0m\u001b[1;32m    498\u001b[0m \u001b[0;34m\u001b[0m\u001b[0m\n\u001b[1;32m    499\u001b[0m         \u001b[0;31m# For data is list-like, or Iterable (will consume into list)\u001b[0m\u001b[0;34m\u001b[0m\u001b[0;34m\u001b[0m\u001b[0;34m\u001b[0m\u001b[0m\n",
      "\u001b[0;32m~/.local/lib/python3.6/site-packages/pandas/core/internals/construction.py\u001b[0m in \u001b[0;36minit_ndarray\u001b[0;34m(values, index, columns, dtype, copy)\u001b[0m\n\u001b[1;32m    232\u001b[0m         \u001b[0mblock_values\u001b[0m \u001b[0;34m=\u001b[0m \u001b[0;34m[\u001b[0m\u001b[0mvalues\u001b[0m\u001b[0;34m]\u001b[0m\u001b[0;34m\u001b[0m\u001b[0;34m\u001b[0m\u001b[0m\n\u001b[1;32m    233\u001b[0m \u001b[0;34m\u001b[0m\u001b[0m\n\u001b[0;32m--> 234\u001b[0;31m     \u001b[0;32mreturn\u001b[0m \u001b[0mcreate_block_manager_from_blocks\u001b[0m\u001b[0;34m(\u001b[0m\u001b[0mblock_values\u001b[0m\u001b[0;34m,\u001b[0m \u001b[0;34m[\u001b[0m\u001b[0mcolumns\u001b[0m\u001b[0;34m,\u001b[0m \u001b[0mindex\u001b[0m\u001b[0;34m]\u001b[0m\u001b[0;34m)\u001b[0m\u001b[0;34m\u001b[0m\u001b[0;34m\u001b[0m\u001b[0m\n\u001b[0m\u001b[1;32m    235\u001b[0m \u001b[0;34m\u001b[0m\u001b[0m\n\u001b[1;32m    236\u001b[0m \u001b[0;34m\u001b[0m\u001b[0m\n",
      "\u001b[0;32m~/.local/lib/python3.6/site-packages/pandas/core/internals/managers.py\u001b[0m in \u001b[0;36mcreate_block_manager_from_blocks\u001b[0;34m(blocks, axes)\u001b[0m\n\u001b[1;32m   1679\u001b[0m         \u001b[0mblocks\u001b[0m \u001b[0;34m=\u001b[0m \u001b[0;34m[\u001b[0m\u001b[0mgetattr\u001b[0m\u001b[0;34m(\u001b[0m\u001b[0mb\u001b[0m\u001b[0;34m,\u001b[0m \u001b[0;34m\"values\"\u001b[0m\u001b[0;34m,\u001b[0m \u001b[0mb\u001b[0m\u001b[0;34m)\u001b[0m \u001b[0;32mfor\u001b[0m \u001b[0mb\u001b[0m \u001b[0;32min\u001b[0m \u001b[0mblocks\u001b[0m\u001b[0;34m]\u001b[0m\u001b[0;34m\u001b[0m\u001b[0;34m\u001b[0m\u001b[0m\n\u001b[1;32m   1680\u001b[0m         \u001b[0mtot_items\u001b[0m \u001b[0;34m=\u001b[0m \u001b[0msum\u001b[0m\u001b[0;34m(\u001b[0m\u001b[0mb\u001b[0m\u001b[0;34m.\u001b[0m\u001b[0mshape\u001b[0m\u001b[0;34m[\u001b[0m\u001b[0;36m0\u001b[0m\u001b[0;34m]\u001b[0m \u001b[0;32mfor\u001b[0m \u001b[0mb\u001b[0m \u001b[0;32min\u001b[0m \u001b[0mblocks\u001b[0m\u001b[0;34m)\u001b[0m\u001b[0;34m\u001b[0m\u001b[0;34m\u001b[0m\u001b[0m\n\u001b[0;32m-> 1681\u001b[0;31m         \u001b[0;32mraise\u001b[0m \u001b[0mconstruction_error\u001b[0m\u001b[0;34m(\u001b[0m\u001b[0mtot_items\u001b[0m\u001b[0;34m,\u001b[0m \u001b[0mblocks\u001b[0m\u001b[0;34m[\u001b[0m\u001b[0;36m0\u001b[0m\u001b[0;34m]\u001b[0m\u001b[0;34m.\u001b[0m\u001b[0mshape\u001b[0m\u001b[0;34m[\u001b[0m\u001b[0;36m1\u001b[0m\u001b[0;34m:\u001b[0m\u001b[0;34m]\u001b[0m\u001b[0;34m,\u001b[0m \u001b[0maxes\u001b[0m\u001b[0;34m,\u001b[0m \u001b[0me\u001b[0m\u001b[0;34m)\u001b[0m\u001b[0;34m\u001b[0m\u001b[0;34m\u001b[0m\u001b[0m\n\u001b[0m\u001b[1;32m   1682\u001b[0m \u001b[0;34m\u001b[0m\u001b[0m\n\u001b[1;32m   1683\u001b[0m \u001b[0;34m\u001b[0m\u001b[0m\n",
      "\u001b[0;31mValueError\u001b[0m: Shape of passed values is (1024, 87612), indices imply (1024, 100352)"
     ]
    }
   ],
   "source": [
    "for i, inputs_batch in tqdm(enumerate(generator)):\n",
    "    pd.DataFrame(conv_base.predict(inputs_batch).reshape((generator.batch_size, -1)), \n",
    "                 index=ids[i:i+generator.batch_size], \n",
    "                 columns=list(map(lambda x: f'r{x:06d}', range(n_features))))\\\n",
    "        .astype(pd.SparseDtype(\"float32\", 0))\\\n",
    "        .to_pickle(os.path.join(out_dir, f'resnet_features_{i:04d}.pkl.bz2'))"
   ]
  },
  {
   "cell_type": "code",
   "execution_count": null,
   "metadata": {},
   "outputs": [],
   "source": []
  },
  {
   "cell_type": "code",
   "execution_count": null,
   "metadata": {},
   "outputs": [],
   "source": [
    "images_ds = tf.data.experimental.make_csv_dataset(\n",
    "    file_pattern = \"/media/sergey/Transcend/Serega/maga_diplom/embeddings_features/feats_*.pkl\",\n",
    "    batch_size=32, num_epochs=1,\n",
    "    num_parallel_reads=20,\n",
    "    shuffle_buffer_size=10000)\n",
    "\n",
    "import gzip\n",
    "lst_pkls = ! ls /media/sergey/Transcend/Serega/maga_diplom/embeddings_features/feats_*.pkl\n",
    "cnt = 0\n",
    "for file_pkl in lst_pkls:\n",
    "    f_in = open(file_pkl, 'rb')\n",
    "    f_out = gzip.open(f'feats_{cnt}.tsv.gz', 'wb')\n",
    "    f_out.writelines(f_in)\n",
    "    f_out.close()\n",
    "    f_in.close()\n",
    "    cnt += 1\n",
    "\n",
    "\n",
    "cnt = 0\n",
    "for file_pkl in tqdm(lst_pkls):\n",
    "    df_pkl = pd.read_pickle(file_pkl)\n",
    "    df_pkl.to_csv(file_pkl + '.csv.bz2', compression='bz2')"
   ]
  },
  {
   "cell_type": "code",
   "execution_count": 9,
   "metadata": {},
   "outputs": [
    {
     "data": {
      "text/plain": [
       "100352"
      ]
     },
     "execution_count": 9,
     "metadata": {},
     "output_type": "execute_result"
    }
   ],
   "source": [
    "len(proba[0][0])"
   ]
  },
  {
   "cell_type": "code",
   "execution_count": 5,
   "metadata": {},
   "outputs": [
    {
     "name": "stderr",
     "output_type": "stream",
     "text": [
      "/home/sergey/.local/lib/python3.6/site-packages/ipykernel_launcher.py:1: VisibleDeprecationWarning: Creating an ndarray from ragged nested sequences (which is a list-or-tuple of lists-or-tuples-or ndarrays with different lengths or shapes) is deprecated. If you meant to do this, you must specify 'dtype=object' when creating the ndarray\n",
      "  \"\"\"Entry point for launching an IPython kernel.\n"
     ]
    },
    {
     "ename": "ValueError",
     "evalue": "could not broadcast input array from shape (32,100352) into shape (32)",
     "output_type": "error",
     "traceback": [
      "\u001b[0;31m---------------------------------------------------------------------------\u001b[0m",
      "\u001b[0;31mValueError\u001b[0m                                Traceback (most recent call last)",
      "\u001b[0;32m<ipython-input-5-acb2fd6332fd>\u001b[0m in \u001b[0;36m<module>\u001b[0;34m\u001b[0m\n\u001b[0;32m----> 1\u001b[0;31m \u001b[0mnp\u001b[0m\u001b[0;34m.\u001b[0m\u001b[0marray\u001b[0m\u001b[0;34m(\u001b[0m\u001b[0mproba\u001b[0m\u001b[0;34m)\u001b[0m\u001b[0;34m.\u001b[0m\u001b[0mshape\u001b[0m\u001b[0;34m\u001b[0m\u001b[0;34m\u001b[0m\u001b[0m\n\u001b[0m",
      "\u001b[0;31mValueError\u001b[0m: could not broadcast input array from shape (32,100352) into shape (32)"
     ]
    }
   ],
   "source": [
    "np.array(proba).shape"
   ]
  },
  {
   "cell_type": "code",
   "execution_count": 12,
   "metadata": {},
   "outputs": [
    {
     "data": {
      "text/plain": [
       "32"
      ]
     },
     "execution_count": 12,
     "metadata": {},
     "output_type": "execute_result"
    }
   ],
   "source": [
    "len(proba[0])"
   ]
  },
  {
   "cell_type": "code",
   "execution_count": null,
   "metadata": {},
   "outputs": [],
   "source": []
  },
  {
   "cell_type": "code",
   "execution_count": 8,
   "metadata": {},
   "outputs": [
    {
     "data": {
      "text/plain": [
       "array([[0.       , 0.       , 0.       , ..., 5.2496266, 0.       ,\n",
       "        0.       ],\n",
       "       [0.       , 0.       , 0.       , ..., 6.1779914, 0.       ,\n",
       "        0.       ],\n",
       "       [0.       , 0.       , 0.       , ..., 4.480517 , 0.       ,\n",
       "        0.       ],\n",
       "       ...,\n",
       "       [0.       , 0.       , 0.       , ..., 4.9573526, 0.       ,\n",
       "        0.       ],\n",
       "       [0.       , 0.       , 0.       , ..., 4.968891 , 0.       ,\n",
       "        0.       ],\n",
       "       [0.       , 0.       , 0.       , ..., 3.0875049, 0.       ,\n",
       "        0.       ]], dtype=float32)"
      ]
     },
     "execution_count": 8,
     "metadata": {},
     "output_type": "execute_result"
    }
   ],
   "source": [
    "proba[0]"
   ]
  },
  {
   "cell_type": "code",
   "execution_count": null,
   "metadata": {},
   "outputs": [
    {
     "name": "stderr",
     "output_type": "stream",
     "text": [
      " 39%|███▉      | 485/1244 [03:27<14:36,  1.15s/it]"
     ]
    }
   ],
   "source": [
    "features = []\n",
    "for inputs_batch in tqdm(generator):\n",
    "    features.append(conv_base.predict(inputs_batch).reshape((generator.batch_size, -1)))\n",
    "    # print(features_batch.shape)\n",
    "    # if len(features) > 3:\n",
    "    #     break"
   ]
  },
  {
   "cell_type": "code",
   "execution_count": 72,
   "metadata": {},
   "outputs": [],
   "source": [
    "ids = list(map(lambda img_name: '_'.join(img_name.rstrip('.jpg').split('/')[1].split('_')[-2:]), generator.filenames))"
   ]
  },
  {
   "cell_type": "code",
   "execution_count": null,
   "metadata": {},
   "outputs": [],
   "source": [
    "proba1 = pd.read_pickle('feats_0.pkl')"
   ]
  },
  {
   "cell_type": "code",
   "execution_count": 75,
   "metadata": {},
   "outputs": [
    {
     "data": {
      "text/html": [
       "<div>\n",
       "<style scoped>\n",
       "    .dataframe tbody tr th:only-of-type {\n",
       "        vertical-align: middle;\n",
       "    }\n",
       "\n",
       "    .dataframe tbody tr th {\n",
       "        vertical-align: top;\n",
       "    }\n",
       "\n",
       "    .dataframe thead th {\n",
       "        text-align: right;\n",
       "    }\n",
       "</style>\n",
       "<table border=\"1\" class=\"dataframe\">\n",
       "  <thead>\n",
       "    <tr style=\"text-align: right;\">\n",
       "      <th></th>\n",
       "      <th>r000000</th>\n",
       "      <th>r000001</th>\n",
       "      <th>r000002</th>\n",
       "      <th>r000003</th>\n",
       "      <th>r000004</th>\n",
       "      <th>r000005</th>\n",
       "      <th>r000006</th>\n",
       "      <th>r000007</th>\n",
       "      <th>r000008</th>\n",
       "      <th>r000009</th>\n",
       "      <th>...</th>\n",
       "      <th>r100342</th>\n",
       "      <th>r100343</th>\n",
       "      <th>r100344</th>\n",
       "      <th>r100345</th>\n",
       "      <th>r100346</th>\n",
       "      <th>r100347</th>\n",
       "      <th>r100348</th>\n",
       "      <th>r100349</th>\n",
       "      <th>r100350</th>\n",
       "      <th>r100351</th>\n",
       "    </tr>\n",
       "  </thead>\n",
       "  <tbody>\n",
       "    <tr>\n",
       "      <th>-95355317_1912243</th>\n",
       "      <td>0.0</td>\n",
       "      <td>0.0</td>\n",
       "      <td>0.0</td>\n",
       "      <td>0.0</td>\n",
       "      <td>0.0</td>\n",
       "      <td>0.0</td>\n",
       "      <td>0.0</td>\n",
       "      <td>0.0</td>\n",
       "      <td>0.0</td>\n",
       "      <td>0.0</td>\n",
       "      <td>...</td>\n",
       "      <td>0.0</td>\n",
       "      <td>0.0</td>\n",
       "      <td>0.0</td>\n",
       "      <td>0.0</td>\n",
       "      <td>0.0</td>\n",
       "      <td>0.0</td>\n",
       "      <td>0.0</td>\n",
       "      <td>6.557880</td>\n",
       "      <td>0.0</td>\n",
       "      <td>0.0</td>\n",
       "    </tr>\n",
       "    <tr>\n",
       "      <th>-95355317_1912286</th>\n",
       "      <td>0.0</td>\n",
       "      <td>0.0</td>\n",
       "      <td>0.0</td>\n",
       "      <td>0.0</td>\n",
       "      <td>0.0</td>\n",
       "      <td>0.0</td>\n",
       "      <td>0.0</td>\n",
       "      <td>0.0</td>\n",
       "      <td>0.0</td>\n",
       "      <td>0.0</td>\n",
       "      <td>...</td>\n",
       "      <td>0.0</td>\n",
       "      <td>0.0</td>\n",
       "      <td>0.0</td>\n",
       "      <td>0.0</td>\n",
       "      <td>0.0</td>\n",
       "      <td>0.0</td>\n",
       "      <td>0.0</td>\n",
       "      <td>4.763961</td>\n",
       "      <td>0.0</td>\n",
       "      <td>0.0</td>\n",
       "    </tr>\n",
       "    <tr>\n",
       "      <th>-95355317_1912322</th>\n",
       "      <td>0.0</td>\n",
       "      <td>0.0</td>\n",
       "      <td>0.0</td>\n",
       "      <td>0.0</td>\n",
       "      <td>0.0</td>\n",
       "      <td>0.0</td>\n",
       "      <td>0.0</td>\n",
       "      <td>0.0</td>\n",
       "      <td>0.0</td>\n",
       "      <td>0.0</td>\n",
       "      <td>...</td>\n",
       "      <td>0.0</td>\n",
       "      <td>0.0</td>\n",
       "      <td>0.0</td>\n",
       "      <td>0.0</td>\n",
       "      <td>0.0</td>\n",
       "      <td>0.0</td>\n",
       "      <td>0.0</td>\n",
       "      <td>4.714258</td>\n",
       "      <td>0.0</td>\n",
       "      <td>0.0</td>\n",
       "    </tr>\n",
       "    <tr>\n",
       "      <th>-95355317_1912335</th>\n",
       "      <td>0.0</td>\n",
       "      <td>0.0</td>\n",
       "      <td>0.0</td>\n",
       "      <td>0.0</td>\n",
       "      <td>0.0</td>\n",
       "      <td>0.0</td>\n",
       "      <td>0.0</td>\n",
       "      <td>0.0</td>\n",
       "      <td>0.0</td>\n",
       "      <td>0.0</td>\n",
       "      <td>...</td>\n",
       "      <td>0.0</td>\n",
       "      <td>0.0</td>\n",
       "      <td>0.0</td>\n",
       "      <td>0.0</td>\n",
       "      <td>0.0</td>\n",
       "      <td>0.0</td>\n",
       "      <td>0.0</td>\n",
       "      <td>4.368858</td>\n",
       "      <td>0.0</td>\n",
       "      <td>0.0</td>\n",
       "    </tr>\n",
       "    <tr>\n",
       "      <th>-95355317_1912342</th>\n",
       "      <td>0.0</td>\n",
       "      <td>0.0</td>\n",
       "      <td>0.0</td>\n",
       "      <td>0.0</td>\n",
       "      <td>0.0</td>\n",
       "      <td>0.0</td>\n",
       "      <td>0.0</td>\n",
       "      <td>0.0</td>\n",
       "      <td>0.0</td>\n",
       "      <td>0.0</td>\n",
       "      <td>...</td>\n",
       "      <td>0.0</td>\n",
       "      <td>0.0</td>\n",
       "      <td>0.0</td>\n",
       "      <td>0.0</td>\n",
       "      <td>0.0</td>\n",
       "      <td>0.0</td>\n",
       "      <td>0.0</td>\n",
       "      <td>5.851805</td>\n",
       "      <td>0.0</td>\n",
       "      <td>0.0</td>\n",
       "    </tr>\n",
       "    <tr>\n",
       "      <th>...</th>\n",
       "      <td>...</td>\n",
       "      <td>...</td>\n",
       "      <td>...</td>\n",
       "      <td>...</td>\n",
       "      <td>...</td>\n",
       "      <td>...</td>\n",
       "      <td>...</td>\n",
       "      <td>...</td>\n",
       "      <td>...</td>\n",
       "      <td>...</td>\n",
       "      <td>...</td>\n",
       "      <td>...</td>\n",
       "      <td>...</td>\n",
       "      <td>...</td>\n",
       "      <td>...</td>\n",
       "      <td>...</td>\n",
       "      <td>...</td>\n",
       "      <td>...</td>\n",
       "      <td>...</td>\n",
       "      <td>...</td>\n",
       "      <td>...</td>\n",
       "    </tr>\n",
       "    <tr>\n",
       "      <th>-95355317_1932758</th>\n",
       "      <td>0.0</td>\n",
       "      <td>0.0</td>\n",
       "      <td>0.0</td>\n",
       "      <td>0.0</td>\n",
       "      <td>0.0</td>\n",
       "      <td>0.0</td>\n",
       "      <td>0.0</td>\n",
       "      <td>0.0</td>\n",
       "      <td>0.0</td>\n",
       "      <td>0.0</td>\n",
       "      <td>...</td>\n",
       "      <td>0.0</td>\n",
       "      <td>0.0</td>\n",
       "      <td>0.0</td>\n",
       "      <td>0.0</td>\n",
       "      <td>0.0</td>\n",
       "      <td>0.0</td>\n",
       "      <td>0.0</td>\n",
       "      <td>6.329387</td>\n",
       "      <td>0.0</td>\n",
       "      <td>0.0</td>\n",
       "    </tr>\n",
       "    <tr>\n",
       "      <th>-95355317_1932775</th>\n",
       "      <td>0.0</td>\n",
       "      <td>0.0</td>\n",
       "      <td>0.0</td>\n",
       "      <td>0.0</td>\n",
       "      <td>0.0</td>\n",
       "      <td>0.0</td>\n",
       "      <td>0.0</td>\n",
       "      <td>0.0</td>\n",
       "      <td>0.0</td>\n",
       "      <td>0.0</td>\n",
       "      <td>...</td>\n",
       "      <td>0.0</td>\n",
       "      <td>0.0</td>\n",
       "      <td>0.0</td>\n",
       "      <td>0.0</td>\n",
       "      <td>0.0</td>\n",
       "      <td>0.0</td>\n",
       "      <td>0.0</td>\n",
       "      <td>8.029462</td>\n",
       "      <td>0.0</td>\n",
       "      <td>0.0</td>\n",
       "    </tr>\n",
       "    <tr>\n",
       "      <th>-95355317_1932880</th>\n",
       "      <td>0.0</td>\n",
       "      <td>0.0</td>\n",
       "      <td>0.0</td>\n",
       "      <td>0.0</td>\n",
       "      <td>0.0</td>\n",
       "      <td>0.0</td>\n",
       "      <td>0.0</td>\n",
       "      <td>0.0</td>\n",
       "      <td>0.0</td>\n",
       "      <td>0.0</td>\n",
       "      <td>...</td>\n",
       "      <td>0.0</td>\n",
       "      <td>0.0</td>\n",
       "      <td>0.0</td>\n",
       "      <td>0.0</td>\n",
       "      <td>0.0</td>\n",
       "      <td>0.0</td>\n",
       "      <td>0.0</td>\n",
       "      <td>4.928943</td>\n",
       "      <td>0.0</td>\n",
       "      <td>0.0</td>\n",
       "    </tr>\n",
       "    <tr>\n",
       "      <th>-95355317_1932894</th>\n",
       "      <td>0.0</td>\n",
       "      <td>0.0</td>\n",
       "      <td>0.0</td>\n",
       "      <td>0.0</td>\n",
       "      <td>0.0</td>\n",
       "      <td>0.0</td>\n",
       "      <td>0.0</td>\n",
       "      <td>0.0</td>\n",
       "      <td>0.0</td>\n",
       "      <td>0.0</td>\n",
       "      <td>...</td>\n",
       "      <td>0.0</td>\n",
       "      <td>0.0</td>\n",
       "      <td>0.0</td>\n",
       "      <td>0.0</td>\n",
       "      <td>0.0</td>\n",
       "      <td>0.0</td>\n",
       "      <td>0.0</td>\n",
       "      <td>6.703743</td>\n",
       "      <td>0.0</td>\n",
       "      <td>0.0</td>\n",
       "    </tr>\n",
       "    <tr>\n",
       "      <th>-95355317_1932981</th>\n",
       "      <td>0.0</td>\n",
       "      <td>0.0</td>\n",
       "      <td>0.0</td>\n",
       "      <td>0.0</td>\n",
       "      <td>0.0</td>\n",
       "      <td>0.0</td>\n",
       "      <td>0.0</td>\n",
       "      <td>0.0</td>\n",
       "      <td>0.0</td>\n",
       "      <td>0.0</td>\n",
       "      <td>...</td>\n",
       "      <td>0.0</td>\n",
       "      <td>0.0</td>\n",
       "      <td>0.0</td>\n",
       "      <td>0.0</td>\n",
       "      <td>0.0</td>\n",
       "      <td>0.0</td>\n",
       "      <td>0.0</td>\n",
       "      <td>6.632200</td>\n",
       "      <td>0.0</td>\n",
       "      <td>0.0</td>\n",
       "    </tr>\n",
       "  </tbody>\n",
       "</table>\n",
       "<p>128 rows × 100352 columns</p>\n",
       "</div>"
      ],
      "text/plain": [
       "                   r000000  r000001  r000002  r000003  r000004  r000005  \\\n",
       "-95355317_1912243      0.0      0.0      0.0      0.0      0.0      0.0   \n",
       "-95355317_1912286      0.0      0.0      0.0      0.0      0.0      0.0   \n",
       "-95355317_1912322      0.0      0.0      0.0      0.0      0.0      0.0   \n",
       "-95355317_1912335      0.0      0.0      0.0      0.0      0.0      0.0   \n",
       "-95355317_1912342      0.0      0.0      0.0      0.0      0.0      0.0   \n",
       "...                    ...      ...      ...      ...      ...      ...   \n",
       "-95355317_1932758      0.0      0.0      0.0      0.0      0.0      0.0   \n",
       "-95355317_1932775      0.0      0.0      0.0      0.0      0.0      0.0   \n",
       "-95355317_1932880      0.0      0.0      0.0      0.0      0.0      0.0   \n",
       "-95355317_1932894      0.0      0.0      0.0      0.0      0.0      0.0   \n",
       "-95355317_1932981      0.0      0.0      0.0      0.0      0.0      0.0   \n",
       "\n",
       "                   r000006  r000007  r000008  r000009  ...  r100342  r100343  \\\n",
       "-95355317_1912243      0.0      0.0      0.0      0.0  ...      0.0      0.0   \n",
       "-95355317_1912286      0.0      0.0      0.0      0.0  ...      0.0      0.0   \n",
       "-95355317_1912322      0.0      0.0      0.0      0.0  ...      0.0      0.0   \n",
       "-95355317_1912335      0.0      0.0      0.0      0.0  ...      0.0      0.0   \n",
       "-95355317_1912342      0.0      0.0      0.0      0.0  ...      0.0      0.0   \n",
       "...                    ...      ...      ...      ...  ...      ...      ...   \n",
       "-95355317_1932758      0.0      0.0      0.0      0.0  ...      0.0      0.0   \n",
       "-95355317_1932775      0.0      0.0      0.0      0.0  ...      0.0      0.0   \n",
       "-95355317_1932880      0.0      0.0      0.0      0.0  ...      0.0      0.0   \n",
       "-95355317_1932894      0.0      0.0      0.0      0.0  ...      0.0      0.0   \n",
       "-95355317_1932981      0.0      0.0      0.0      0.0  ...      0.0      0.0   \n",
       "\n",
       "                   r100344  r100345  r100346  r100347  r100348   r100349  \\\n",
       "-95355317_1912243      0.0      0.0      0.0      0.0      0.0  6.557880   \n",
       "-95355317_1912286      0.0      0.0      0.0      0.0      0.0  4.763961   \n",
       "-95355317_1912322      0.0      0.0      0.0      0.0      0.0  4.714258   \n",
       "-95355317_1912335      0.0      0.0      0.0      0.0      0.0  4.368858   \n",
       "-95355317_1912342      0.0      0.0      0.0      0.0      0.0  5.851805   \n",
       "...                    ...      ...      ...      ...      ...       ...   \n",
       "-95355317_1932758      0.0      0.0      0.0      0.0      0.0  6.329387   \n",
       "-95355317_1932775      0.0      0.0      0.0      0.0      0.0  8.029462   \n",
       "-95355317_1932880      0.0      0.0      0.0      0.0      0.0  4.928943   \n",
       "-95355317_1932894      0.0      0.0      0.0      0.0      0.0  6.703743   \n",
       "-95355317_1932981      0.0      0.0      0.0      0.0      0.0  6.632200   \n",
       "\n",
       "                   r100350  r100351  \n",
       "-95355317_1912243      0.0      0.0  \n",
       "-95355317_1912286      0.0      0.0  \n",
       "-95355317_1912322      0.0      0.0  \n",
       "-95355317_1912335      0.0      0.0  \n",
       "-95355317_1912342      0.0      0.0  \n",
       "...                    ...      ...  \n",
       "-95355317_1932758      0.0      0.0  \n",
       "-95355317_1932775      0.0      0.0  \n",
       "-95355317_1932880      0.0      0.0  \n",
       "-95355317_1932894      0.0      0.0  \n",
       "-95355317_1932981      0.0      0.0  \n",
       "\n",
       "[128 rows x 100352 columns]"
      ]
     },
     "execution_count": 75,
     "metadata": {},
     "output_type": "execute_result"
    }
   ],
   "source": [
    "df_resnet_features = pd.DataFrame(np.vstack(features), index=ids, columns=list(map(lambda x: f'r{x:06d}', range(features[0].shape[1]))))\n",
    "df_resnet_features"
   ]
  },
  {
   "cell_type": "code",
   "execution_count": 7,
   "metadata": {},
   "outputs": [
    {
     "data": {
      "text/plain": [
       "(39807, 27)"
      ]
     },
     "execution_count": 7,
     "metadata": {},
     "output_type": "execute_result"
    }
   ],
   "source": [
    "final_df.shape"
   ]
  },
  {
   "cell_type": "code",
   "execution_count": 13,
   "metadata": {},
   "outputs": [
    {
     "data": {
      "text/plain": [
       "(7289, 27)"
      ]
     },
     "execution_count": 13,
     "metadata": {},
     "output_type": "execute_result"
    }
   ],
   "source": [
    "final_df.shape"
   ]
  },
  {
   "cell_type": "code",
   "execution_count": 39,
   "metadata": {},
   "outputs": [
    {
     "data": {
      "text/plain": [
       "(1, 512)"
      ]
     },
     "execution_count": 39,
     "metadata": {},
     "output_type": "execute_result"
    }
   ],
   "source": [
    "embed_text('ololo').numpy().shape"
   ]
  },
  {
   "cell_type": "code",
   "execution_count": 42,
   "metadata": {},
   "outputs": [
    {
     "data": {
      "text/plain": [
       "(1, 512)"
      ]
     },
     "execution_count": 42,
     "metadata": {},
     "output_type": "execute_result"
    }
   ],
   "source": [
    "embed_text('eeee').numpy().shape"
   ]
  },
  {
   "cell_type": "code",
   "execution_count": 41,
   "metadata": {},
   "outputs": [
    {
     "ename": "TypeError",
     "evalue": "concatenate() got multiple values for argument 'axis'",
     "output_type": "error",
     "traceback": [
      "\u001b[0;31m---------------------------------------------------------------------------\u001b[0m",
      "\u001b[0;31mTypeError\u001b[0m                                 Traceback (most recent call last)",
      "\u001b[0;32m<ipython-input-41-33f5c81b6ed0>\u001b[0m in \u001b[0;36m<module>\u001b[0;34m\u001b[0m\n\u001b[1;32m      1\u001b[0m \u001b[0mt1\u001b[0m \u001b[0;34m=\u001b[0m \u001b[0membed_text\u001b[0m\u001b[0;34m(\u001b[0m\u001b[0;34m'ololo'\u001b[0m\u001b[0;34m)\u001b[0m\u001b[0;34m.\u001b[0m\u001b[0mnumpy\u001b[0m\u001b[0;34m(\u001b[0m\u001b[0;34m)\u001b[0m\u001b[0;34m\u001b[0m\u001b[0;34m\u001b[0m\u001b[0m\n\u001b[1;32m      2\u001b[0m \u001b[0mt2\u001b[0m \u001b[0;34m=\u001b[0m \u001b[0membed_text\u001b[0m\u001b[0;34m(\u001b[0m\u001b[0;34m'eeee'\u001b[0m\u001b[0;34m)\u001b[0m\u001b[0;34m.\u001b[0m\u001b[0mnumpy\u001b[0m\u001b[0;34m(\u001b[0m\u001b[0;34m)\u001b[0m\u001b[0;34m\u001b[0m\u001b[0;34m\u001b[0m\u001b[0m\n\u001b[0;32m----> 3\u001b[0;31m \u001b[0mnp\u001b[0m\u001b[0;34m.\u001b[0m\u001b[0mconcatenate\u001b[0m\u001b[0;34m(\u001b[0m\u001b[0mt1\u001b[0m\u001b[0;34m,\u001b[0m \u001b[0mt2\u001b[0m\u001b[0;34m,\u001b[0m \u001b[0maxis\u001b[0m\u001b[0;34m=\u001b[0m\u001b[0;36m0\u001b[0m\u001b[0;34m)\u001b[0m\u001b[0;34m\u001b[0m\u001b[0;34m\u001b[0m\u001b[0m\n\u001b[0m",
      "\u001b[0;32m<__array_function__ internals>\u001b[0m in \u001b[0;36mconcatenate\u001b[0;34m(*args, **kwargs)\u001b[0m\n",
      "\u001b[0;31mTypeError\u001b[0m: concatenate() got multiple values for argument 'axis'"
     ]
    }
   ],
   "source": [
    "t1 = embed_text('ololo').numpy()\n",
    "t2 = embed_text('eeee').numpy()\n",
    "np.concatenate(t1, t2, axis=0)"
   ]
  },
  {
   "cell_type": "code",
   "execution_count": null,
   "metadata": {},
   "outputs": [
    {
     "data": {
      "text/plain": [
       "(1024,)"
      ]
     },
     "execution_count": 44,
     "metadata": {},
     "output_type": "execute_result"
    }
   ],
   "source": [
    "np.append(t1, t2).shape"
   ]
  },
  {
   "cell_type": "code",
   "execution_count": 31,
   "metadata": {},
   "outputs": [
    {
     "name": "stderr",
     "output_type": "stream",
     "text": [
      "32591it [06:10, 88.06it/s]\n"
     ]
    }
   ],
   "source": [
    "lst_embeds = []\n",
    "for index, row in tqdm(final_df.iterrows()):\n",
    "    s1 = embed_text([row['description_image']]).numpy()\n",
    "    s2 = embed_text([row['spell_text_with_re']]).numpy()\n",
    "    # s3 = embed_text([row['text_post']]).numpy()\n",
    "    lst_embeds.append(np.hstack((s1, s2)))\n",
    "    # s3_s1 = np.append(s3, s1)\n",
    "    # lst_embeds.append(s3_s1)"
   ]
  },
  {
   "cell_type": "code",
   "execution_count": 10,
   "metadata": {},
   "outputs": [
    {
     "data": {
      "text/plain": [
       "(39807, 1024)"
      ]
     },
     "execution_count": 10,
     "metadata": {},
     "output_type": "execute_result"
    }
   ],
   "source": [
    "np.vstack(lst_embeds).shape"
   ]
  },
  {
   "cell_type": "code",
   "execution_count": 17,
   "metadata": {},
   "outputs": [
    {
     "data": {
      "text/plain": [
       "(7289, 512)"
      ]
     },
     "execution_count": 17,
     "metadata": {},
     "output_type": "execute_result"
    }
   ],
   "source": [
    "np.vstack(lst_embeds).shape"
   ]
  },
  {
   "cell_type": "code",
   "execution_count": 78,
   "metadata": {},
   "outputs": [
    {
     "data": {
      "text/plain": [
       "Index(['id_community', 'id_post', 'date_posted', 'count_likes', 'count_views',\n",
       "       'count_comments', 'count_reposts', 'text_post', 'image_url', 'post_url',\n",
       "       'type_post', 'text_ocr_image', 'size_text_ocr', 'spell_text_ocr_image',\n",
       "       'sentiment_text_post_1', 'sentiment_text_post_2',\n",
       "       'level_sentiment_post_1', 'level_sentiment_post_2',\n",
       "       'sentiment_text_ocr_image_1', 'sentiment_text_ocr_image_2',\n",
       "       'level_sentiment_ocr_1', 'level_sentiment_ocr_2', 'description_image',\n",
       "       'spell_text_with_re', 'perc_unk_words', 'perc_unk_words_re',\n",
       "       'pop_class'],\n",
       "      dtype='object')"
      ]
     },
     "execution_count": 78,
     "metadata": {},
     "output_type": "execute_result"
    }
   ],
   "source": [
    "final_df.columns"
   ]
  },
  {
   "cell_type": "code",
   "execution_count": 32,
   "metadata": {},
   "outputs": [],
   "source": [
    "ids_e = final_df.apply(lambda row: f\"{row['id_community']}_{row['id_post']}\", axis=1)"
   ]
  },
  {
   "cell_type": "code",
   "execution_count": 33,
   "metadata": {},
   "outputs": [],
   "source": [
    "final_df['full_id'] = final_df.apply(lambda row: f\"{row['id_community']}_{row['id_post']}\", axis=1)"
   ]
  },
  {
   "cell_type": "code",
   "execution_count": 34,
   "metadata": {},
   "outputs": [
    {
     "data": {
      "text/html": [
       "<div>\n",
       "<style scoped>\n",
       "    .dataframe tbody tr th:only-of-type {\n",
       "        vertical-align: middle;\n",
       "    }\n",
       "\n",
       "    .dataframe tbody tr th {\n",
       "        vertical-align: top;\n",
       "    }\n",
       "\n",
       "    .dataframe thead th {\n",
       "        text-align: right;\n",
       "    }\n",
       "</style>\n",
       "<table border=\"1\" class=\"dataframe\">\n",
       "  <thead>\n",
       "    <tr style=\"text-align: right;\">\n",
       "      <th></th>\n",
       "      <th>id_community</th>\n",
       "      <th>id_post</th>\n",
       "      <th>date_posted</th>\n",
       "      <th>count_likes</th>\n",
       "      <th>count_views</th>\n",
       "      <th>count_comments</th>\n",
       "      <th>count_reposts</th>\n",
       "      <th>text_post</th>\n",
       "      <th>image_url</th>\n",
       "      <th>post_url</th>\n",
       "      <th>...</th>\n",
       "      <th>level_sentiment_ocr_1</th>\n",
       "      <th>level_sentiment_ocr_2</th>\n",
       "      <th>description_image</th>\n",
       "      <th>spell_text_with_re</th>\n",
       "      <th>perc_unk_words</th>\n",
       "      <th>perc_unk_words_re</th>\n",
       "      <th>pop_class</th>\n",
       "      <th>likes_per_views</th>\n",
       "      <th>id_community_str</th>\n",
       "      <th>full_id</th>\n",
       "    </tr>\n",
       "  </thead>\n",
       "  <tbody>\n",
       "    <tr>\n",
       "      <th>3</th>\n",
       "      <td>-95355317</td>\n",
       "      <td>2106029</td>\n",
       "      <td>2022-05-12 10:03:00</td>\n",
       "      <td>9</td>\n",
       "      <td>8934.0</td>\n",
       "      <td>7</td>\n",
       "      <td>5</td>\n",
       "      <td>NaN</td>\n",
       "      <td>https://sun1-55.userapi.com/s/v1/ig2/iyfPNRSKA...</td>\n",
       "      <td>https://vk.com/wall-95355317_2106029</td>\n",
       "      <td>...</td>\n",
       "      <td>0.976321</td>\n",
       "      <td>0.275140</td>\n",
       "      <td>a small console table is made out of a metal</td>\n",
       "      <td>не могу понять стоит или лежит</td>\n",
       "      <td>0.000000</td>\n",
       "      <td>0.000000</td>\n",
       "      <td>0.0</td>\n",
       "      <td>0.001007</td>\n",
       "      <td>-95355317</td>\n",
       "      <td>-95355317_2106029</td>\n",
       "    </tr>\n",
       "    <tr>\n",
       "      <th>5</th>\n",
       "      <td>-95355317</td>\n",
       "      <td>2105981</td>\n",
       "      <td>2022-05-11 19:10:00</td>\n",
       "      <td>378</td>\n",
       "      <td>23118.0</td>\n",
       "      <td>2</td>\n",
       "      <td>161</td>\n",
       "      <td>NaN</td>\n",
       "      <td>https://sun1-96.userapi.com/s/v1/ig2/0Etc7GMf3...</td>\n",
       "      <td>https://vk.com/wall-95355317_2105981</td>\n",
       "      <td>...</td>\n",
       "      <td>0.362979</td>\n",
       "      <td>0.239359</td>\n",
       "      <td>the face of a monkey on a screenshot of a cell...</td>\n",
       "      <td>влад крутится ли воздух внутри колеса вчера в ...</td>\n",
       "      <td>0.354167</td>\n",
       "      <td>0.125000</td>\n",
       "      <td>1.0</td>\n",
       "      <td>0.016350</td>\n",
       "      <td>-95355317</td>\n",
       "      <td>-95355317_2105981</td>\n",
       "    </tr>\n",
       "    <tr>\n",
       "      <th>10</th>\n",
       "      <td>-95355317</td>\n",
       "      <td>2105956</td>\n",
       "      <td>2022-05-11 07:10:00</td>\n",
       "      <td>93</td>\n",
       "      <td>7088.0</td>\n",
       "      <td>0</td>\n",
       "      <td>19</td>\n",
       "      <td>NaN</td>\n",
       "      <td>https://sun1-99.userapi.com/s/v1/ig2/y-mz37wCm...</td>\n",
       "      <td>https://vk.com/wall-95355317_2105956</td>\n",
       "      <td>...</td>\n",
       "      <td>0.963790</td>\n",
       "      <td>0.073706</td>\n",
       "      <td>a screenshot of a tweet with a picture of a ma...</td>\n",
       "      <td>ап ди дог   в ответ под  продукты  в магазинах...</td>\n",
       "      <td>0.375000</td>\n",
       "      <td>0.074074</td>\n",
       "      <td>1.0</td>\n",
       "      <td>0.013119</td>\n",
       "      <td>-95355317</td>\n",
       "      <td>-95355317_2105956</td>\n",
       "    </tr>\n",
       "    <tr>\n",
       "      <th>12</th>\n",
       "      <td>-95355317</td>\n",
       "      <td>2105872</td>\n",
       "      <td>2022-05-10 10:02:01</td>\n",
       "      <td>249</td>\n",
       "      <td>17896.0</td>\n",
       "      <td>2</td>\n",
       "      <td>123</td>\n",
       "      <td>NaN</td>\n",
       "      <td>https://sun1-89.userapi.com/s/v1/ig2/nvBHvrDEK...</td>\n",
       "      <td>https://vk.com/wall-95355317_2105872</td>\n",
       "      <td>...</td>\n",
       "      <td>0.327678</td>\n",
       "      <td>0.239359</td>\n",
       "      <td>a man is holding a cell phone in a car</td>\n",
       "      <td>быстро руки вверх   с аи воктебяцвлувгговоритч...</td>\n",
       "      <td>0.533333</td>\n",
       "      <td>0.272727</td>\n",
       "      <td>1.0</td>\n",
       "      <td>0.013913</td>\n",
       "      <td>-95355317</td>\n",
       "      <td>-95355317_2105872</td>\n",
       "    </tr>\n",
       "    <tr>\n",
       "      <th>13</th>\n",
       "      <td>-95355317</td>\n",
       "      <td>2105814</td>\n",
       "      <td>2022-05-09 14:02:01</td>\n",
       "      <td>25</td>\n",
       "      <td>8774.0</td>\n",
       "      <td>5</td>\n",
       "      <td>22</td>\n",
       "      <td>NaN</td>\n",
       "      <td>https://sun1-23.userapi.com/s/v1/ig2/cl7KiNoiD...</td>\n",
       "      <td>https://vk.com/wall-95355317_2105814</td>\n",
       "      <td>...</td>\n",
       "      <td>0.964865</td>\n",
       "      <td>0.040856</td>\n",
       "      <td>a car tyre covered in rust next to a tire cove...</td>\n",
       "      <td>кто знает что делать чтобы шины не ржавели бот</td>\n",
       "      <td>0.333333</td>\n",
       "      <td>0.000000</td>\n",
       "      <td>0.0</td>\n",
       "      <td>0.002849</td>\n",
       "      <td>-95355317</td>\n",
       "      <td>-95355317_2105814</td>\n",
       "    </tr>\n",
       "  </tbody>\n",
       "</table>\n",
       "<p>5 rows × 30 columns</p>\n",
       "</div>"
      ],
      "text/plain": [
       "    id_community  id_post         date_posted  count_likes  count_views  \\\n",
       "3      -95355317  2106029 2022-05-12 10:03:00            9       8934.0   \n",
       "5      -95355317  2105981 2022-05-11 19:10:00          378      23118.0   \n",
       "10     -95355317  2105956 2022-05-11 07:10:00           93       7088.0   \n",
       "12     -95355317  2105872 2022-05-10 10:02:01          249      17896.0   \n",
       "13     -95355317  2105814 2022-05-09 14:02:01           25       8774.0   \n",
       "\n",
       "    count_comments  count_reposts text_post  \\\n",
       "3                7              5       NaN   \n",
       "5                2            161       NaN   \n",
       "10               0             19       NaN   \n",
       "12               2            123       NaN   \n",
       "13               5             22       NaN   \n",
       "\n",
       "                                            image_url  \\\n",
       "3   https://sun1-55.userapi.com/s/v1/ig2/iyfPNRSKA...   \n",
       "5   https://sun1-96.userapi.com/s/v1/ig2/0Etc7GMf3...   \n",
       "10  https://sun1-99.userapi.com/s/v1/ig2/y-mz37wCm...   \n",
       "12  https://sun1-89.userapi.com/s/v1/ig2/nvBHvrDEK...   \n",
       "13  https://sun1-23.userapi.com/s/v1/ig2/cl7KiNoiD...   \n",
       "\n",
       "                                post_url  ... level_sentiment_ocr_1  \\\n",
       "3   https://vk.com/wall-95355317_2106029  ...              0.976321   \n",
       "5   https://vk.com/wall-95355317_2105981  ...              0.362979   \n",
       "10  https://vk.com/wall-95355317_2105956  ...              0.963790   \n",
       "12  https://vk.com/wall-95355317_2105872  ...              0.327678   \n",
       "13  https://vk.com/wall-95355317_2105814  ...              0.964865   \n",
       "\n",
       "   level_sentiment_ocr_2                                  description_image  \\\n",
       "3               0.275140       a small console table is made out of a metal   \n",
       "5               0.239359  the face of a monkey on a screenshot of a cell...   \n",
       "10              0.073706  a screenshot of a tweet with a picture of a ma...   \n",
       "12              0.239359             a man is holding a cell phone in a car   \n",
       "13              0.040856  a car tyre covered in rust next to a tire cove...   \n",
       "\n",
       "                                   spell_text_with_re perc_unk_words  \\\n",
       "3                      не могу понять стоит или лежит       0.000000   \n",
       "5   влад крутится ли воздух внутри колеса вчера в ...       0.354167   \n",
       "10  ап ди дог   в ответ под  продукты  в магазинах...       0.375000   \n",
       "12  быстро руки вверх   с аи воктебяцвлувгговоритч...       0.533333   \n",
       "13     кто знает что делать чтобы шины не ржавели бот       0.333333   \n",
       "\n",
       "   perc_unk_words_re  pop_class  likes_per_views id_community_str  \\\n",
       "3           0.000000        0.0         0.001007        -95355317   \n",
       "5           0.125000        1.0         0.016350        -95355317   \n",
       "10          0.074074        1.0         0.013119        -95355317   \n",
       "12          0.272727        1.0         0.013913        -95355317   \n",
       "13          0.000000        0.0         0.002849        -95355317   \n",
       "\n",
       "              full_id  \n",
       "3   -95355317_2106029  \n",
       "5   -95355317_2105981  \n",
       "10  -95355317_2105956  \n",
       "12  -95355317_2105872  \n",
       "13  -95355317_2105814  \n",
       "\n",
       "[5 rows x 30 columns]"
      ]
     },
     "execution_count": 34,
     "metadata": {},
     "output_type": "execute_result"
    }
   ],
   "source": [
    "final_df.head()"
   ]
  },
  {
   "cell_type": "code",
   "execution_count": 35,
   "metadata": {},
   "outputs": [],
   "source": [
    "df_class = final_df.set_index('full_id')['pop_class']"
   ]
  },
  {
   "cell_type": "code",
   "execution_count": 36,
   "metadata": {},
   "outputs": [
    {
     "data": {
      "text/plain": [
       "full_id\n",
       "-95355317_2106029    0.0\n",
       "-95355317_2105981    1.0\n",
       "-95355317_2105956    1.0\n",
       "-95355317_2105872    1.0\n",
       "-95355317_2105814    0.0\n",
       "Name: pop_class, dtype: float64"
      ]
     },
     "execution_count": 36,
     "metadata": {},
     "output_type": "execute_result"
    }
   ],
   "source": [
    "df_class.head()"
   ]
  },
  {
   "cell_type": "code",
   "execution_count": 86,
   "metadata": {},
   "outputs": [],
   "source": [
    "df_class.to_pickle('classes_pop_text.pkl.bz2')"
   ]
  },
  {
   "cell_type": "code",
   "execution_count": 37,
   "metadata": {},
   "outputs": [
    {
     "data": {
      "text/html": [
       "<div>\n",
       "<style scoped>\n",
       "    .dataframe tbody tr th:only-of-type {\n",
       "        vertical-align: middle;\n",
       "    }\n",
       "\n",
       "    .dataframe tbody tr th {\n",
       "        vertical-align: top;\n",
       "    }\n",
       "\n",
       "    .dataframe thead th {\n",
       "        text-align: right;\n",
       "    }\n",
       "</style>\n",
       "<table border=\"1\" class=\"dataframe\">\n",
       "  <thead>\n",
       "    <tr style=\"text-align: right;\">\n",
       "      <th></th>\n",
       "      <th>e0000</th>\n",
       "      <th>e0001</th>\n",
       "      <th>e0002</th>\n",
       "      <th>e0003</th>\n",
       "      <th>e0004</th>\n",
       "      <th>e0005</th>\n",
       "      <th>e0006</th>\n",
       "      <th>e0007</th>\n",
       "      <th>e0008</th>\n",
       "      <th>e0009</th>\n",
       "      <th>...</th>\n",
       "      <th>e1014</th>\n",
       "      <th>e1015</th>\n",
       "      <th>e1016</th>\n",
       "      <th>e1017</th>\n",
       "      <th>e1018</th>\n",
       "      <th>e1019</th>\n",
       "      <th>e1020</th>\n",
       "      <th>e1021</th>\n",
       "      <th>e1022</th>\n",
       "      <th>e1023</th>\n",
       "    </tr>\n",
       "  </thead>\n",
       "  <tbody>\n",
       "    <tr>\n",
       "      <th>-95355317_2106029</th>\n",
       "      <td>-0.045382</td>\n",
       "      <td>0.015105</td>\n",
       "      <td>0.038909</td>\n",
       "      <td>-0.010901</td>\n",
       "      <td>-0.016286</td>\n",
       "      <td>-0.055293</td>\n",
       "      <td>-0.027288</td>\n",
       "      <td>0.015078</td>\n",
       "      <td>0.057733</td>\n",
       "      <td>-0.072396</td>\n",
       "      <td>...</td>\n",
       "      <td>-0.039408</td>\n",
       "      <td>-0.005850</td>\n",
       "      <td>-0.004164</td>\n",
       "      <td>0.004020</td>\n",
       "      <td>-0.060126</td>\n",
       "      <td>-0.054701</td>\n",
       "      <td>-0.040827</td>\n",
       "      <td>-0.026879</td>\n",
       "      <td>0.076339</td>\n",
       "      <td>0.084979</td>\n",
       "    </tr>\n",
       "    <tr>\n",
       "      <th>-95355317_2105981</th>\n",
       "      <td>-0.056735</td>\n",
       "      <td>0.058037</td>\n",
       "      <td>0.033955</td>\n",
       "      <td>0.017643</td>\n",
       "      <td>-0.009828</td>\n",
       "      <td>-0.048618</td>\n",
       "      <td>-0.048682</td>\n",
       "      <td>0.052804</td>\n",
       "      <td>0.042236</td>\n",
       "      <td>-0.044791</td>\n",
       "      <td>...</td>\n",
       "      <td>-0.042704</td>\n",
       "      <td>0.048332</td>\n",
       "      <td>-0.046734</td>\n",
       "      <td>0.053527</td>\n",
       "      <td>0.027771</td>\n",
       "      <td>-0.068680</td>\n",
       "      <td>0.041872</td>\n",
       "      <td>-0.038115</td>\n",
       "      <td>-0.036452</td>\n",
       "      <td>0.076066</td>\n",
       "    </tr>\n",
       "    <tr>\n",
       "      <th>-95355317_2105956</th>\n",
       "      <td>-0.072401</td>\n",
       "      <td>0.019030</td>\n",
       "      <td>0.032850</td>\n",
       "      <td>-0.020307</td>\n",
       "      <td>0.003589</td>\n",
       "      <td>-0.050357</td>\n",
       "      <td>-0.001287</td>\n",
       "      <td>0.000843</td>\n",
       "      <td>0.019513</td>\n",
       "      <td>-0.024284</td>\n",
       "      <td>...</td>\n",
       "      <td>-0.086993</td>\n",
       "      <td>0.062245</td>\n",
       "      <td>0.019802</td>\n",
       "      <td>0.052675</td>\n",
       "      <td>0.061938</td>\n",
       "      <td>0.000885</td>\n",
       "      <td>-0.019714</td>\n",
       "      <td>0.017789</td>\n",
       "      <td>-0.037247</td>\n",
       "      <td>0.058796</td>\n",
       "    </tr>\n",
       "    <tr>\n",
       "      <th>-95355317_2105872</th>\n",
       "      <td>-0.021468</td>\n",
       "      <td>0.056831</td>\n",
       "      <td>-0.031442</td>\n",
       "      <td>-0.010386</td>\n",
       "      <td>0.012000</td>\n",
       "      <td>-0.070602</td>\n",
       "      <td>-0.031497</td>\n",
       "      <td>-0.010290</td>\n",
       "      <td>0.023301</td>\n",
       "      <td>-0.035283</td>\n",
       "      <td>...</td>\n",
       "      <td>-0.069001</td>\n",
       "      <td>0.072397</td>\n",
       "      <td>-0.021274</td>\n",
       "      <td>0.060612</td>\n",
       "      <td>-0.019083</td>\n",
       "      <td>-0.060826</td>\n",
       "      <td>0.014437</td>\n",
       "      <td>-0.029841</td>\n",
       "      <td>0.005074</td>\n",
       "      <td>-0.047073</td>\n",
       "    </tr>\n",
       "    <tr>\n",
       "      <th>-95355317_2105814</th>\n",
       "      <td>-0.056996</td>\n",
       "      <td>0.043614</td>\n",
       "      <td>0.032862</td>\n",
       "      <td>0.037755</td>\n",
       "      <td>-0.028998</td>\n",
       "      <td>0.026503</td>\n",
       "      <td>-0.006315</td>\n",
       "      <td>0.047755</td>\n",
       "      <td>0.038705</td>\n",
       "      <td>-0.002482</td>\n",
       "      <td>...</td>\n",
       "      <td>-0.086907</td>\n",
       "      <td>0.004860</td>\n",
       "      <td>-0.088822</td>\n",
       "      <td>0.018629</td>\n",
       "      <td>-0.015105</td>\n",
       "      <td>0.077992</td>\n",
       "      <td>0.050686</td>\n",
       "      <td>-0.003180</td>\n",
       "      <td>-0.023447</td>\n",
       "      <td>0.091834</td>\n",
       "    </tr>\n",
       "    <tr>\n",
       "      <th>...</th>\n",
       "      <td>...</td>\n",
       "      <td>...</td>\n",
       "      <td>...</td>\n",
       "      <td>...</td>\n",
       "      <td>...</td>\n",
       "      <td>...</td>\n",
       "      <td>...</td>\n",
       "      <td>...</td>\n",
       "      <td>...</td>\n",
       "      <td>...</td>\n",
       "      <td>...</td>\n",
       "      <td>...</td>\n",
       "      <td>...</td>\n",
       "      <td>...</td>\n",
       "      <td>...</td>\n",
       "      <td>...</td>\n",
       "      <td>...</td>\n",
       "      <td>...</td>\n",
       "      <td>...</td>\n",
       "      <td>...</td>\n",
       "      <td>...</td>\n",
       "    </tr>\n",
       "    <tr>\n",
       "      <th>-25679656_82680</th>\n",
       "      <td>-0.060062</td>\n",
       "      <td>-0.074292</td>\n",
       "      <td>0.010148</td>\n",
       "      <td>0.053190</td>\n",
       "      <td>-0.026458</td>\n",
       "      <td>-0.005586</td>\n",
       "      <td>-0.038530</td>\n",
       "      <td>0.020875</td>\n",
       "      <td>-0.004144</td>\n",
       "      <td>-0.060206</td>\n",
       "      <td>...</td>\n",
       "      <td>0.027932</td>\n",
       "      <td>-0.025601</td>\n",
       "      <td>0.003386</td>\n",
       "      <td>0.021092</td>\n",
       "      <td>0.006187</td>\n",
       "      <td>-0.000244</td>\n",
       "      <td>0.006802</td>\n",
       "      <td>-0.111398</td>\n",
       "      <td>0.005562</td>\n",
       "      <td>0.002470</td>\n",
       "    </tr>\n",
       "    <tr>\n",
       "      <th>-25679656_82632</th>\n",
       "      <td>-0.062597</td>\n",
       "      <td>-0.020157</td>\n",
       "      <td>0.062290</td>\n",
       "      <td>-0.018229</td>\n",
       "      <td>-0.049994</td>\n",
       "      <td>-0.020338</td>\n",
       "      <td>-0.019951</td>\n",
       "      <td>0.062228</td>\n",
       "      <td>0.023368</td>\n",
       "      <td>0.003615</td>\n",
       "      <td>...</td>\n",
       "      <td>-0.067908</td>\n",
       "      <td>-0.032108</td>\n",
       "      <td>-0.041480</td>\n",
       "      <td>0.072295</td>\n",
       "      <td>0.041735</td>\n",
       "      <td>0.021442</td>\n",
       "      <td>-0.036564</td>\n",
       "      <td>0.061584</td>\n",
       "      <td>0.006815</td>\n",
       "      <td>0.036258</td>\n",
       "    </tr>\n",
       "    <tr>\n",
       "      <th>-25679656_82616</th>\n",
       "      <td>-0.055474</td>\n",
       "      <td>0.061177</td>\n",
       "      <td>-0.068705</td>\n",
       "      <td>0.006998</td>\n",
       "      <td>-0.069634</td>\n",
       "      <td>-0.073594</td>\n",
       "      <td>-0.010908</td>\n",
       "      <td>-0.015026</td>\n",
       "      <td>-0.009250</td>\n",
       "      <td>-0.017432</td>\n",
       "      <td>...</td>\n",
       "      <td>-0.094328</td>\n",
       "      <td>-0.027860</td>\n",
       "      <td>-0.064867</td>\n",
       "      <td>0.008819</td>\n",
       "      <td>-0.029663</td>\n",
       "      <td>-0.035440</td>\n",
       "      <td>-0.005113</td>\n",
       "      <td>-0.018294</td>\n",
       "      <td>0.025350</td>\n",
       "      <td>0.101190</td>\n",
       "    </tr>\n",
       "    <tr>\n",
       "      <th>-25679656_82602</th>\n",
       "      <td>-0.067703</td>\n",
       "      <td>-0.009679</td>\n",
       "      <td>-0.018420</td>\n",
       "      <td>-0.089618</td>\n",
       "      <td>-0.038573</td>\n",
       "      <td>-0.009198</td>\n",
       "      <td>0.041233</td>\n",
       "      <td>-0.010712</td>\n",
       "      <td>0.041405</td>\n",
       "      <td>0.054285</td>\n",
       "      <td>...</td>\n",
       "      <td>-0.047895</td>\n",
       "      <td>-0.017177</td>\n",
       "      <td>0.080150</td>\n",
       "      <td>0.004881</td>\n",
       "      <td>-0.021043</td>\n",
       "      <td>-0.025309</td>\n",
       "      <td>-0.045976</td>\n",
       "      <td>0.001684</td>\n",
       "      <td>0.055003</td>\n",
       "      <td>0.045826</td>\n",
       "    </tr>\n",
       "    <tr>\n",
       "      <th>-25679656_82515</th>\n",
       "      <td>-0.084222</td>\n",
       "      <td>-0.047938</td>\n",
       "      <td>-0.014110</td>\n",
       "      <td>0.011156</td>\n",
       "      <td>-0.004049</td>\n",
       "      <td>-0.065431</td>\n",
       "      <td>0.044474</td>\n",
       "      <td>-0.052167</td>\n",
       "      <td>0.049828</td>\n",
       "      <td>-0.069548</td>\n",
       "      <td>...</td>\n",
       "      <td>-0.051802</td>\n",
       "      <td>-0.001538</td>\n",
       "      <td>0.037328</td>\n",
       "      <td>0.034664</td>\n",
       "      <td>0.067447</td>\n",
       "      <td>-0.046121</td>\n",
       "      <td>0.041919</td>\n",
       "      <td>-0.008033</td>\n",
       "      <td>-0.039828</td>\n",
       "      <td>-0.028403</td>\n",
       "    </tr>\n",
       "  </tbody>\n",
       "</table>\n",
       "<p>32591 rows × 1024 columns</p>\n",
       "</div>"
      ],
      "text/plain": [
       "                      e0000     e0001     e0002     e0003     e0004     e0005  \\\n",
       "-95355317_2106029 -0.045382  0.015105  0.038909 -0.010901 -0.016286 -0.055293   \n",
       "-95355317_2105981 -0.056735  0.058037  0.033955  0.017643 -0.009828 -0.048618   \n",
       "-95355317_2105956 -0.072401  0.019030  0.032850 -0.020307  0.003589 -0.050357   \n",
       "-95355317_2105872 -0.021468  0.056831 -0.031442 -0.010386  0.012000 -0.070602   \n",
       "-95355317_2105814 -0.056996  0.043614  0.032862  0.037755 -0.028998  0.026503   \n",
       "...                     ...       ...       ...       ...       ...       ...   \n",
       "-25679656_82680   -0.060062 -0.074292  0.010148  0.053190 -0.026458 -0.005586   \n",
       "-25679656_82632   -0.062597 -0.020157  0.062290 -0.018229 -0.049994 -0.020338   \n",
       "-25679656_82616   -0.055474  0.061177 -0.068705  0.006998 -0.069634 -0.073594   \n",
       "-25679656_82602   -0.067703 -0.009679 -0.018420 -0.089618 -0.038573 -0.009198   \n",
       "-25679656_82515   -0.084222 -0.047938 -0.014110  0.011156 -0.004049 -0.065431   \n",
       "\n",
       "                      e0006     e0007     e0008     e0009  ...     e1014  \\\n",
       "-95355317_2106029 -0.027288  0.015078  0.057733 -0.072396  ... -0.039408   \n",
       "-95355317_2105981 -0.048682  0.052804  0.042236 -0.044791  ... -0.042704   \n",
       "-95355317_2105956 -0.001287  0.000843  0.019513 -0.024284  ... -0.086993   \n",
       "-95355317_2105872 -0.031497 -0.010290  0.023301 -0.035283  ... -0.069001   \n",
       "-95355317_2105814 -0.006315  0.047755  0.038705 -0.002482  ... -0.086907   \n",
       "...                     ...       ...       ...       ...  ...       ...   \n",
       "-25679656_82680   -0.038530  0.020875 -0.004144 -0.060206  ...  0.027932   \n",
       "-25679656_82632   -0.019951  0.062228  0.023368  0.003615  ... -0.067908   \n",
       "-25679656_82616   -0.010908 -0.015026 -0.009250 -0.017432  ... -0.094328   \n",
       "-25679656_82602    0.041233 -0.010712  0.041405  0.054285  ... -0.047895   \n",
       "-25679656_82515    0.044474 -0.052167  0.049828 -0.069548  ... -0.051802   \n",
       "\n",
       "                      e1015     e1016     e1017     e1018     e1019     e1020  \\\n",
       "-95355317_2106029 -0.005850 -0.004164  0.004020 -0.060126 -0.054701 -0.040827   \n",
       "-95355317_2105981  0.048332 -0.046734  0.053527  0.027771 -0.068680  0.041872   \n",
       "-95355317_2105956  0.062245  0.019802  0.052675  0.061938  0.000885 -0.019714   \n",
       "-95355317_2105872  0.072397 -0.021274  0.060612 -0.019083 -0.060826  0.014437   \n",
       "-95355317_2105814  0.004860 -0.088822  0.018629 -0.015105  0.077992  0.050686   \n",
       "...                     ...       ...       ...       ...       ...       ...   \n",
       "-25679656_82680   -0.025601  0.003386  0.021092  0.006187 -0.000244  0.006802   \n",
       "-25679656_82632   -0.032108 -0.041480  0.072295  0.041735  0.021442 -0.036564   \n",
       "-25679656_82616   -0.027860 -0.064867  0.008819 -0.029663 -0.035440 -0.005113   \n",
       "-25679656_82602   -0.017177  0.080150  0.004881 -0.021043 -0.025309 -0.045976   \n",
       "-25679656_82515   -0.001538  0.037328  0.034664  0.067447 -0.046121  0.041919   \n",
       "\n",
       "                      e1021     e1022     e1023  \n",
       "-95355317_2106029 -0.026879  0.076339  0.084979  \n",
       "-95355317_2105981 -0.038115 -0.036452  0.076066  \n",
       "-95355317_2105956  0.017789 -0.037247  0.058796  \n",
       "-95355317_2105872 -0.029841  0.005074 -0.047073  \n",
       "-95355317_2105814 -0.003180 -0.023447  0.091834  \n",
       "...                     ...       ...       ...  \n",
       "-25679656_82680   -0.111398  0.005562  0.002470  \n",
       "-25679656_82632    0.061584  0.006815  0.036258  \n",
       "-25679656_82616   -0.018294  0.025350  0.101190  \n",
       "-25679656_82602    0.001684  0.055003  0.045826  \n",
       "-25679656_82515   -0.008033 -0.039828 -0.028403  \n",
       "\n",
       "[32591 rows x 1024 columns]"
      ]
     },
     "execution_count": 37,
     "metadata": {},
     "output_type": "execute_result"
    }
   ],
   "source": [
    "df_embed_features = pd.DataFrame(np.vstack(lst_embeds), ids_e, columns=list(map(lambda x: f'e{x:04d}', range(1024))))\n",
    "df_embed_features"
   ]
  },
  {
   "cell_type": "code",
   "execution_count": 38,
   "metadata": {},
   "outputs": [],
   "source": [
    "df_embed_features.to_pickle('embeds_v3.pkl.bz2')"
   ]
  },
  {
   "cell_type": "code",
   "execution_count": 12,
   "metadata": {},
   "outputs": [],
   "source": [
    "df_embed_features.to_pickle('embeds_text_v2.pkl.bz2')"
   ]
  },
  {
   "cell_type": "code",
   "execution_count": 5,
   "metadata": {},
   "outputs": [],
   "source": [
    "lst_files_csvgz = ! ls ../popular/features/resnet_features_*.csv.gz"
   ]
  },
  {
   "cell_type": "code",
   "execution_count": 38,
   "metadata": {},
   "outputs": [
    {
     "name": "stderr",
     "output_type": "stream",
     "text": [
      "100%|██████████| 38/38 [3:10:53<00:00, 301.42s/it]  \n"
     ]
    }
   ],
   "source": [
    "for file_gz in tqdm(lst_files_csvgz):\n",
    "    df_feats = pd.read_csv(file_gz, compression='gzip', index_col='Unnamed: 0')\n",
    "    pd.merge(df_feats, df_emb_pop, left_index=True, right_index=True)\\\n",
    "    .to_csv(os.path.join(file_gz.rstrip('.csv.gz') + '_embed_pop.csv.gz'))"
   ]
  },
  {
   "cell_type": "code",
   "execution_count": 90,
   "metadata": {},
   "outputs": [],
   "source": [
    "pd.merge(df_embed_features, df_class, left_index=True, right_index=True).to_pickle('/home/sergey/maga_diploma/models/embedding/ready_for_learning_v2.pkl.bz2')"
   ]
  },
  {
   "cell_type": "code",
   "execution_count": null,
   "metadata": {},
   "outputs": [],
   "source": []
  },
  {
   "cell_type": "code",
   "execution_count": 44,
   "metadata": {},
   "outputs": [],
   "source": [
    "df_tmp = pd.merge(df_features, df_embed_features, left_index=True, right_index=True)"
   ]
  },
  {
   "cell_type": "code",
   "execution_count": null,
   "metadata": {},
   "outputs": [],
   "source": [
    "df_all df_tmp"
   ]
  },
  {
   "cell_type": "code",
   "execution_count": null,
   "metadata": {},
   "outputs": [],
   "source": []
  },
  {
   "cell_type": "code",
   "execution_count": 22,
   "metadata": {},
   "outputs": [
    {
     "data": {
      "text/html": [
       "<div>\n",
       "<style scoped>\n",
       "    .dataframe tbody tr th:only-of-type {\n",
       "        vertical-align: middle;\n",
       "    }\n",
       "\n",
       "    .dataframe tbody tr th {\n",
       "        vertical-align: top;\n",
       "    }\n",
       "\n",
       "    .dataframe thead th {\n",
       "        text-align: right;\n",
       "    }\n",
       "</style>\n",
       "<table border=\"1\" class=\"dataframe\">\n",
       "  <thead>\n",
       "    <tr style=\"text-align: right;\">\n",
       "      <th></th>\n",
       "      <th>r000000</th>\n",
       "      <th>r000001</th>\n",
       "      <th>r000002</th>\n",
       "      <th>r000003</th>\n",
       "      <th>r000004</th>\n",
       "      <th>r000005</th>\n",
       "      <th>r000006</th>\n",
       "      <th>r000007</th>\n",
       "      <th>r000008</th>\n",
       "      <th>r000009</th>\n",
       "      <th>...</th>\n",
       "      <th>e1014</th>\n",
       "      <th>e1015</th>\n",
       "      <th>e1016</th>\n",
       "      <th>e1017</th>\n",
       "      <th>e1018</th>\n",
       "      <th>e1019</th>\n",
       "      <th>e1020</th>\n",
       "      <th>e1021</th>\n",
       "      <th>e1022</th>\n",
       "      <th>e1023</th>\n",
       "    </tr>\n",
       "  </thead>\n",
       "  <tbody>\n",
       "    <tr>\n",
       "      <th>-95355317_1912243</th>\n",
       "      <td>0.0</td>\n",
       "      <td>0.0</td>\n",
       "      <td>0.0</td>\n",
       "      <td>0.0</td>\n",
       "      <td>0.0</td>\n",
       "      <td>0.0</td>\n",
       "      <td>0.0</td>\n",
       "      <td>0.0</td>\n",
       "      <td>0.0</td>\n",
       "      <td>0.0</td>\n",
       "      <td>...</td>\n",
       "      <td>-0.052106</td>\n",
       "      <td>0.037163</td>\n",
       "      <td>-0.049161</td>\n",
       "      <td>0.075815</td>\n",
       "      <td>0.014216</td>\n",
       "      <td>-0.061854</td>\n",
       "      <td>-0.042947</td>\n",
       "      <td>0.007784</td>\n",
       "      <td>0.008634</td>\n",
       "      <td>0.093152</td>\n",
       "    </tr>\n",
       "    <tr>\n",
       "      <th>-95355317_1912286</th>\n",
       "      <td>0.0</td>\n",
       "      <td>0.0</td>\n",
       "      <td>0.0</td>\n",
       "      <td>0.0</td>\n",
       "      <td>0.0</td>\n",
       "      <td>0.0</td>\n",
       "      <td>0.0</td>\n",
       "      <td>0.0</td>\n",
       "      <td>0.0</td>\n",
       "      <td>0.0</td>\n",
       "      <td>...</td>\n",
       "      <td>-0.081727</td>\n",
       "      <td>0.009040</td>\n",
       "      <td>0.079248</td>\n",
       "      <td>0.004376</td>\n",
       "      <td>0.055226</td>\n",
       "      <td>0.009980</td>\n",
       "      <td>0.027778</td>\n",
       "      <td>0.024133</td>\n",
       "      <td>0.035451</td>\n",
       "      <td>0.057964</td>\n",
       "    </tr>\n",
       "    <tr>\n",
       "      <th>-95355317_1912322</th>\n",
       "      <td>0.0</td>\n",
       "      <td>0.0</td>\n",
       "      <td>0.0</td>\n",
       "      <td>0.0</td>\n",
       "      <td>0.0</td>\n",
       "      <td>0.0</td>\n",
       "      <td>0.0</td>\n",
       "      <td>0.0</td>\n",
       "      <td>0.0</td>\n",
       "      <td>0.0</td>\n",
       "      <td>...</td>\n",
       "      <td>-0.045800</td>\n",
       "      <td>0.026458</td>\n",
       "      <td>-0.008685</td>\n",
       "      <td>-0.017237</td>\n",
       "      <td>-0.031390</td>\n",
       "      <td>-0.048045</td>\n",
       "      <td>-0.015921</td>\n",
       "      <td>0.048148</td>\n",
       "      <td>0.032777</td>\n",
       "      <td>0.032460</td>\n",
       "    </tr>\n",
       "    <tr>\n",
       "      <th>-95355317_1912335</th>\n",
       "      <td>0.0</td>\n",
       "      <td>0.0</td>\n",
       "      <td>0.0</td>\n",
       "      <td>0.0</td>\n",
       "      <td>0.0</td>\n",
       "      <td>0.0</td>\n",
       "      <td>0.0</td>\n",
       "      <td>0.0</td>\n",
       "      <td>0.0</td>\n",
       "      <td>0.0</td>\n",
       "      <td>...</td>\n",
       "      <td>-0.079306</td>\n",
       "      <td>0.033823</td>\n",
       "      <td>0.030280</td>\n",
       "      <td>0.009863</td>\n",
       "      <td>0.062978</td>\n",
       "      <td>-0.077871</td>\n",
       "      <td>-0.015338</td>\n",
       "      <td>-0.077723</td>\n",
       "      <td>0.012733</td>\n",
       "      <td>-0.049492</td>\n",
       "    </tr>\n",
       "    <tr>\n",
       "      <th>-95355317_1912342</th>\n",
       "      <td>0.0</td>\n",
       "      <td>0.0</td>\n",
       "      <td>0.0</td>\n",
       "      <td>0.0</td>\n",
       "      <td>0.0</td>\n",
       "      <td>0.0</td>\n",
       "      <td>0.0</td>\n",
       "      <td>0.0</td>\n",
       "      <td>0.0</td>\n",
       "      <td>0.0</td>\n",
       "      <td>...</td>\n",
       "      <td>0.031801</td>\n",
       "      <td>-0.008535</td>\n",
       "      <td>-0.034624</td>\n",
       "      <td>0.039397</td>\n",
       "      <td>0.031595</td>\n",
       "      <td>-0.023807</td>\n",
       "      <td>0.015507</td>\n",
       "      <td>0.019846</td>\n",
       "      <td>0.063039</td>\n",
       "      <td>0.011781</td>\n",
       "    </tr>\n",
       "    <tr>\n",
       "      <th>...</th>\n",
       "      <td>...</td>\n",
       "      <td>...</td>\n",
       "      <td>...</td>\n",
       "      <td>...</td>\n",
       "      <td>...</td>\n",
       "      <td>...</td>\n",
       "      <td>...</td>\n",
       "      <td>...</td>\n",
       "      <td>...</td>\n",
       "      <td>...</td>\n",
       "      <td>...</td>\n",
       "      <td>...</td>\n",
       "      <td>...</td>\n",
       "      <td>...</td>\n",
       "      <td>...</td>\n",
       "      <td>...</td>\n",
       "      <td>...</td>\n",
       "      <td>...</td>\n",
       "      <td>...</td>\n",
       "      <td>...</td>\n",
       "      <td>...</td>\n",
       "    </tr>\n",
       "    <tr>\n",
       "      <th>-95355317_1992043</th>\n",
       "      <td>0.0</td>\n",
       "      <td>0.0</td>\n",
       "      <td>0.0</td>\n",
       "      <td>0.0</td>\n",
       "      <td>0.0</td>\n",
       "      <td>0.0</td>\n",
       "      <td>0.0</td>\n",
       "      <td>0.0</td>\n",
       "      <td>0.0</td>\n",
       "      <td>0.0</td>\n",
       "      <td>...</td>\n",
       "      <td>-0.059111</td>\n",
       "      <td>0.036006</td>\n",
       "      <td>-0.009298</td>\n",
       "      <td>0.040052</td>\n",
       "      <td>0.016870</td>\n",
       "      <td>-0.078532</td>\n",
       "      <td>0.030962</td>\n",
       "      <td>0.020194</td>\n",
       "      <td>-0.005995</td>\n",
       "      <td>0.014552</td>\n",
       "    </tr>\n",
       "    <tr>\n",
       "      <th>-95355317_1992045</th>\n",
       "      <td>0.0</td>\n",
       "      <td>0.0</td>\n",
       "      <td>0.0</td>\n",
       "      <td>0.0</td>\n",
       "      <td>0.0</td>\n",
       "      <td>0.0</td>\n",
       "      <td>0.0</td>\n",
       "      <td>0.0</td>\n",
       "      <td>0.0</td>\n",
       "      <td>0.0</td>\n",
       "      <td>...</td>\n",
       "      <td>-0.005912</td>\n",
       "      <td>0.082688</td>\n",
       "      <td>0.029924</td>\n",
       "      <td>0.053228</td>\n",
       "      <td>0.072844</td>\n",
       "      <td>-0.012924</td>\n",
       "      <td>-0.012164</td>\n",
       "      <td>0.057109</td>\n",
       "      <td>0.040553</td>\n",
       "      <td>-0.038211</td>\n",
       "    </tr>\n",
       "    <tr>\n",
       "      <th>-95355317_1992054</th>\n",
       "      <td>0.0</td>\n",
       "      <td>0.0</td>\n",
       "      <td>0.0</td>\n",
       "      <td>0.0</td>\n",
       "      <td>0.0</td>\n",
       "      <td>0.0</td>\n",
       "      <td>0.0</td>\n",
       "      <td>0.0</td>\n",
       "      <td>0.0</td>\n",
       "      <td>0.0</td>\n",
       "      <td>...</td>\n",
       "      <td>-0.040588</td>\n",
       "      <td>0.048773</td>\n",
       "      <td>-0.027928</td>\n",
       "      <td>0.025193</td>\n",
       "      <td>-0.031020</td>\n",
       "      <td>-0.062117</td>\n",
       "      <td>0.025481</td>\n",
       "      <td>0.000342</td>\n",
       "      <td>0.052574</td>\n",
       "      <td>0.059135</td>\n",
       "    </tr>\n",
       "    <tr>\n",
       "      <th>-95355317_1992093</th>\n",
       "      <td>0.0</td>\n",
       "      <td>0.0</td>\n",
       "      <td>0.0</td>\n",
       "      <td>0.0</td>\n",
       "      <td>0.0</td>\n",
       "      <td>0.0</td>\n",
       "      <td>0.0</td>\n",
       "      <td>0.0</td>\n",
       "      <td>0.0</td>\n",
       "      <td>0.0</td>\n",
       "      <td>...</td>\n",
       "      <td>-0.067014</td>\n",
       "      <td>-0.016748</td>\n",
       "      <td>0.008307</td>\n",
       "      <td>-0.018265</td>\n",
       "      <td>0.027538</td>\n",
       "      <td>0.046793</td>\n",
       "      <td>0.067183</td>\n",
       "      <td>0.042107</td>\n",
       "      <td>0.069726</td>\n",
       "      <td>0.068700</td>\n",
       "    </tr>\n",
       "    <tr>\n",
       "      <th>-95355317_1992157</th>\n",
       "      <td>0.0</td>\n",
       "      <td>0.0</td>\n",
       "      <td>0.0</td>\n",
       "      <td>0.0</td>\n",
       "      <td>0.0</td>\n",
       "      <td>0.0</td>\n",
       "      <td>0.0</td>\n",
       "      <td>0.0</td>\n",
       "      <td>0.0</td>\n",
       "      <td>0.0</td>\n",
       "      <td>...</td>\n",
       "      <td>-0.074356</td>\n",
       "      <td>-0.051937</td>\n",
       "      <td>0.010278</td>\n",
       "      <td>0.044974</td>\n",
       "      <td>0.033056</td>\n",
       "      <td>-0.027746</td>\n",
       "      <td>0.030734</td>\n",
       "      <td>-0.088067</td>\n",
       "      <td>0.073177</td>\n",
       "      <td>-0.037382</td>\n",
       "    </tr>\n",
       "  </tbody>\n",
       "</table>\n",
       "<p>1024 rows × 101376 columns</p>\n",
       "</div>"
      ],
      "text/plain": [
       "                   r000000  r000001  r000002  r000003  r000004  r000005  \\\n",
       "-95355317_1912243      0.0      0.0      0.0      0.0      0.0      0.0   \n",
       "-95355317_1912286      0.0      0.0      0.0      0.0      0.0      0.0   \n",
       "-95355317_1912322      0.0      0.0      0.0      0.0      0.0      0.0   \n",
       "-95355317_1912335      0.0      0.0      0.0      0.0      0.0      0.0   \n",
       "-95355317_1912342      0.0      0.0      0.0      0.0      0.0      0.0   \n",
       "...                    ...      ...      ...      ...      ...      ...   \n",
       "-95355317_1992043      0.0      0.0      0.0      0.0      0.0      0.0   \n",
       "-95355317_1992045      0.0      0.0      0.0      0.0      0.0      0.0   \n",
       "-95355317_1992054      0.0      0.0      0.0      0.0      0.0      0.0   \n",
       "-95355317_1992093      0.0      0.0      0.0      0.0      0.0      0.0   \n",
       "-95355317_1992157      0.0      0.0      0.0      0.0      0.0      0.0   \n",
       "\n",
       "                   r000006  r000007  r000008  r000009  ...     e1014  \\\n",
       "-95355317_1912243      0.0      0.0      0.0      0.0  ... -0.052106   \n",
       "-95355317_1912286      0.0      0.0      0.0      0.0  ... -0.081727   \n",
       "-95355317_1912322      0.0      0.0      0.0      0.0  ... -0.045800   \n",
       "-95355317_1912335      0.0      0.0      0.0      0.0  ... -0.079306   \n",
       "-95355317_1912342      0.0      0.0      0.0      0.0  ...  0.031801   \n",
       "...                    ...      ...      ...      ...  ...       ...   \n",
       "-95355317_1992043      0.0      0.0      0.0      0.0  ... -0.059111   \n",
       "-95355317_1992045      0.0      0.0      0.0      0.0  ... -0.005912   \n",
       "-95355317_1992054      0.0      0.0      0.0      0.0  ... -0.040588   \n",
       "-95355317_1992093      0.0      0.0      0.0      0.0  ... -0.067014   \n",
       "-95355317_1992157      0.0      0.0      0.0      0.0  ... -0.074356   \n",
       "\n",
       "                      e1015     e1016     e1017     e1018     e1019     e1020  \\\n",
       "-95355317_1912243  0.037163 -0.049161  0.075815  0.014216 -0.061854 -0.042947   \n",
       "-95355317_1912286  0.009040  0.079248  0.004376  0.055226  0.009980  0.027778   \n",
       "-95355317_1912322  0.026458 -0.008685 -0.017237 -0.031390 -0.048045 -0.015921   \n",
       "-95355317_1912335  0.033823  0.030280  0.009863  0.062978 -0.077871 -0.015338   \n",
       "-95355317_1912342 -0.008535 -0.034624  0.039397  0.031595 -0.023807  0.015507   \n",
       "...                     ...       ...       ...       ...       ...       ...   \n",
       "-95355317_1992043  0.036006 -0.009298  0.040052  0.016870 -0.078532  0.030962   \n",
       "-95355317_1992045  0.082688  0.029924  0.053228  0.072844 -0.012924 -0.012164   \n",
       "-95355317_1992054  0.048773 -0.027928  0.025193 -0.031020 -0.062117  0.025481   \n",
       "-95355317_1992093 -0.016748  0.008307 -0.018265  0.027538  0.046793  0.067183   \n",
       "-95355317_1992157 -0.051937  0.010278  0.044974  0.033056 -0.027746  0.030734   \n",
       "\n",
       "                      e1021     e1022     e1023  \n",
       "-95355317_1912243  0.007784  0.008634  0.093152  \n",
       "-95355317_1912286  0.024133  0.035451  0.057964  \n",
       "-95355317_1912322  0.048148  0.032777  0.032460  \n",
       "-95355317_1912335 -0.077723  0.012733 -0.049492  \n",
       "-95355317_1912342  0.019846  0.063039  0.011781  \n",
       "...                     ...       ...       ...  \n",
       "-95355317_1992043  0.020194 -0.005995  0.014552  \n",
       "-95355317_1992045  0.057109  0.040553 -0.038211  \n",
       "-95355317_1992054  0.000342  0.052574  0.059135  \n",
       "-95355317_1992093  0.042107  0.069726  0.068700  \n",
       "-95355317_1992157 -0.088067  0.073177 -0.037382  \n",
       "\n",
       "[1024 rows x 101376 columns]"
      ]
     },
     "execution_count": 22,
     "metadata": {},
     "output_type": "execute_result"
    }
   ],
   "source": [
    "pd.merge(df_check, df_embed_features, left_index=True, right_index=True)"
   ]
  },
  {
   "cell_type": "code",
   "execution_count": 25,
   "metadata": {},
   "outputs": [
    {
     "data": {
      "text/plain": [
       "(39807, 1024)"
      ]
     },
     "execution_count": 25,
     "metadata": {},
     "output_type": "execute_result"
    }
   ],
   "source": [
    "df_embed_features.shape"
   ]
  },
  {
   "cell_type": "code",
   "execution_count": 26,
   "metadata": {},
   "outputs": [
    {
     "data": {
      "text/plain": [
       "(39807,)"
      ]
     },
     "execution_count": 26,
     "metadata": {},
     "output_type": "execute_result"
    }
   ],
   "source": [
    "df_class.shape"
   ]
  },
  {
   "cell_type": "code",
   "execution_count": 29,
   "metadata": {},
   "outputs": [],
   "source": [
    "df_emb_pop = pd.merge(df_embed_features, df_class, left_index=True, right_index=True)"
   ]
  },
  {
   "cell_type": "code",
   "execution_count": 33,
   "metadata": {},
   "outputs": [
    {
     "data": {
      "text/html": [
       "<div>\n",
       "<style scoped>\n",
       "    .dataframe tbody tr th:only-of-type {\n",
       "        vertical-align: middle;\n",
       "    }\n",
       "\n",
       "    .dataframe tbody tr th {\n",
       "        vertical-align: top;\n",
       "    }\n",
       "\n",
       "    .dataframe thead th {\n",
       "        text-align: right;\n",
       "    }\n",
       "</style>\n",
       "<table border=\"1\" class=\"dataframe\">\n",
       "  <thead>\n",
       "    <tr style=\"text-align: right;\">\n",
       "      <th></th>\n",
       "      <th>e0000</th>\n",
       "      <th>e0001</th>\n",
       "      <th>e0002</th>\n",
       "      <th>e0003</th>\n",
       "      <th>e0004</th>\n",
       "      <th>e0005</th>\n",
       "      <th>e0006</th>\n",
       "      <th>e0007</th>\n",
       "      <th>e0008</th>\n",
       "      <th>e0009</th>\n",
       "      <th>...</th>\n",
       "      <th>e1015</th>\n",
       "      <th>e1016</th>\n",
       "      <th>e1017</th>\n",
       "      <th>e1018</th>\n",
       "      <th>e1019</th>\n",
       "      <th>e1020</th>\n",
       "      <th>e1021</th>\n",
       "      <th>e1022</th>\n",
       "      <th>e1023</th>\n",
       "      <th>pop_class</th>\n",
       "    </tr>\n",
       "  </thead>\n",
       "  <tbody>\n",
       "  </tbody>\n",
       "</table>\n",
       "<p>0 rows × 1025 columns</p>\n",
       "</div>"
      ],
      "text/plain": [
       "Empty DataFrame\n",
       "Columns: [e0000, e0001, e0002, e0003, e0004, e0005, e0006, e0007, e0008, e0009, e0010, e0011, e0012, e0013, e0014, e0015, e0016, e0017, e0018, e0019, e0020, e0021, e0022, e0023, e0024, e0025, e0026, e0027, e0028, e0029, e0030, e0031, e0032, e0033, e0034, e0035, e0036, e0037, e0038, e0039, e0040, e0041, e0042, e0043, e0044, e0045, e0046, e0047, e0048, e0049, e0050, e0051, e0052, e0053, e0054, e0055, e0056, e0057, e0058, e0059, e0060, e0061, e0062, e0063, e0064, e0065, e0066, e0067, e0068, e0069, e0070, e0071, e0072, e0073, e0074, e0075, e0076, e0077, e0078, e0079, e0080, e0081, e0082, e0083, e0084, e0085, e0086, e0087, e0088, e0089, e0090, e0091, e0092, e0093, e0094, e0095, e0096, e0097, e0098, e0099, ...]\n",
       "Index: []\n",
       "\n",
       "[0 rows x 1025 columns]"
      ]
     },
     "execution_count": 33,
     "metadata": {},
     "output_type": "execute_result"
    }
   ],
   "source": [
    "df_emb_pop[df_emb_pop.isna().any(axis=1)]"
   ]
  },
  {
   "cell_type": "code",
   "execution_count": 34,
   "metadata": {},
   "outputs": [
    {
     "data": {
      "text/html": [
       "<div>\n",
       "<style scoped>\n",
       "    .dataframe tbody tr th:only-of-type {\n",
       "        vertical-align: middle;\n",
       "    }\n",
       "\n",
       "    .dataframe tbody tr th {\n",
       "        vertical-align: top;\n",
       "    }\n",
       "\n",
       "    .dataframe thead th {\n",
       "        text-align: right;\n",
       "    }\n",
       "</style>\n",
       "<table border=\"1\" class=\"dataframe\">\n",
       "  <thead>\n",
       "    <tr style=\"text-align: right;\">\n",
       "      <th></th>\n",
       "      <th>e0000</th>\n",
       "      <th>e0001</th>\n",
       "      <th>e0002</th>\n",
       "      <th>e0003</th>\n",
       "      <th>e0004</th>\n",
       "      <th>e0005</th>\n",
       "      <th>e0006</th>\n",
       "      <th>e0007</th>\n",
       "      <th>e0008</th>\n",
       "      <th>e0009</th>\n",
       "      <th>...</th>\n",
       "      <th>e1015</th>\n",
       "      <th>e1016</th>\n",
       "      <th>e1017</th>\n",
       "      <th>e1018</th>\n",
       "      <th>e1019</th>\n",
       "      <th>e1020</th>\n",
       "      <th>e1021</th>\n",
       "      <th>e1022</th>\n",
       "      <th>e1023</th>\n",
       "      <th>pop_class</th>\n",
       "    </tr>\n",
       "  </thead>\n",
       "  <tbody>\n",
       "    <tr>\n",
       "      <th>-131489096_1083</th>\n",
       "      <td>-0.055685</td>\n",
       "      <td>-0.014805</td>\n",
       "      <td>0.053079</td>\n",
       "      <td>-0.016058</td>\n",
       "      <td>-0.017638</td>\n",
       "      <td>-0.013262</td>\n",
       "      <td>-0.016807</td>\n",
       "      <td>-0.073021</td>\n",
       "      <td>0.010786</td>\n",
       "      <td>-0.082706</td>\n",
       "      <td>...</td>\n",
       "      <td>0.066441</td>\n",
       "      <td>-0.048359</td>\n",
       "      <td>0.032729</td>\n",
       "      <td>0.028081</td>\n",
       "      <td>0.050865</td>\n",
       "      <td>0.015982</td>\n",
       "      <td>0.048881</td>\n",
       "      <td>-0.034746</td>\n",
       "      <td>-0.009805</td>\n",
       "      <td>0.0</td>\n",
       "    </tr>\n",
       "    <tr>\n",
       "      <th>-131489096_1132</th>\n",
       "      <td>-0.073240</td>\n",
       "      <td>-0.080408</td>\n",
       "      <td>-0.012932</td>\n",
       "      <td>0.016012</td>\n",
       "      <td>-0.028311</td>\n",
       "      <td>-0.057713</td>\n",
       "      <td>0.019536</td>\n",
       "      <td>-0.043351</td>\n",
       "      <td>0.009371</td>\n",
       "      <td>0.006916</td>\n",
       "      <td>...</td>\n",
       "      <td>-0.050732</td>\n",
       "      <td>0.041647</td>\n",
       "      <td>0.061442</td>\n",
       "      <td>-0.055081</td>\n",
       "      <td>-0.012973</td>\n",
       "      <td>0.002066</td>\n",
       "      <td>0.076711</td>\n",
       "      <td>-0.025725</td>\n",
       "      <td>0.019724</td>\n",
       "      <td>0.0</td>\n",
       "    </tr>\n",
       "    <tr>\n",
       "      <th>-131489096_125</th>\n",
       "      <td>-0.070087</td>\n",
       "      <td>0.037108</td>\n",
       "      <td>0.066346</td>\n",
       "      <td>-0.047211</td>\n",
       "      <td>-0.044385</td>\n",
       "      <td>0.032625</td>\n",
       "      <td>0.038342</td>\n",
       "      <td>0.007012</td>\n",
       "      <td>0.022597</td>\n",
       "      <td>-0.002340</td>\n",
       "      <td>...</td>\n",
       "      <td>-0.006816</td>\n",
       "      <td>0.064544</td>\n",
       "      <td>-0.023338</td>\n",
       "      <td>-0.058225</td>\n",
       "      <td>0.065726</td>\n",
       "      <td>0.013296</td>\n",
       "      <td>0.075376</td>\n",
       "      <td>0.007932</td>\n",
       "      <td>0.005242</td>\n",
       "      <td>0.0</td>\n",
       "    </tr>\n",
       "    <tr>\n",
       "      <th>-131489096_1266</th>\n",
       "      <td>-0.048616</td>\n",
       "      <td>0.041546</td>\n",
       "      <td>-0.097200</td>\n",
       "      <td>0.028164</td>\n",
       "      <td>0.009639</td>\n",
       "      <td>-0.022034</td>\n",
       "      <td>0.083496</td>\n",
       "      <td>0.024863</td>\n",
       "      <td>0.082297</td>\n",
       "      <td>0.052079</td>\n",
       "      <td>...</td>\n",
       "      <td>-0.047736</td>\n",
       "      <td>0.051996</td>\n",
       "      <td>0.050552</td>\n",
       "      <td>-0.039015</td>\n",
       "      <td>-0.016938</td>\n",
       "      <td>-0.016285</td>\n",
       "      <td>0.054901</td>\n",
       "      <td>0.033297</td>\n",
       "      <td>0.037802</td>\n",
       "      <td>1.0</td>\n",
       "    </tr>\n",
       "    <tr>\n",
       "      <th>-131489096_1496</th>\n",
       "      <td>-0.053391</td>\n",
       "      <td>0.044959</td>\n",
       "      <td>-0.009344</td>\n",
       "      <td>-0.023597</td>\n",
       "      <td>-0.024967</td>\n",
       "      <td>-0.089344</td>\n",
       "      <td>-0.022040</td>\n",
       "      <td>0.027024</td>\n",
       "      <td>0.001096</td>\n",
       "      <td>0.018636</td>\n",
       "      <td>...</td>\n",
       "      <td>0.033680</td>\n",
       "      <td>-0.066442</td>\n",
       "      <td>0.052597</td>\n",
       "      <td>0.018187</td>\n",
       "      <td>-0.028047</td>\n",
       "      <td>-0.012803</td>\n",
       "      <td>0.025510</td>\n",
       "      <td>-0.018329</td>\n",
       "      <td>0.061652</td>\n",
       "      <td>0.0</td>\n",
       "    </tr>\n",
       "  </tbody>\n",
       "</table>\n",
       "<p>5 rows × 1025 columns</p>\n",
       "</div>"
      ],
      "text/plain": [
       "                    e0000     e0001     e0002     e0003     e0004     e0005  \\\n",
       "-131489096_1083 -0.055685 -0.014805  0.053079 -0.016058 -0.017638 -0.013262   \n",
       "-131489096_1132 -0.073240 -0.080408 -0.012932  0.016012 -0.028311 -0.057713   \n",
       "-131489096_125  -0.070087  0.037108  0.066346 -0.047211 -0.044385  0.032625   \n",
       "-131489096_1266 -0.048616  0.041546 -0.097200  0.028164  0.009639 -0.022034   \n",
       "-131489096_1496 -0.053391  0.044959 -0.009344 -0.023597 -0.024967 -0.089344   \n",
       "\n",
       "                    e0006     e0007     e0008     e0009  ...     e1015  \\\n",
       "-131489096_1083 -0.016807 -0.073021  0.010786 -0.082706  ...  0.066441   \n",
       "-131489096_1132  0.019536 -0.043351  0.009371  0.006916  ... -0.050732   \n",
       "-131489096_125   0.038342  0.007012  0.022597 -0.002340  ... -0.006816   \n",
       "-131489096_1266  0.083496  0.024863  0.082297  0.052079  ... -0.047736   \n",
       "-131489096_1496 -0.022040  0.027024  0.001096  0.018636  ...  0.033680   \n",
       "\n",
       "                    e1016     e1017     e1018     e1019     e1020     e1021  \\\n",
       "-131489096_1083 -0.048359  0.032729  0.028081  0.050865  0.015982  0.048881   \n",
       "-131489096_1132  0.041647  0.061442 -0.055081 -0.012973  0.002066  0.076711   \n",
       "-131489096_125   0.064544 -0.023338 -0.058225  0.065726  0.013296  0.075376   \n",
       "-131489096_1266  0.051996  0.050552 -0.039015 -0.016938 -0.016285  0.054901   \n",
       "-131489096_1496 -0.066442  0.052597  0.018187 -0.028047 -0.012803  0.025510   \n",
       "\n",
       "                    e1022     e1023  pop_class  \n",
       "-131489096_1083 -0.034746 -0.009805        0.0  \n",
       "-131489096_1132 -0.025725  0.019724        0.0  \n",
       "-131489096_125   0.007932  0.005242        0.0  \n",
       "-131489096_1266  0.033297  0.037802        1.0  \n",
       "-131489096_1496 -0.018329  0.061652        0.0  \n",
       "\n",
       "[5 rows x 1025 columns]"
      ]
     },
     "execution_count": 34,
     "metadata": {},
     "output_type": "execute_result"
    }
   ],
   "source": [
    "df_emb_pop.head()"
   ]
  },
  {
   "cell_type": "code",
   "execution_count": 38,
   "metadata": {},
   "outputs": [
    {
     "data": {
      "text/plain": [
       "1024"
      ]
     },
     "execution_count": 38,
     "metadata": {},
     "output_type": "execute_result"
    }
   ],
   "source": [
    "len(lst_embeds[0][0])"
   ]
  },
  {
   "cell_type": "code",
   "execution_count": 31,
   "metadata": {},
   "outputs": [
    {
     "data": {
      "text/plain": [
       "(1, 1024)"
      ]
     },
     "execution_count": 31,
     "metadata": {},
     "output_type": "execute_result"
    }
   ],
   "source": [
    "np.hstack([np.array(s1), np.array(s2)]).shape"
   ]
  },
  {
   "cell_type": "code",
   "execution_count": null,
   "metadata": {},
   "outputs": [],
   "source": []
  },
  {
   "cell_type": "code",
   "execution_count": 7,
   "metadata": {},
   "outputs": [],
   "source": [
    "all_path_images = ! for f in /media/sergey/Transcend/Serega/maga_diplom/images_full/communities/*/images/*; do echo \"$f\"; done"
   ]
  },
  {
   "cell_type": "code",
   "execution_count": 13,
   "metadata": {},
   "outputs": [
    {
     "data": {
      "text/plain": [
       "'/media/sergey/Transcend/Serega/maga_diplom/images_full/communities/4ch/images/4ch_-95355317_1912231.jpg'"
      ]
     },
     "execution_count": 13,
     "metadata": {},
     "output_type": "execute_result"
    }
   ],
   "source": [
    "all_path_images[0]"
   ]
  },
  {
   "cell_type": "code",
   "execution_count": 21,
   "metadata": {},
   "outputs": [],
   "source": [
    "communities = dict(zip([-95355317, -57846937, -158490202, -131489096,  -91050183, -28468381,  -25679656], \n",
    "                       ['4ch', 'mudakoff', 'scolu', 'weirdreparametrizationtrick', 'dayvinchik', 'jokesss', 'sarsar']))"
   ]
  },
  {
   "cell_type": "code",
   "execution_count": 12,
   "metadata": {},
   "outputs": [
    {
     "data": {
      "text/plain": [
       "{-95355317: '4ch',\n",
       " -57846937: 'mudakoff',\n",
       " -158490202: 'scolu',\n",
       " -131489096: 'weirdreparametrizationtrick',\n",
       " -91050183: 'dayvinchik',\n",
       " -28468381: 'jokesss',\n",
       " -25679656: 'sarsar'}"
      ]
     },
     "execution_count": 12,
     "metadata": {},
     "output_type": "execute_result"
    }
   ],
   "source": [
    "communities"
   ]
  },
  {
   "cell_type": "code",
   "execution_count": 8,
   "metadata": {},
   "outputs": [
    {
     "data": {
      "text/plain": [
       "202285"
      ]
     },
     "execution_count": 8,
     "metadata": {},
     "output_type": "execute_result"
    }
   ],
   "source": [
    "all_path_images = ! for f in ../../communities/*/images/*; do echo \"$f\"; done\n",
    "path_to_pkl = ! ls ../classif_text_img/*2.pkl\n",
    "path_to_tsv = ! ls ../classif_text_img/*2.tsv | xargs -n1 basename"
   ]
  },
  {
   "cell_type": "code",
   "execution_count": 20,
   "metadata": {},
   "outputs": [
    {
     "data": {
      "text/html": [
       "<div>\n",
       "<style scoped>\n",
       "    .dataframe tbody tr th:only-of-type {\n",
       "        vertical-align: middle;\n",
       "    }\n",
       "\n",
       "    .dataframe tbody tr th {\n",
       "        vertical-align: top;\n",
       "    }\n",
       "\n",
       "    .dataframe thead th {\n",
       "        text-align: right;\n",
       "    }\n",
       "</style>\n",
       "<table border=\"1\" class=\"dataframe\">\n",
       "  <thead>\n",
       "    <tr style=\"text-align: right;\">\n",
       "      <th></th>\n",
       "      <th>id_community</th>\n",
       "      <th>id_post</th>\n",
       "      <th>date_posted</th>\n",
       "      <th>count_likes</th>\n",
       "      <th>count_views</th>\n",
       "      <th>count_comments</th>\n",
       "      <th>count_reposts</th>\n",
       "      <th>text_post</th>\n",
       "      <th>image_url</th>\n",
       "      <th>post_url</th>\n",
       "      <th>...</th>\n",
       "      <th>level_sentiment_post_2</th>\n",
       "      <th>sentiment_text_ocr_image_1</th>\n",
       "      <th>sentiment_text_ocr_image_2</th>\n",
       "      <th>level_sentiment_ocr_1</th>\n",
       "      <th>level_sentiment_ocr_2</th>\n",
       "      <th>description_image</th>\n",
       "      <th>spell_text_with_re</th>\n",
       "      <th>perc_unk_words</th>\n",
       "      <th>perc_unk_words_re</th>\n",
       "      <th>pop_class</th>\n",
       "    </tr>\n",
       "  </thead>\n",
       "  <tbody>\n",
       "    <tr>\n",
       "      <th>3</th>\n",
       "      <td>-95355317</td>\n",
       "      <td>2106029</td>\n",
       "      <td>2022-05-12 10:03:00</td>\n",
       "      <td>9</td>\n",
       "      <td>8934.0</td>\n",
       "      <td>7</td>\n",
       "      <td>5</td>\n",
       "      <td>\"Двач\"</td>\n",
       "      <td>https://sun1-55.userapi.com/s/v1/ig2/iyfPNRSKA...</td>\n",
       "      <td>https://vk.com/wall-95355317_2106029</td>\n",
       "      <td>...</td>\n",
       "      <td>0.106701</td>\n",
       "      <td>neutral</td>\n",
       "      <td>negative</td>\n",
       "      <td>0.976321</td>\n",
       "      <td>0.275140</td>\n",
       "      <td>a small console table is made out of a metal</td>\n",
       "      <td>не могу понять стоит или лежит</td>\n",
       "      <td>0.000000</td>\n",
       "      <td>0.000000</td>\n",
       "      <td>0.0</td>\n",
       "    </tr>\n",
       "    <tr>\n",
       "      <th>5</th>\n",
       "      <td>-95355317</td>\n",
       "      <td>2105981</td>\n",
       "      <td>2022-05-11 19:10:00</td>\n",
       "      <td>378</td>\n",
       "      <td>23118.0</td>\n",
       "      <td>2</td>\n",
       "      <td>161</td>\n",
       "      <td>\"Двач\"</td>\n",
       "      <td>https://sun1-96.userapi.com/s/v1/ig2/0Etc7GMf3...</td>\n",
       "      <td>https://vk.com/wall-95355317_2105981</td>\n",
       "      <td>...</td>\n",
       "      <td>0.106701</td>\n",
       "      <td>neutral</td>\n",
       "      <td>skip</td>\n",
       "      <td>0.362979</td>\n",
       "      <td>0.239359</td>\n",
       "      <td>the face of a monkey on a screenshot of a cell...</td>\n",
       "      <td>влад крутится ли воздух внутри колеса вчера в ...</td>\n",
       "      <td>0.354167</td>\n",
       "      <td>0.125000</td>\n",
       "      <td>1.0</td>\n",
       "    </tr>\n",
       "    <tr>\n",
       "      <th>8</th>\n",
       "      <td>-95355317</td>\n",
       "      <td>2105968</td>\n",
       "      <td>2022-05-11 12:10:00</td>\n",
       "      <td>19</td>\n",
       "      <td>5397.0</td>\n",
       "      <td>0</td>\n",
       "      <td>23</td>\n",
       "      <td>\"Двач\"</td>\n",
       "      <td>https://sun1-54.userapi.com/s/v1/ig2/2mVk4bj_j...</td>\n",
       "      <td>https://vk.com/wall-95355317_2105968</td>\n",
       "      <td>...</td>\n",
       "      <td>0.106701</td>\n",
       "      <td>neutral</td>\n",
       "      <td>positive</td>\n",
       "      <td>0.737168</td>\n",
       "      <td>0.445540</td>\n",
       "      <td>a woman is making a bed with a clock</td>\n",
       "      <td>сегоднялягулоракьше  интересно что такого случ...</td>\n",
       "      <td>0.250000</td>\n",
       "      <td>0.083333</td>\n",
       "      <td>0.0</td>\n",
       "    </tr>\n",
       "    <tr>\n",
       "      <th>12</th>\n",
       "      <td>-95355317</td>\n",
       "      <td>2105872</td>\n",
       "      <td>2022-05-10 10:02:01</td>\n",
       "      <td>249</td>\n",
       "      <td>17896.0</td>\n",
       "      <td>2</td>\n",
       "      <td>123</td>\n",
       "      <td>\"Двач\"</td>\n",
       "      <td>https://sun1-89.userapi.com/s/v1/ig2/nvBHvrDEK...</td>\n",
       "      <td>https://vk.com/wall-95355317_2105872</td>\n",
       "      <td>...</td>\n",
       "      <td>0.106701</td>\n",
       "      <td>neutral</td>\n",
       "      <td>positive</td>\n",
       "      <td>0.327678</td>\n",
       "      <td>0.239359</td>\n",
       "      <td>a man is holding a cell phone in a car</td>\n",
       "      <td>быстро руки вверх   с аи воктебяцвлувгговоритч...</td>\n",
       "      <td>0.533333</td>\n",
       "      <td>0.272727</td>\n",
       "      <td>1.0</td>\n",
       "    </tr>\n",
       "    <tr>\n",
       "      <th>14</th>\n",
       "      <td>-95355317</td>\n",
       "      <td>2105727</td>\n",
       "      <td>2022-05-08 15:07:00</td>\n",
       "      <td>125</td>\n",
       "      <td>21487.0</td>\n",
       "      <td>4</td>\n",
       "      <td>27</td>\n",
       "      <td>\"Двач\"</td>\n",
       "      <td>https://sun1-26.userapi.com/s/v1/ig2/txL_3VCSV...</td>\n",
       "      <td>https://vk.com/wall-95355317_2105727</td>\n",
       "      <td>...</td>\n",
       "      <td>0.106701</td>\n",
       "      <td>neutral</td>\n",
       "      <td>skip</td>\n",
       "      <td>0.887215</td>\n",
       "      <td>0.112805</td>\n",
       "      <td>a picture of a woman shaving a man</td>\n",
       "      <td>в казахстане есть барбер к которой мужики запи...</td>\n",
       "      <td>0.388889</td>\n",
       "      <td>0.200000</td>\n",
       "      <td>1.0</td>\n",
       "    </tr>\n",
       "  </tbody>\n",
       "</table>\n",
       "<p>5 rows × 27 columns</p>\n",
       "</div>"
      ],
      "text/plain": [
       "    id_community  id_post         date_posted  count_likes  count_views  \\\n",
       "3      -95355317  2106029 2022-05-12 10:03:00            9       8934.0   \n",
       "5      -95355317  2105981 2022-05-11 19:10:00          378      23118.0   \n",
       "8      -95355317  2105968 2022-05-11 12:10:00           19       5397.0   \n",
       "12     -95355317  2105872 2022-05-10 10:02:01          249      17896.0   \n",
       "14     -95355317  2105727 2022-05-08 15:07:00          125      21487.0   \n",
       "\n",
       "    count_comments  count_reposts text_post  \\\n",
       "3                7              5    \"Двач\"   \n",
       "5                2            161    \"Двач\"   \n",
       "8                0             23    \"Двач\"   \n",
       "12               2            123    \"Двач\"   \n",
       "14               4             27    \"Двач\"   \n",
       "\n",
       "                                            image_url  \\\n",
       "3   https://sun1-55.userapi.com/s/v1/ig2/iyfPNRSKA...   \n",
       "5   https://sun1-96.userapi.com/s/v1/ig2/0Etc7GMf3...   \n",
       "8   https://sun1-54.userapi.com/s/v1/ig2/2mVk4bj_j...   \n",
       "12  https://sun1-89.userapi.com/s/v1/ig2/nvBHvrDEK...   \n",
       "14  https://sun1-26.userapi.com/s/v1/ig2/txL_3VCSV...   \n",
       "\n",
       "                                post_url  ... level_sentiment_post_2  \\\n",
       "3   https://vk.com/wall-95355317_2106029  ...               0.106701   \n",
       "5   https://vk.com/wall-95355317_2105981  ...               0.106701   \n",
       "8   https://vk.com/wall-95355317_2105968  ...               0.106701   \n",
       "12  https://vk.com/wall-95355317_2105872  ...               0.106701   \n",
       "14  https://vk.com/wall-95355317_2105727  ...               0.106701   \n",
       "\n",
       "   sentiment_text_ocr_image_1  sentiment_text_ocr_image_2  \\\n",
       "3                     neutral                    negative   \n",
       "5                     neutral                        skip   \n",
       "8                     neutral                    positive   \n",
       "12                    neutral                    positive   \n",
       "14                    neutral                        skip   \n",
       "\n",
       "   level_sentiment_ocr_1 level_sentiment_ocr_2  \\\n",
       "3               0.976321              0.275140   \n",
       "5               0.362979              0.239359   \n",
       "8               0.737168              0.445540   \n",
       "12              0.327678              0.239359   \n",
       "14              0.887215              0.112805   \n",
       "\n",
       "                                    description_image  \\\n",
       "3        a small console table is made out of a metal   \n",
       "5   the face of a monkey on a screenshot of a cell...   \n",
       "8                a woman is making a bed with a clock   \n",
       "12             a man is holding a cell phone in a car   \n",
       "14                 a picture of a woman shaving a man   \n",
       "\n",
       "                                   spell_text_with_re  perc_unk_words  \\\n",
       "3                      не могу понять стоит или лежит        0.000000   \n",
       "5   влад крутится ли воздух внутри колеса вчера в ...        0.354167   \n",
       "8   сегоднялягулоракьше  интересно что такого случ...        0.250000   \n",
       "12  быстро руки вверх   с аи воктебяцвлувгговоритч...        0.533333   \n",
       "14  в казахстане есть барбер к которой мужики запи...        0.388889   \n",
       "\n",
       "   perc_unk_words_re pop_class  \n",
       "3           0.000000       0.0  \n",
       "5           0.125000       1.0  \n",
       "8           0.083333       0.0  \n",
       "12          0.272727       1.0  \n",
       "14          0.200000       1.0  \n",
       "\n",
       "[5 rows x 27 columns]"
      ]
     },
     "execution_count": 20,
     "metadata": {},
     "output_type": "execute_result"
    }
   ],
   "source": [
    "final_df.head()"
   ]
  },
  {
   "cell_type": "code",
   "execution_count": 12,
   "metadata": {},
   "outputs": [
    {
     "data": {
      "text/plain": [
       "(6047, 27)"
      ]
     },
     "execution_count": 12,
     "metadata": {},
     "output_type": "execute_result"
    }
   ],
   "source": [
    "final_df.shape"
   ]
  },
  {
   "cell_type": "code",
   "execution_count": 24,
   "metadata": {},
   "outputs": [],
   "source": [
    "def distribution_pop(communities, my_df):\n",
    "    cnt = 0\n",
    "    base_dir = '/media/sergey/Transcend/Serega/maga_diplom/images_full/communities/'\n",
    "    target_dir = '../popular/dataset/'\n",
    "    for index, row in tqdm(my_df.iterrows()):\n",
    "        cur_path = base_dir  + communities[int(row['id_community'])] + '/images/' + '_'.join([communities[int(row['id_community'])], str(row['id_community']), str(row['id_post'])]) + '.jpg'\n",
    "        # command = '[ -f {} ] && echo \"exist\"'.format(cur_path)\n",
    "        if not os.path.isfile(cur_path):\n",
    "            print(cur_path)\n",
    "            continue\n",
    "        # print(cur_path)\n",
    "        if row['pop_class'] == 0.0:\n",
    "            command = 'cp {} {}'.format(cur_path, target_dir+'not_pop/')\n",
    "            subprocess.call(command, shell=True)\n",
    "        else:\n",
    "            command = 'cp {} {}'.format(cur_path, target_dir+'is_pop/')\n",
    "            subprocess.call(command, shell=True)\n",
    "        cnt += 1\n",
    "        # if cnt == 10:\n",
    "        #     break\n",
    "        #owner_id = img_path.split(os.sep)[-1].split('_')[1]\n",
    "        #id_post = img_path.split(os.sep)[-1].split('_')[-1].split('.')[0]\n",
    "        # print(\"_\".join([communities[int(owner_id)], owner_id, id_post]) + '.jpg')\n",
    "    return 0"
   ]
  },
  {
   "cell_type": "code",
   "execution_count": 25,
   "metadata": {},
   "outputs": [
    {
     "name": "stderr",
     "output_type": "stream",
     "text": [
      "23713it [36:12, 14.65it/s]"
     ]
    },
    {
     "name": "stdout",
     "output_type": "stream",
     "text": [
      "/media/sergey/Transcend/Serega/maga_diplom/images_full/communities/jokesss/images/jokesss_-28468381_289826.jpg\n"
     ]
    },
    {
     "name": "stderr",
     "output_type": "stream",
     "text": [
      "23810it [36:18, 16.26it/s]"
     ]
    },
    {
     "name": "stdout",
     "output_type": "stream",
     "text": [
      "/media/sergey/Transcend/Serega/maga_diplom/images_full/communities/jokesss/images/jokesss_-28468381_285069.jpg\n"
     ]
    },
    {
     "name": "stderr",
     "output_type": "stream",
     "text": [
      "23877it [36:23, 13.70it/s]"
     ]
    },
    {
     "name": "stdout",
     "output_type": "stream",
     "text": [
      "/media/sergey/Transcend/Serega/maga_diplom/images_full/communities/jokesss/images/jokesss_-28468381_284098.jpg\n"
     ]
    },
    {
     "name": "stderr",
     "output_type": "stream",
     "text": [
      "23958it [36:28, 17.50it/s]"
     ]
    },
    {
     "name": "stdout",
     "output_type": "stream",
     "text": [
      "/media/sergey/Transcend/Serega/maga_diplom/images_full/communities/jokesss/images/jokesss_-28468381_281341.jpg\n"
     ]
    },
    {
     "name": "stderr",
     "output_type": "stream",
     "text": [
      "32595it [46:52, 11.59it/s]\n"
     ]
    },
    {
     "data": {
      "text/plain": [
       "0"
      ]
     },
     "execution_count": 25,
     "metadata": {},
     "output_type": "execute_result"
    }
   ],
   "source": [
    "distribution_pop(communities, filtered_df_nan)"
   ]
  },
  {
   "cell_type": "code",
   "execution_count": 14,
   "metadata": {},
   "outputs": [],
   "source": [
    "final_df = final_df.drop(final_df[(final_df['id_community'] == -28468381) & (final_df['id_post'] == 281341)].index)"
   ]
  },
  {
   "cell_type": "code",
   "execution_count": 15,
   "metadata": {},
   "outputs": [
    {
     "data": {
      "text/plain": [
       "(32591, 29)"
      ]
     },
     "execution_count": 15,
     "metadata": {},
     "output_type": "execute_result"
    }
   ],
   "source": [
    "final_df.shape"
   ]
  },
  {
   "cell_type": "code",
   "execution_count": 51,
   "metadata": {},
   "outputs": [
    {
     "data": {
      "text/html": [
       "<div>\n",
       "<style scoped>\n",
       "    .dataframe tbody tr th:only-of-type {\n",
       "        vertical-align: middle;\n",
       "    }\n",
       "\n",
       "    .dataframe tbody tr th {\n",
       "        vertical-align: top;\n",
       "    }\n",
       "\n",
       "    .dataframe thead th {\n",
       "        text-align: right;\n",
       "    }\n",
       "</style>\n",
       "<table border=\"1\" class=\"dataframe\">\n",
       "  <thead>\n",
       "    <tr style=\"text-align: right;\">\n",
       "      <th></th>\n",
       "      <th>id_community</th>\n",
       "      <th>id_post</th>\n",
       "      <th>date_posted</th>\n",
       "      <th>count_likes</th>\n",
       "      <th>count_views</th>\n",
       "      <th>count_comments</th>\n",
       "      <th>count_reposts</th>\n",
       "      <th>text_post</th>\n",
       "      <th>image_url</th>\n",
       "      <th>post_url</th>\n",
       "      <th>...</th>\n",
       "      <th>level_sentiment_post_2</th>\n",
       "      <th>sentiment_text_ocr_image_1</th>\n",
       "      <th>sentiment_text_ocr_image_2</th>\n",
       "      <th>level_sentiment_ocr_1</th>\n",
       "      <th>level_sentiment_ocr_2</th>\n",
       "      <th>description_image</th>\n",
       "      <th>spell_text_with_re</th>\n",
       "      <th>perc_unk_words</th>\n",
       "      <th>perc_unk_words_re</th>\n",
       "      <th>pop_class</th>\n",
       "    </tr>\n",
       "  </thead>\n",
       "  <tbody>\n",
       "    <tr>\n",
       "      <th>36</th>\n",
       "      <td>-95355317</td>\n",
       "      <td>2104567</td>\n",
       "      <td>2022-04-27 17:10:00</td>\n",
       "      <td>216</td>\n",
       "      <td>23944.0</td>\n",
       "      <td>13</td>\n",
       "      <td>150</td>\n",
       "      <td>\"Двач\"</td>\n",
       "      <td>https://sun1-85.userapi.com/s/v1/ig2/N6YX52HJ7...</td>\n",
       "      <td>https://vk.com/wall-95355317_2104567</td>\n",
       "      <td>...</td>\n",
       "      <td>0.106701</td>\n",
       "      <td>neutral</td>\n",
       "      <td>positive</td>\n",
       "      <td>0.901931</td>\n",
       "      <td>0.129413</td>\n",
       "      <td>NaN</td>\n",
       "      <td>кг помогите мне встать к бкг я толстая к бкг ж...</td>\n",
       "      <td>0.419355</td>\n",
       "      <td>0.222222</td>\n",
       "      <td>1.0</td>\n",
       "    </tr>\n",
       "    <tr>\n",
       "      <th>68</th>\n",
       "      <td>-95355317</td>\n",
       "      <td>2103555</td>\n",
       "      <td>2022-04-17 08:01:00</td>\n",
       "      <td>273</td>\n",
       "      <td>15688.0</td>\n",
       "      <td>3</td>\n",
       "      <td>70</td>\n",
       "      <td>\"Двач\"</td>\n",
       "      <td>https://sun1-88.userapi.com/s/v1/ig2/sjoq73vgN...</td>\n",
       "      <td>https://vk.com/wall-95355317_2103555</td>\n",
       "      <td>...</td>\n",
       "      <td>0.106701</td>\n",
       "      <td>neutral</td>\n",
       "      <td>skip</td>\n",
       "      <td>0.600198</td>\n",
       "      <td>0.148057</td>\n",
       "      <td>NaN</td>\n",
       "      <td>васети я помахала какому то парню потому что д...</td>\n",
       "      <td>0.150943</td>\n",
       "      <td>0.021277</td>\n",
       "      <td>1.0</td>\n",
       "    </tr>\n",
       "    <tr>\n",
       "      <th>76</th>\n",
       "      <td>-95355317</td>\n",
       "      <td>2103461</td>\n",
       "      <td>2022-04-16 07:04:00</td>\n",
       "      <td>203</td>\n",
       "      <td>30383.0</td>\n",
       "      <td>13</td>\n",
       "      <td>132</td>\n",
       "      <td>\"Двач\"</td>\n",
       "      <td>https://sun1-96.userapi.com/s/v1/ig2/Lyk11dwxD...</td>\n",
       "      <td>https://vk.com/wall-95355317_2103461</td>\n",
       "      <td>...</td>\n",
       "      <td>0.106701</td>\n",
       "      <td>neutral</td>\n",
       "      <td>skip</td>\n",
       "      <td>0.679189</td>\n",
       "      <td>0.177821</td>\n",
       "      <td>NaN</td>\n",
       "      <td>мока происшествия апреля   в петербурге из ваг...</td>\n",
       "      <td>0.250000</td>\n",
       "      <td>0.076923</td>\n",
       "      <td>1.0</td>\n",
       "    </tr>\n",
       "    <tr>\n",
       "      <th>108</th>\n",
       "      <td>-95355317</td>\n",
       "      <td>2102609</td>\n",
       "      <td>2022-04-07 17:02:01</td>\n",
       "      <td>94</td>\n",
       "      <td>7418.0</td>\n",
       "      <td>0</td>\n",
       "      <td>60</td>\n",
       "      <td>\"Двач\"</td>\n",
       "      <td>https://sun1-93.userapi.com/s/v1/ig2/WmCBlA8Ps...</td>\n",
       "      <td>https://vk.com/wall-95355317_2102609</td>\n",
       "      <td>...</td>\n",
       "      <td>0.106701</td>\n",
       "      <td>neutral</td>\n",
       "      <td>negative</td>\n",
       "      <td>0.822199</td>\n",
       "      <td>0.187143</td>\n",
       "      <td>NaN</td>\n",
       "      <td>товарищи офицеры  сборы завтра во часов утра  ...</td>\n",
       "      <td>0.200000</td>\n",
       "      <td>0.000000</td>\n",
       "      <td>1.0</td>\n",
       "    </tr>\n",
       "    <tr>\n",
       "      <th>109</th>\n",
       "      <td>-95355317</td>\n",
       "      <td>2102597</td>\n",
       "      <td>2022-04-07 16:30:11</td>\n",
       "      <td>19</td>\n",
       "      <td>7984.0</td>\n",
       "      <td>0</td>\n",
       "      <td>24</td>\n",
       "      <td>\"Двач\"</td>\n",
       "      <td>https://sun1-86.userapi.com/s/v1/ig2/jCZdyKQuL...</td>\n",
       "      <td>https://vk.com/wall-95355317_2102597</td>\n",
       "      <td>...</td>\n",
       "      <td>0.106701</td>\n",
       "      <td>neutral</td>\n",
       "      <td>skip</td>\n",
       "      <td>0.334599</td>\n",
       "      <td>0.268951</td>\n",
       "      <td>NaN</td>\n",
       "      <td>ответы саша пушкин день назад изменено  как же...</td>\n",
       "      <td>0.250000</td>\n",
       "      <td>0.125000</td>\n",
       "      <td>0.0</td>\n",
       "    </tr>\n",
       "    <tr>\n",
       "      <th>...</th>\n",
       "      <td>...</td>\n",
       "      <td>...</td>\n",
       "      <td>...</td>\n",
       "      <td>...</td>\n",
       "      <td>...</td>\n",
       "      <td>...</td>\n",
       "      <td>...</td>\n",
       "      <td>...</td>\n",
       "      <td>...</td>\n",
       "      <td>...</td>\n",
       "      <td>...</td>\n",
       "      <td>...</td>\n",
       "      <td>...</td>\n",
       "      <td>...</td>\n",
       "      <td>...</td>\n",
       "      <td>...</td>\n",
       "      <td>...</td>\n",
       "      <td>...</td>\n",
       "      <td>...</td>\n",
       "      <td>...</td>\n",
       "      <td>...</td>\n",
       "    </tr>\n",
       "    <tr>\n",
       "      <th>201971</th>\n",
       "      <td>-25679656</td>\n",
       "      <td>1661</td>\n",
       "      <td>2012-07-09 21:17:00</td>\n",
       "      <td>8817</td>\n",
       "      <td>NaN</td>\n",
       "      <td>0</td>\n",
       "      <td>1967</td>\n",
       "      <td>NaN</td>\n",
       "      <td>https://sun1-99.userapi.com/s/v1/if2/Z4J0GyTEP...</td>\n",
       "      <td>https://vk.com/wall-25679656_1661</td>\n",
       "      <td>...</td>\n",
       "      <td>NaN</td>\n",
       "      <td>neutral</td>\n",
       "      <td>skip</td>\n",
       "      <td>0.476590</td>\n",
       "      <td>0.392347</td>\n",
       "      <td>NaN</td>\n",
       "      <td>--дорогой мне кажется карбюратор вода попала  ...</td>\n",
       "      <td>0.300000</td>\n",
       "      <td>0.157895</td>\n",
       "      <td>1.0</td>\n",
       "    </tr>\n",
       "    <tr>\n",
       "      <th>202007</th>\n",
       "      <td>-25679656</td>\n",
       "      <td>1624</td>\n",
       "      <td>2012-07-02 11:42:00</td>\n",
       "      <td>3190</td>\n",
       "      <td>NaN</td>\n",
       "      <td>0</td>\n",
       "      <td>627</td>\n",
       "      <td>NaN</td>\n",
       "      <td>https://sun1-84.userapi.com/s/v1/if2/YF_qNe1JA...</td>\n",
       "      <td>https://vk.com/wall-25679656_1624</td>\n",
       "      <td>...</td>\n",
       "      <td>NaN</td>\n",
       "      <td>neutral</td>\n",
       "      <td>positive</td>\n",
       "      <td>0.592677</td>\n",
       "      <td>0.106701</td>\n",
       "      <td>NaN</td>\n",
       "      <td>на конкурсе по рисованию победил вовочка нарис...</td>\n",
       "      <td>0.230769</td>\n",
       "      <td>0.083333</td>\n",
       "      <td>0.0</td>\n",
       "    </tr>\n",
       "    <tr>\n",
       "      <th>202112</th>\n",
       "      <td>-25679656</td>\n",
       "      <td>1518</td>\n",
       "      <td>2012-06-02 17:36:00</td>\n",
       "      <td>10775</td>\n",
       "      <td>NaN</td>\n",
       "      <td>0</td>\n",
       "      <td>2231</td>\n",
       "      <td>NaN</td>\n",
       "      <td>https://sun1-97.userapi.com/s/v1/if2/OvBkuQwuc...</td>\n",
       "      <td>https://vk.com/wall-25679656_1518</td>\n",
       "      <td>...</td>\n",
       "      <td>NaN</td>\n",
       "      <td>skip</td>\n",
       "      <td>negative</td>\n",
       "      <td>0.281416</td>\n",
       "      <td>0.196836</td>\n",
       "      <td>NaN</td>\n",
       "      <td>почему вы опоздали поздно вышка из дома раньше...</td>\n",
       "      <td>0.250000</td>\n",
       "      <td>0.000000</td>\n",
       "      <td>1.0</td>\n",
       "    </tr>\n",
       "    <tr>\n",
       "      <th>202180</th>\n",
       "      <td>-25679656</td>\n",
       "      <td>1442</td>\n",
       "      <td>2012-05-17 23:26:00</td>\n",
       "      <td>12093</td>\n",
       "      <td>NaN</td>\n",
       "      <td>0</td>\n",
       "      <td>2745</td>\n",
       "      <td>NaN</td>\n",
       "      <td>https://sun1-17.userapi.com/s/v1/if1/zoQLTXwAL...</td>\n",
       "      <td>https://vk.com/wall-25679656_1442</td>\n",
       "      <td>...</td>\n",
       "      <td>NaN</td>\n",
       "      <td>positive</td>\n",
       "      <td>neutral</td>\n",
       "      <td>0.294225</td>\n",
       "      <td>0.268951</td>\n",
       "      <td>NaN</td>\n",
       "      <td>бока шампанского превращает прекрасную в прему...</td>\n",
       "      <td>0.388889</td>\n",
       "      <td>0.250000</td>\n",
       "      <td>1.0</td>\n",
       "    </tr>\n",
       "    <tr>\n",
       "      <th>202255</th>\n",
       "      <td>-25679656</td>\n",
       "      <td>1367</td>\n",
       "      <td>2012-05-05 22:25:00</td>\n",
       "      <td>4809</td>\n",
       "      <td>NaN</td>\n",
       "      <td>0</td>\n",
       "      <td>693</td>\n",
       "      <td>NaN</td>\n",
       "      <td>https://sun1-16.userapi.com/s/v1/if1/cRwrhKKfn...</td>\n",
       "      <td>https://vk.com/wall-25679656_1367</td>\n",
       "      <td>...</td>\n",
       "      <td>NaN</td>\n",
       "      <td>skip</td>\n",
       "      <td>positive</td>\n",
       "      <td>0.327678</td>\n",
       "      <td>0.217348</td>\n",
       "      <td>NaN</td>\n",
       "      <td>солнце  воздух облака- влюбись в мудака</td>\n",
       "      <td>0.500000</td>\n",
       "      <td>0.333333</td>\n",
       "      <td>0.0</td>\n",
       "    </tr>\n",
       "  </tbody>\n",
       "</table>\n",
       "<p>24686 rows × 27 columns</p>\n",
       "</div>"
      ],
      "text/plain": [
       "        id_community  id_post         date_posted  count_likes  count_views  \\\n",
       "36         -95355317  2104567 2022-04-27 17:10:00          216      23944.0   \n",
       "68         -95355317  2103555 2022-04-17 08:01:00          273      15688.0   \n",
       "76         -95355317  2103461 2022-04-16 07:04:00          203      30383.0   \n",
       "108        -95355317  2102609 2022-04-07 17:02:01           94       7418.0   \n",
       "109        -95355317  2102597 2022-04-07 16:30:11           19       7984.0   \n",
       "...              ...      ...                 ...          ...          ...   \n",
       "201971     -25679656     1661 2012-07-09 21:17:00         8817          NaN   \n",
       "202007     -25679656     1624 2012-07-02 11:42:00         3190          NaN   \n",
       "202112     -25679656     1518 2012-06-02 17:36:00        10775          NaN   \n",
       "202180     -25679656     1442 2012-05-17 23:26:00        12093          NaN   \n",
       "202255     -25679656     1367 2012-05-05 22:25:00         4809          NaN   \n",
       "\n",
       "        count_comments  count_reposts text_post  \\\n",
       "36                  13            150    \"Двач\"   \n",
       "68                   3             70    \"Двач\"   \n",
       "76                  13            132    \"Двач\"   \n",
       "108                  0             60    \"Двач\"   \n",
       "109                  0             24    \"Двач\"   \n",
       "...                ...            ...       ...   \n",
       "201971               0           1967       NaN   \n",
       "202007               0            627       NaN   \n",
       "202112               0           2231       NaN   \n",
       "202180               0           2745       NaN   \n",
       "202255               0            693       NaN   \n",
       "\n",
       "                                                image_url  \\\n",
       "36      https://sun1-85.userapi.com/s/v1/ig2/N6YX52HJ7...   \n",
       "68      https://sun1-88.userapi.com/s/v1/ig2/sjoq73vgN...   \n",
       "76      https://sun1-96.userapi.com/s/v1/ig2/Lyk11dwxD...   \n",
       "108     https://sun1-93.userapi.com/s/v1/ig2/WmCBlA8Ps...   \n",
       "109     https://sun1-86.userapi.com/s/v1/ig2/jCZdyKQuL...   \n",
       "...                                                   ...   \n",
       "201971  https://sun1-99.userapi.com/s/v1/if2/Z4J0GyTEP...   \n",
       "202007  https://sun1-84.userapi.com/s/v1/if2/YF_qNe1JA...   \n",
       "202112  https://sun1-97.userapi.com/s/v1/if2/OvBkuQwuc...   \n",
       "202180  https://sun1-17.userapi.com/s/v1/if1/zoQLTXwAL...   \n",
       "202255  https://sun1-16.userapi.com/s/v1/if1/cRwrhKKfn...   \n",
       "\n",
       "                                    post_url  ... level_sentiment_post_2  \\\n",
       "36      https://vk.com/wall-95355317_2104567  ...               0.106701   \n",
       "68      https://vk.com/wall-95355317_2103555  ...               0.106701   \n",
       "76      https://vk.com/wall-95355317_2103461  ...               0.106701   \n",
       "108     https://vk.com/wall-95355317_2102609  ...               0.106701   \n",
       "109     https://vk.com/wall-95355317_2102597  ...               0.106701   \n",
       "...                                      ...  ...                    ...   \n",
       "201971     https://vk.com/wall-25679656_1661  ...                    NaN   \n",
       "202007     https://vk.com/wall-25679656_1624  ...                    NaN   \n",
       "202112     https://vk.com/wall-25679656_1518  ...                    NaN   \n",
       "202180     https://vk.com/wall-25679656_1442  ...                    NaN   \n",
       "202255     https://vk.com/wall-25679656_1367  ...                    NaN   \n",
       "\n",
       "       sentiment_text_ocr_image_1  sentiment_text_ocr_image_2  \\\n",
       "36                        neutral                    positive   \n",
       "68                        neutral                        skip   \n",
       "76                        neutral                        skip   \n",
       "108                       neutral                    negative   \n",
       "109                       neutral                        skip   \n",
       "...                           ...                         ...   \n",
       "201971                    neutral                        skip   \n",
       "202007                    neutral                    positive   \n",
       "202112                       skip                    negative   \n",
       "202180                   positive                     neutral   \n",
       "202255                       skip                    positive   \n",
       "\n",
       "       level_sentiment_ocr_1 level_sentiment_ocr_2 description_image  \\\n",
       "36                  0.901931              0.129413               NaN   \n",
       "68                  0.600198              0.148057               NaN   \n",
       "76                  0.679189              0.177821               NaN   \n",
       "108                 0.822199              0.187143               NaN   \n",
       "109                 0.334599              0.268951               NaN   \n",
       "...                      ...                   ...               ...   \n",
       "201971              0.476590              0.392347               NaN   \n",
       "202007              0.592677              0.106701               NaN   \n",
       "202112              0.281416              0.196836               NaN   \n",
       "202180              0.294225              0.268951               NaN   \n",
       "202255              0.327678              0.217348               NaN   \n",
       "\n",
       "                                       spell_text_with_re  perc_unk_words  \\\n",
       "36      кг помогите мне встать к бкг я толстая к бкг ж...        0.419355   \n",
       "68      васети я помахала какому то парню потому что д...        0.150943   \n",
       "76      мока происшествия апреля   в петербурге из ваг...        0.250000   \n",
       "108     товарищи офицеры  сборы завтра во часов утра  ...        0.200000   \n",
       "109     ответы саша пушкин день назад изменено  как же...        0.250000   \n",
       "...                                                   ...             ...   \n",
       "201971  --дорогой мне кажется карбюратор вода попала  ...        0.300000   \n",
       "202007  на конкурсе по рисованию победил вовочка нарис...        0.230769   \n",
       "202112  почему вы опоздали поздно вышка из дома раньше...        0.250000   \n",
       "202180  бока шампанского превращает прекрасную в прему...        0.388889   \n",
       "202255            солнце  воздух облака- влюбись в мудака        0.500000   \n",
       "\n",
       "       perc_unk_words_re pop_class  \n",
       "36              0.222222       1.0  \n",
       "68              0.021277       1.0  \n",
       "76              0.076923       1.0  \n",
       "108             0.000000       1.0  \n",
       "109             0.125000       0.0  \n",
       "...                  ...       ...  \n",
       "201971          0.157895       1.0  \n",
       "202007          0.083333       0.0  \n",
       "202112          0.000000       1.0  \n",
       "202180          0.250000       1.0  \n",
       "202255          0.333333       0.0  \n",
       "\n",
       "[24686 rows x 27 columns]"
      ]
     },
     "execution_count": 51,
     "metadata": {},
     "output_type": "execute_result"
    }
   ],
   "source": [
    "final_df.drop(i)"
   ]
  },
  {
   "cell_type": "code",
   "execution_count": null,
   "metadata": {},
   "outputs": [],
   "source": []
  }
 ],
 "metadata": {
  "accelerator": "GPU",
  "colab": {
   "collapsed_sections": [],
   "machine_shape": "hm",
   "name": "Cross-Lingual Similarity and Semantic Search Engine with TF-Hub Multilingual Universal Encoder",
   "provenance": [],
   "toc_visible": true
  },
  "kernelspec": {
   "display_name": "Python 3 (ipykernel)",
   "language": "python",
   "name": "python3"
  },
  "language_info": {
   "codemirror_mode": {
    "name": "ipython",
    "version": 3
   },
   "file_extension": ".py",
   "mimetype": "text/x-python",
   "name": "python",
   "nbconvert_exporter": "python",
   "pygments_lexer": "ipython3",
   "version": "3.6.9"
  }
 },
 "nbformat": 4,
 "nbformat_minor": 4
}
