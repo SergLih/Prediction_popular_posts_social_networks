{
 "cells": [
  {
   "cell_type": "code",
   "execution_count": 1,
   "metadata": {},
   "outputs": [],
   "source": [
    "import bokeh\n",
    "import bokeh.models\n",
    "import bokeh.plotting\n",
    "import numpy as np\n",
    "import os\n",
    "import pandas as pd\n",
    "import tensorflow.compat.v2 as tf\n",
    "import tensorflow_hub as hub\n",
    "from tensorflow_text import SentencepieceTokenizer\n",
    "import sklearn.metrics.pairwise\n",
    "\n",
    "from simpleneighbors import SimpleNeighbors\n",
    "from tqdm import tqdm\n",
    "from tqdm import trange\n",
    "import subprocess"
   ]
  },
  {
   "cell_type": "code",
   "execution_count": 2,
   "metadata": {},
   "outputs": [],
   "source": [
    "#@title Setup common imports and functions\n",
    "\n",
    "\n",
    "def visualize_similarity(embeddings_1, embeddings_2, labels_1, labels_2,\n",
    "                         plot_title,\n",
    "                         plot_width=1200, plot_height=600,\n",
    "                         xaxis_font_size='12pt', yaxis_font_size='12pt'):\n",
    "\n",
    "  assert len(embeddings_1) == len(labels_1)\n",
    "  assert len(embeddings_2) == len(labels_2)\n",
    "\n",
    "  # arccos based text similarity (Yang et al. 2019; Cer et al. 2019)\n",
    "  sim = 1 - np.arccos(\n",
    "      sklearn.metrics.pairwise.cosine_similarity(embeddings_1,\n",
    "                                                 embeddings_2))/np.pi\n",
    "\n",
    "  embeddings_1_col, embeddings_2_col, sim_col = [], [], []\n",
    "  for i in range(len(embeddings_1)):\n",
    "    for j in range(len(embeddings_2)):\n",
    "      embeddings_1_col.append(labels_1[i])\n",
    "      embeddings_2_col.append(labels_2[j])\n",
    "      sim_col.append(sim[i][j])\n",
    "  df = pd.DataFrame(zip(embeddings_1_col, embeddings_2_col, sim_col),\n",
    "                    columns=['embeddings_1', 'embeddings_2', 'sim'])\n",
    "\n",
    "  mapper = bokeh.models.LinearColorMapper(\n",
    "      palette=[*reversed(bokeh.palettes.YlOrRd[9])], low=df.sim.min(),\n",
    "      high=df.sim.max())\n",
    "\n",
    "  p = bokeh.plotting.figure(title=plot_title, x_range=labels_1,\n",
    "                            x_axis_location=\"above\",\n",
    "                            y_range=[*reversed(labels_2)],\n",
    "                            plot_width=plot_width, plot_height=plot_height,\n",
    "                            tools=\"save\",toolbar_location='below', tooltips=[\n",
    "                                ('pair', '@embeddings_1 ||| @embeddings_2'),\n",
    "                                ('sim', '@sim')])\n",
    "  p.rect(x=\"embeddings_1\", y=\"embeddings_2\", width=1, height=1, source=df,\n",
    "         fill_color={'field': 'sim', 'transform': mapper}, line_color=None)\n",
    "\n",
    "  p.title.text_font_size = '12pt'\n",
    "  p.axis.axis_line_color = None\n",
    "  p.axis.major_tick_line_color = None\n",
    "  p.axis.major_label_standoff = 16\n",
    "  p.xaxis.major_label_text_font_size = xaxis_font_size\n",
    "  p.xaxis.major_label_orientation = 0.25 * np.pi\n",
    "  p.yaxis.major_label_text_font_size = yaxis_font_size\n",
    "  p.min_border_right = 300\n",
    "\n",
    "  bokeh.io.output_notebook()\n",
    "  bokeh.io.show(p)\n"
   ]
  },
  {
   "cell_type": "code",
   "execution_count": 3,
   "metadata": {},
   "outputs": [],
   "source": [
    "# The 16-language multilingual module is the default but feel free\n",
    "# to pick others from the list and compare the results.\n",
    "module_url = 'https://tfhub.dev/google/universal-sentence-encoder-multilingual/3' #@param ['https://tfhub.dev/google/universal-sentence-encoder-multilingual/3', 'https://tfhub.dev/google/universal-sentence-encoder-multilingual-large/3']\n",
    "\n",
    "model = hub.load(module_url)\n",
    "\n",
    "def embed_text(input):\n",
    "  return model(input)"
   ]
  },
  {
   "cell_type": "code",
   "execution_count": 4,
   "metadata": {},
   "outputs": [],
   "source": [
    "import torch\n",
    "import torch.nn as nn\n",
    "import torchvision.models as models\n",
    "import torchvision.transforms as transforms\n",
    "from torch.autograd import Variable\n",
    "from PIL import Image"
   ]
  },
  {
   "cell_type": "code",
   "execution_count": 5,
   "metadata": {},
   "outputs": [
    {
     "name": "stderr",
     "output_type": "stream",
     "text": [
      "/home/sergey/.local/lib/python3.6/site-packages/torchvision/transforms/transforms.py:318: UserWarning: The use of the transforms.Scale transform is deprecated, please use transforms.Resize instead.\n",
      "  \"please use transforms.Resize instead.\")\n"
     ]
    }
   ],
   "source": [
    "# Load the pretrained model\n",
    "model = models.resnet50(pretrained=True)\n",
    "\n",
    "# Use the model object to select the desired layer\n",
    "layer = model._modules.get('avgpool')\n",
    "\n",
    "# Set model to evaluation mode\n",
    "model.eval()\n",
    "# print(model)\n",
    "# Image transforms\n",
    "scaler = transforms.Scale((224, 224))\n",
    "normalize = transforms.Normalize(mean=[0.485, 0.456, 0.406], std=[0.229, 0.224, 0.225])\n",
    "to_tensor = transforms.ToTensor()\n",
    "\n",
    "def get_vector(image_name):\n",
    "    # 1. Load the image with Pillow library\n",
    "    img = Image.open(image_name)\n",
    "    # 2. Create a PyTorch Variable with the transformed image\n",
    "    t_img = Variable(normalize(to_tensor(scaler(img))).unsqueeze(0))\n",
    "    # 3. Create a vector of zeros that will hold our feature vector\n",
    "    #    The 'avgpool' layer has an output size of 512\n",
    "    my_embedding = torch.zeros(2048)\n",
    "    # 4. Define a function that will copy the output of a layer\n",
    "    def copy_data(m, i, o):\n",
    "        my_embedding.copy_(o.data.reshape(o.data.size(1)))\n",
    "    # 5. Attach that function to our selected layer\n",
    "    h = layer.register_forward_hook(copy_data)\n",
    "    # 6. Run the model on our transformed image\n",
    "    newmodel = torch.nn.Sequential(*(list(model.children())[:-1]))\n",
    "    newmodel(t_img)\n",
    "    # 7. Detach our copy function from the layer\n",
    "    h.remove()\n",
    "    # 8. Return the feature vector\n",
    "    return my_embedding.numpy()"
   ]
  },
  {
   "cell_type": "code",
   "execution_count": 5,
   "metadata": {},
   "outputs": [],
   "source": [
    "final_df = pd.read_pickle('filtered_dataset_v2_views_dropna.pkl')"
   ]
  },
  {
   "cell_type": "code",
   "execution_count": 3,
   "metadata": {},
   "outputs": [],
   "source": [
    "final_df = final_df.loc[final_df['perc_unk_words_re'] < 0.35]"
   ]
  },
  {
   "cell_type": "code",
   "execution_count": 6,
   "metadata": {},
   "outputs": [],
   "source": [
    "final_df = pd.read_pickle('/home/sergey/maga_diploma/models/OCR_Speller/final_dataset_social_08_06_22_v2.pkl')"
   ]
  },
  {
   "cell_type": "code",
   "execution_count": 7,
   "metadata": {},
   "outputs": [
    {
     "data": {
      "text/plain": [
       "(176781, 28)"
      ]
     },
     "execution_count": 7,
     "metadata": {},
     "output_type": "execute_result"
    }
   ],
   "source": [
    "final_df.shape"
   ]
  },
  {
   "cell_type": "code",
   "execution_count": 93,
   "metadata": {},
   "outputs": [
    {
     "data": {
      "text/html": [
       "<div>\n",
       "<style scoped>\n",
       "    .dataframe tbody tr th:only-of-type {\n",
       "        vertical-align: middle;\n",
       "    }\n",
       "\n",
       "    .dataframe tbody tr th {\n",
       "        vertical-align: top;\n",
       "    }\n",
       "\n",
       "    .dataframe thead th {\n",
       "        text-align: right;\n",
       "    }\n",
       "</style>\n",
       "<table border=\"1\" class=\"dataframe\">\n",
       "  <thead>\n",
       "    <tr style=\"text-align: right;\">\n",
       "      <th></th>\n",
       "      <th>id_community</th>\n",
       "      <th>id_post</th>\n",
       "      <th>date_posted</th>\n",
       "      <th>count_likes</th>\n",
       "      <th>count_views</th>\n",
       "      <th>count_comments</th>\n",
       "      <th>count_reposts</th>\n",
       "      <th>text_post</th>\n",
       "      <th>image_url</th>\n",
       "      <th>post_url</th>\n",
       "      <th>...</th>\n",
       "      <th>level_sentiment_post_2</th>\n",
       "      <th>sentiment_text_ocr_image_1</th>\n",
       "      <th>sentiment_text_ocr_image_2</th>\n",
       "      <th>level_sentiment_ocr_1</th>\n",
       "      <th>level_sentiment_ocr_2</th>\n",
       "      <th>description_image</th>\n",
       "      <th>spell_text_with_re</th>\n",
       "      <th>perc_unk_words</th>\n",
       "      <th>perc_unk_words_re</th>\n",
       "      <th>full_text</th>\n",
       "    </tr>\n",
       "  </thead>\n",
       "  <tbody>\n",
       "    <tr>\n",
       "      <th>198482</th>\n",
       "      <td>-25679656</td>\n",
       "      <td>17211</td>\n",
       "      <td>2013-09-05 19:30:00</td>\n",
       "      <td>1236</td>\n",
       "      <td>NaN</td>\n",
       "      <td>0</td>\n",
       "      <td>177</td>\n",
       "      <td>NaN</td>\n",
       "      <td>https://sun1-94.userapi.com/s/v1/if2/7d83ZXNd2...</td>\n",
       "      <td>https://vk.com/wall-25679656_17211</td>\n",
       "      <td>...</td>\n",
       "      <td>NaN</td>\n",
       "      <td>neutral</td>\n",
       "      <td>negative</td>\n",
       "      <td>0.731069</td>\n",
       "      <td>0.300756</td>\n",
       "      <td>a man in a suit and tie talking into a microphone</td>\n",
       "      <td>если кто-то борется коррупцией он сам должен б...</td>\n",
       "      <td>0.190476</td>\n",
       "      <td>0.100000</td>\n",
       "      <td>если кто-то борется коррупцией он сам должен б...</td>\n",
       "    </tr>\n",
       "    <tr>\n",
       "      <th>95846</th>\n",
       "      <td>-91050183</td>\n",
       "      <td>5174497</td>\n",
       "      <td>2019-08-28 18:43:00</td>\n",
       "      <td>40172</td>\n",
       "      <td>478107.0</td>\n",
       "      <td>0</td>\n",
       "      <td>117</td>\n",
       "      <td>NaN</td>\n",
       "      <td>https://sun1-93.userapi.com/s/v1/if2/OAXcWS9qC...</td>\n",
       "      <td>https://vk.com/wall-91050183_5174497</td>\n",
       "      <td>...</td>\n",
       "      <td>NaN</td>\n",
       "      <td>neutral</td>\n",
       "      <td>skip</td>\n",
       "      <td>0.334599</td>\n",
       "      <td>0.132974</td>\n",
       "      <td>a man laughing while standing in front of a pa...</td>\n",
       "      <td>у чувака пошла кровь из носа и он просит тридц...</td>\n",
       "      <td>0.187500</td>\n",
       "      <td>0.000000</td>\n",
       "      <td>у чувака пошла кровь из носа и он просит тридц...</td>\n",
       "    </tr>\n",
       "    <tr>\n",
       "      <th>108666</th>\n",
       "      <td>-91050183</td>\n",
       "      <td>64380</td>\n",
       "      <td>2017-06-18 18:51:00</td>\n",
       "      <td>15509</td>\n",
       "      <td>344892.0</td>\n",
       "      <td>0</td>\n",
       "      <td>585</td>\n",
       "      <td>NaN</td>\n",
       "      <td>https://sun1-87.userapi.com/s/v1/if2/e6vgBn0J7...</td>\n",
       "      <td>https://vk.com/wall-91050183_64380</td>\n",
       "      <td>...</td>\n",
       "      <td>NaN</td>\n",
       "      <td>skip</td>\n",
       "      <td>negative</td>\n",
       "      <td>0.287778</td>\n",
       "      <td>0.245095</td>\n",
       "      <td>NaN</td>\n",
       "      <td>женщины могут любить до потери пульса но потом...</td>\n",
       "      <td>0.093750</td>\n",
       "      <td>0.031250</td>\n",
       "      <td>женщины могут любить до потери пульса но потом...</td>\n",
       "    </tr>\n",
       "    <tr>\n",
       "      <th>193918</th>\n",
       "      <td>-25679656</td>\n",
       "      <td>27375</td>\n",
       "      <td>2014-03-23 20:40:00</td>\n",
       "      <td>1685</td>\n",
       "      <td>NaN</td>\n",
       "      <td>0</td>\n",
       "      <td>102</td>\n",
       "      <td>NaN</td>\n",
       "      <td>https://sun1-24.userapi.com/s/v1/if1/4m8BnnKCm...</td>\n",
       "      <td>https://vk.com/wall-25679656_27375</td>\n",
       "      <td>...</td>\n",
       "      <td>NaN</td>\n",
       "      <td>neutral</td>\n",
       "      <td>skip</td>\n",
       "      <td>0.685959</td>\n",
       "      <td>0.250923</td>\n",
       "      <td>NaN</td>\n",
       "      <td>план на сегодня  смейся над тем какие все идио...</td>\n",
       "      <td>0.333333</td>\n",
       "      <td>0.000000</td>\n",
       "      <td>план на сегодня смейся над тем какие все идиот...</td>\n",
       "    </tr>\n",
       "    <tr>\n",
       "      <th>123940</th>\n",
       "      <td>-28468381</td>\n",
       "      <td>273445</td>\n",
       "      <td>2021-12-25 15:35:00</td>\n",
       "      <td>379</td>\n",
       "      <td>16637.0</td>\n",
       "      <td>11</td>\n",
       "      <td>164</td>\n",
       "      <td>NaN</td>\n",
       "      <td>https://sun1-23.userapi.com/s/v1/if2/rMozP4C5S...</td>\n",
       "      <td>https://vk.com/wall-28468381_273445</td>\n",
       "      <td>...</td>\n",
       "      <td>NaN</td>\n",
       "      <td>neutral</td>\n",
       "      <td>negative</td>\n",
       "      <td>0.430157</td>\n",
       "      <td>0.294225</td>\n",
       "      <td>NaN</td>\n",
       "      <td>грустная история естьу нас в донецке такая ули...</td>\n",
       "      <td>0.200000</td>\n",
       "      <td>0.083333</td>\n",
       "      <td>грустная история нас в такая улица называется ...</td>\n",
       "    </tr>\n",
       "    <tr>\n",
       "      <th>129621</th>\n",
       "      <td>-28468381</td>\n",
       "      <td>211717</td>\n",
       "      <td>2021-01-25 18:36:00</td>\n",
       "      <td>178</td>\n",
       "      <td>27699.0</td>\n",
       "      <td>5</td>\n",
       "      <td>203</td>\n",
       "      <td>1 бутер и ложусь спать �</td>\n",
       "      <td>https://sun1-28.userapi.com/s/v1/if2/hJMmcj2aS...</td>\n",
       "      <td>https://vk.com/wall-28468381_211717</td>\n",
       "      <td>...</td>\n",
       "      <td>0.300756</td>\n",
       "      <td>NaN</td>\n",
       "      <td>NaN</td>\n",
       "      <td>NaN</td>\n",
       "      <td>NaN</td>\n",
       "      <td>a cup of coffee with a pile of cookies</td>\n",
       "      <td>NaN</td>\n",
       "      <td>NaN</td>\n",
       "      <td>NaN</td>\n",
       "      <td>и ложусь спать</td>\n",
       "    </tr>\n",
       "    <tr>\n",
       "      <th>136456</th>\n",
       "      <td>-28468381</td>\n",
       "      <td>134437</td>\n",
       "      <td>2019-12-14 19:36:00</td>\n",
       "      <td>200</td>\n",
       "      <td>18164.0</td>\n",
       "      <td>0</td>\n",
       "      <td>17</td>\n",
       "      <td>NaN</td>\n",
       "      <td>https://sun1-13.userapi.com/c858036/v858036701...</td>\n",
       "      <td>https://vk.com/wall-28468381_134437</td>\n",
       "      <td>...</td>\n",
       "      <td>NaN</td>\n",
       "      <td>negative</td>\n",
       "      <td>skip</td>\n",
       "      <td>0.430157</td>\n",
       "      <td>0.314061</td>\n",
       "      <td>NaN</td>\n",
       "      <td>некоторые пешеходы так нагло переходят дорогу ...</td>\n",
       "      <td>0.181818</td>\n",
       "      <td>0.000000</td>\n",
       "      <td>некоторые пешеходы так нагло переходят дорогу ...</td>\n",
       "    </tr>\n",
       "    <tr>\n",
       "      <th>174287</th>\n",
       "      <td>-25679656</td>\n",
       "      <td>95620</td>\n",
       "      <td>2017-09-13 19:40:00</td>\n",
       "      <td>1943</td>\n",
       "      <td>91995.0</td>\n",
       "      <td>0</td>\n",
       "      <td>148</td>\n",
       "      <td>NaN</td>\n",
       "      <td>https://sun1-28.userapi.com/s/v1/if1/dGjz4Njqe...</td>\n",
       "      <td>https://vk.com/wall-25679656_95620</td>\n",
       "      <td>...</td>\n",
       "      <td>NaN</td>\n",
       "      <td>skip</td>\n",
       "      <td>negative</td>\n",
       "      <td>0.341593</td>\n",
       "      <td>0.275140</td>\n",
       "      <td>NaN</td>\n",
       "      <td>айфоны новые они значит придумали а лекарство ...</td>\n",
       "      <td>0.227273</td>\n",
       "      <td>0.045455</td>\n",
       "      <td>новые они значит придумали а лекарство чтоб со...</td>\n",
       "    </tr>\n",
       "    <tr>\n",
       "      <th>115430</th>\n",
       "      <td>-91050183</td>\n",
       "      <td>41539</td>\n",
       "      <td>2016-09-22 20:51:00</td>\n",
       "      <td>15365</td>\n",
       "      <td>NaN</td>\n",
       "      <td>0</td>\n",
       "      <td>1073</td>\n",
       "      <td>NaN</td>\n",
       "      <td>https://sun1-85.userapi.com/s/v1/if2/3rTncX81f...</td>\n",
       "      <td>https://vk.com/wall-91050183_41539</td>\n",
       "      <td>...</td>\n",
       "      <td>NaN</td>\n",
       "      <td>positive</td>\n",
       "      <td>negative</td>\n",
       "      <td>0.314061</td>\n",
       "      <td>0.201823</td>\n",
       "      <td>a poster of a cartoon bear walking on the beach</td>\n",
       "      <td>лучше быть любимой врединой чем никому не нужн...</td>\n",
       "      <td>0.111111</td>\n",
       "      <td>0.111111</td>\n",
       "      <td>лучше быть любимой чем никому не нужным соверш...</td>\n",
       "    </tr>\n",
       "    <tr>\n",
       "      <th>169389</th>\n",
       "      <td>-25679656</td>\n",
       "      <td>108878</td>\n",
       "      <td>2018-06-14 15:44:00</td>\n",
       "      <td>885</td>\n",
       "      <td>43110.0</td>\n",
       "      <td>0</td>\n",
       "      <td>54</td>\n",
       "      <td>NaN</td>\n",
       "      <td>https://sun1-98.userapi.com/s/v1/if2/F4-FSPRXe...</td>\n",
       "      <td>https://vk.com/wall-25679656_108878</td>\n",
       "      <td>...</td>\n",
       "      <td>NaN</td>\n",
       "      <td>neutral</td>\n",
       "      <td>negative</td>\n",
       "      <td>0.749097</td>\n",
       "      <td>0.222710</td>\n",
       "      <td>NaN</td>\n",
       "      <td>деиспе тйспъаи читать деистс если теория квант...</td>\n",
       "      <td>0.239437</td>\n",
       "      <td>0.109375</td>\n",
       "      <td>читать если теория квантового бессмертия верна...</td>\n",
       "    </tr>\n",
       "  </tbody>\n",
       "</table>\n",
       "<p>10 rows × 27 columns</p>\n",
       "</div>"
      ],
      "text/plain": [
       "        id_community  id_post         date_posted  count_likes  count_views  \\\n",
       "198482     -25679656    17211 2013-09-05 19:30:00         1236          NaN   \n",
       "95846      -91050183  5174497 2019-08-28 18:43:00        40172     478107.0   \n",
       "108666     -91050183    64380 2017-06-18 18:51:00        15509     344892.0   \n",
       "193918     -25679656    27375 2014-03-23 20:40:00         1685          NaN   \n",
       "123940     -28468381   273445 2021-12-25 15:35:00          379      16637.0   \n",
       "129621     -28468381   211717 2021-01-25 18:36:00          178      27699.0   \n",
       "136456     -28468381   134437 2019-12-14 19:36:00          200      18164.0   \n",
       "174287     -25679656    95620 2017-09-13 19:40:00         1943      91995.0   \n",
       "115430     -91050183    41539 2016-09-22 20:51:00        15365          NaN   \n",
       "169389     -25679656   108878 2018-06-14 15:44:00          885      43110.0   \n",
       "\n",
       "        count_comments  count_reposts                 text_post  \\\n",
       "198482               0            177                       NaN   \n",
       "95846                0            117                       NaN   \n",
       "108666               0            585                       NaN   \n",
       "193918               0            102                       NaN   \n",
       "123940              11            164                       NaN   \n",
       "129621               5            203  1 бутер и ложусь спать �   \n",
       "136456               0             17                       NaN   \n",
       "174287               0            148                       NaN   \n",
       "115430               0           1073                       NaN   \n",
       "169389               0             54                       NaN   \n",
       "\n",
       "                                                image_url  \\\n",
       "198482  https://sun1-94.userapi.com/s/v1/if2/7d83ZXNd2...   \n",
       "95846   https://sun1-93.userapi.com/s/v1/if2/OAXcWS9qC...   \n",
       "108666  https://sun1-87.userapi.com/s/v1/if2/e6vgBn0J7...   \n",
       "193918  https://sun1-24.userapi.com/s/v1/if1/4m8BnnKCm...   \n",
       "123940  https://sun1-23.userapi.com/s/v1/if2/rMozP4C5S...   \n",
       "129621  https://sun1-28.userapi.com/s/v1/if2/hJMmcj2aS...   \n",
       "136456  https://sun1-13.userapi.com/c858036/v858036701...   \n",
       "174287  https://sun1-28.userapi.com/s/v1/if1/dGjz4Njqe...   \n",
       "115430  https://sun1-85.userapi.com/s/v1/if2/3rTncX81f...   \n",
       "169389  https://sun1-98.userapi.com/s/v1/if2/F4-FSPRXe...   \n",
       "\n",
       "                                    post_url  ... level_sentiment_post_2  \\\n",
       "198482    https://vk.com/wall-25679656_17211  ...                    NaN   \n",
       "95846   https://vk.com/wall-91050183_5174497  ...                    NaN   \n",
       "108666    https://vk.com/wall-91050183_64380  ...                    NaN   \n",
       "193918    https://vk.com/wall-25679656_27375  ...                    NaN   \n",
       "123940   https://vk.com/wall-28468381_273445  ...                    NaN   \n",
       "129621   https://vk.com/wall-28468381_211717  ...               0.300756   \n",
       "136456   https://vk.com/wall-28468381_134437  ...                    NaN   \n",
       "174287    https://vk.com/wall-25679656_95620  ...                    NaN   \n",
       "115430    https://vk.com/wall-91050183_41539  ...                    NaN   \n",
       "169389   https://vk.com/wall-25679656_108878  ...                    NaN   \n",
       "\n",
       "       sentiment_text_ocr_image_1  sentiment_text_ocr_image_2  \\\n",
       "198482                    neutral                    negative   \n",
       "95846                     neutral                        skip   \n",
       "108666                       skip                    negative   \n",
       "193918                    neutral                        skip   \n",
       "123940                    neutral                    negative   \n",
       "129621                        NaN                         NaN   \n",
       "136456                   negative                        skip   \n",
       "174287                       skip                    negative   \n",
       "115430                   positive                    negative   \n",
       "169389                    neutral                    negative   \n",
       "\n",
       "       level_sentiment_ocr_1 level_sentiment_ocr_2  \\\n",
       "198482              0.731069              0.300756   \n",
       "95846               0.334599              0.132974   \n",
       "108666              0.287778              0.245095   \n",
       "193918              0.685959              0.250923   \n",
       "123940              0.430157              0.294225   \n",
       "129621                   NaN                   NaN   \n",
       "136456              0.430157              0.314061   \n",
       "174287              0.341593              0.275140   \n",
       "115430              0.314061              0.201823   \n",
       "169389              0.749097              0.222710   \n",
       "\n",
       "                                        description_image  \\\n",
       "198482  a man in a suit and tie talking into a microphone   \n",
       "95846   a man laughing while standing in front of a pa...   \n",
       "108666                                                NaN   \n",
       "193918                                                NaN   \n",
       "123940                                                NaN   \n",
       "129621             a cup of coffee with a pile of cookies   \n",
       "136456                                                NaN   \n",
       "174287                                                NaN   \n",
       "115430    a poster of a cartoon bear walking on the beach   \n",
       "169389                                                NaN   \n",
       "\n",
       "                                       spell_text_with_re  perc_unk_words  \\\n",
       "198482  если кто-то борется коррупцией он сам должен б...        0.190476   \n",
       "95846   у чувака пошла кровь из носа и он просит тридц...        0.187500   \n",
       "108666  женщины могут любить до потери пульса но потом...        0.093750   \n",
       "193918  план на сегодня  смейся над тем какие все идио...        0.333333   \n",
       "123940  грустная история естьу нас в донецке такая ули...        0.200000   \n",
       "129621                                                NaN             NaN   \n",
       "136456  некоторые пешеходы так нагло переходят дорогу ...        0.181818   \n",
       "174287  айфоны новые они значит придумали а лекарство ...        0.227273   \n",
       "115430  лучше быть любимой врединой чем никому не нужн...        0.111111   \n",
       "169389  деиспе тйспъаи читать деистс если теория квант...        0.239437   \n",
       "\n",
       "       perc_unk_words_re                                          full_text  \n",
       "198482          0.100000  если кто-то борется коррупцией он сам должен б...  \n",
       "95846           0.000000  у чувака пошла кровь из носа и он просит тридц...  \n",
       "108666          0.031250  женщины могут любить до потери пульса но потом...  \n",
       "193918          0.000000  план на сегодня смейся над тем какие все идиот...  \n",
       "123940          0.083333  грустная история нас в такая улица называется ...  \n",
       "129621               NaN                                     и ложусь спать  \n",
       "136456          0.000000  некоторые пешеходы так нагло переходят дорогу ...  \n",
       "174287          0.045455  новые они значит придумали а лекарство чтоб со...  \n",
       "115430          0.111111  лучше быть любимой чем никому не нужным соверш...  \n",
       "169389          0.109375  читать если теория квантового бессмертия верна...  \n",
       "\n",
       "[10 rows x 27 columns]"
      ]
     },
     "execution_count": 93,
     "metadata": {},
     "output_type": "execute_result"
    }
   ],
   "source": [
    "final_df.sample(10)"
   ]
  },
  {
   "cell_type": "code",
   "execution_count": 103,
   "metadata": {},
   "outputs": [],
   "source": [
    "final_df.loc[(final_df['type_post'] == \"image\") & (final_df['text_post'].notna()), 'type_post'] = 'img_text'"
   ]
  },
  {
   "cell_type": "code",
   "execution_count": 43,
   "metadata": {},
   "outputs": [
    {
     "data": {
      "text/plain": [
       "Index(['id_community', 'id_post', 'date_posted', 'count_likes', 'count_views',\n",
       "       'count_comments', 'count_reposts', 'text_post', 'image_url', 'post_url',\n",
       "       'type_post', 'text_ocr_image', 'size_text_ocr', 'spell_text_ocr_image',\n",
       "       'sentiment_text_post_1', 'sentiment_text_post_2',\n",
       "       'level_sentiment_post_1', 'level_sentiment_post_2',\n",
       "       'sentiment_text_ocr_image_1', 'sentiment_text_ocr_image_2',\n",
       "       'level_sentiment_ocr_1', 'level_sentiment_ocr_2', 'description_image',\n",
       "       'spell_text_with_re', 'perc_unk_words', 'perc_unk_words_re'],\n",
       "      dtype='object')"
      ]
     },
     "execution_count": 43,
     "metadata": {},
     "output_type": "execute_result"
    }
   ],
   "source": [
    "final_df.columns"
   ]
  },
  {
   "cell_type": "code",
   "execution_count": 1,
   "metadata": {},
   "outputs": [],
   "source": [
    "with open('/home/sergey/maga_diploma/models/OCR_Speller/russian-words-master/russian.utf-8', 'r') as f:\n",
    "    vocab = set(f.read().splitlines())"
   ]
  },
  {
   "cell_type": "code",
   "execution_count": 104,
   "metadata": {},
   "outputs": [],
   "source": [
    "def prepare_full_text(row):\n",
    "    if pd.notna(row['spell_text_with_re']):\n",
    "        r = row['spell_text_with_re']\n",
    "    elif pd.notna(row['spell_text_ocr_image']):\n",
    "        r = row['spell_text_ocr_image']\n",
    "    else:\n",
    "        r = ''\n",
    "    if pd.notna(row['text_post']):\n",
    "        r = row['text_post'] + ' ' + r\n",
    "        \n",
    "    return delete_unknown(r)"
   ]
  },
  {
   "cell_type": "code",
   "execution_count": 105,
   "metadata": {},
   "outputs": [],
   "source": [
    "import re\n",
    "def delete_unknown(s): \n",
    "    # print(s)\n",
    "    res = []\n",
    "    for word in re.sub(r'[^А-Яа-яЁё\\- ]', '', s.lower()).split():\n",
    "        if word in vocab:\n",
    "           res.append(word)\n",
    "    return ' '.join(res)"
   ]
  },
  {
   "cell_type": "code",
   "execution_count": 106,
   "metadata": {},
   "outputs": [],
   "source": [
    "final_df['full_text'] = final_df.apply(prepare_full_text, axis=1)"
   ]
  },
  {
   "cell_type": "code",
   "execution_count": 2,
   "metadata": {},
   "outputs": [
    {
     "data": {
      "text/plain": [
       "1533166"
      ]
     },
     "execution_count": 2,
     "metadata": {},
     "output_type": "execute_result"
    }
   ],
   "source": [
    "len(vocab)"
   ]
  },
  {
   "cell_type": "code",
   "execution_count": null,
   "metadata": {},
   "outputs": [
    {
     "name": "stderr",
     "output_type": "stream",
     "text": [
      "19217it [12:00, 18.89it/s]"
     ]
    }
   ],
   "source": [
    "for index, row in tqdm(final_df.iterrows()):\n",
    "    try:\n",
    "        words = row['spell_text_with_re'].lower().split()\n",
    "        res =  [w for w in words if w in vocab] if len(words) > 0 else np.nan\n",
    "        if len(res) in (0, 1):\n",
    "            continue\n",
    "        final_df[index, 'clear_text'] = ' '.join(res)\n",
    "    except:\n",
    "        continue"
   ]
  },
  {
   "cell_type": "code",
   "execution_count": 11,
   "metadata": {},
   "outputs": [],
   "source": [
    "communities = dict(zip([-95355317, -57846937, -158490202, -131489096,  -91050183, -28468381,  -25679656], \n",
    "                       ['4ch', 'mudakoff', 'scolu', 'weirdreparametrizationtrick', 'dayvinchik', 'jokesss', 'sarsar']))"
   ]
  },
  {
   "cell_type": "code",
   "execution_count": 67,
   "metadata": {},
   "outputs": [],
   "source": [
    "def distribution_pop(communities, my_df):\n",
    "    cnt = 0\n",
    "    base_dir = '/media/sergey/Transcend/Serega/maga_diplom/images_full/communities/'\n",
    "    target_dir = '../popular/dataset/'\n",
    "    for index, row in tqdm(my_df.iterrows()):\n",
    "        cur_path = base_dir  + communities[int(row['id_community'])] + '/images/' + '_'.join([communities[int(row['id_community'])], str(row['id_community']), str(row['id_post'])]) + '.jpg'\n",
    "        # command = '[ -f {} ] && echo \"exist\"'.format(cur_path)\n",
    "        if not os.path.isfile(cur_path):\n",
    "            print(cur_path)\n",
    "            continue\n",
    "        # print(cur_path)\n",
    "        if row['pop_class'] == 0.0:\n",
    "            command = 'cp {} {}'.format(cur_path, target_dir+'not_pop/')\n",
    "            subprocess.call(command, shell=True)\n",
    "        else:\n",
    "            command = 'cp {} {}'.format(cur_path, target_dir+'is_pop/')\n",
    "            subprocess.call(command, shell=True)\n",
    "        cnt += 1\n",
    "        # if cnt == 10:\n",
    "        #     break\n",
    "        #owner_id = img_path.split(os.sep)[-1].split('_')[1]\n",
    "        #id_post = img_path.split(os.sep)[-1].split('_')[-1].split('.')[0]\n",
    "        # print(\"_\".join([communities[int(owner_id)], owner_id, id_post]) + '.jpg')\n",
    "    return 0"
   ]
  },
  {
   "cell_type": "code",
   "execution_count": 76,
   "metadata": {},
   "outputs": [
    {
     "name": "stderr",
     "output_type": "stream",
     "text": [
      "26497it [35:02, 12.61it/s]\n"
     ]
    },
    {
     "data": {
      "text/plain": [
       "0"
      ]
     },
     "execution_count": 76,
     "metadata": {},
     "output_type": "execute_result"
    }
   ],
   "source": [
    "distribution_pop(communities, final_df)"
   ]
  },
  {
   "attachments": {
    "e9e4f6dc-94c8-46eb-8d27-0b604ebd2860.png": {
     "image/png": "[encoded data removed]"
    }
   },
   "cell_type": "markdown",
   "metadata": {},
   "source": [
    "![image.png](attachment:e9e4f6dc-94c8-46eb-8d27-0b604ebd2860.png)"
   ]
  },
  {
   "cell_type": "code",
   "execution_count": 109,
   "metadata": {},
   "outputs": [],
   "source": [
    "final_df['full_id'] = final_df.apply(lambda row: f\"{row['id_community']}_{row['id_post']}\", axis=1)"
   ]
  },
  {
   "cell_type": "code",
   "execution_count": 78,
   "metadata": {},
   "outputs": [
    {
     "data": {
      "text/plain": [
       "(26497, 30)"
      ]
     },
     "execution_count": 78,
     "metadata": {},
     "output_type": "execute_result"
    }
   ],
   "source": [
    "final_df.shape"
   ]
  },
  {
   "cell_type": "code",
   "execution_count": null,
   "metadata": {},
   "outputs": [],
   "source": [
    "/home/sergey/maga_diploma/models/OCR_Speller/russian-words-master/russian.utf-8"
   ]
  },
  {
   "cell_type": "code",
   "execution_count": 8,
   "metadata": {},
   "outputs": [],
   "source": []
  },
  {
   "cell_type": "code",
   "execution_count": 31,
   "metadata": {},
   "outputs": [
    {
     "data": {
      "text/plain": [
       "Index(['id_community', 'id_post', 'date_posted', 'count_likes', 'count_views',\n",
       "       'count_comments', 'count_reposts', 'text_post', 'image_url', 'post_url',\n",
       "       'type_post', 'text_ocr_image', 'size_text_ocr', 'spell_text_ocr_image',\n",
       "       'sentiment_text_post_1', 'sentiment_text_post_2',\n",
       "       'level_sentiment_post_1', 'level_sentiment_post_2',\n",
       "       'sentiment_text_ocr_image_1', 'sentiment_text_ocr_image_2',\n",
       "       'level_sentiment_ocr_1', 'level_sentiment_ocr_2', 'description_image',\n",
       "       'spell_text_with_re', 'perc_unk_words', 'perc_unk_words_re',\n",
       "       'pop_class', 'likes_per_views', 'id_community_str'],\n",
       "      dtype='object')"
      ]
     },
     "execution_count": 31,
     "metadata": {},
     "output_type": "execute_result"
    }
   ],
   "source": [
    "final_df.columns"
   ]
  },
  {
   "cell_type": "code",
   "execution_count": null,
   "metadata": {},
   "outputs": [],
   "source": []
  },
  {
   "cell_type": "code",
   "execution_count": 80,
   "metadata": {},
   "outputs": [],
   "source": [
    "imgs1 = ! ls /home/sergey/maga_diploma/models/popular/dataset/is_pop/*"
   ]
  },
  {
   "cell_type": "code",
   "execution_count": 81,
   "metadata": {},
   "outputs": [],
   "source": [
    "imgs2 = ! ls /home/sergey/maga_diploma/models/popular/dataset/not_pop/*"
   ]
  },
  {
   "cell_type": "code",
   "execution_count": 82,
   "metadata": {},
   "outputs": [],
   "source": [
    "lst_imgs = imgs1 + imgs2"
   ]
  },
  {
   "cell_type": "code",
   "execution_count": 128,
   "metadata": {},
   "outputs": [
    {
     "data": {
      "text/html": [
       "<div>\n",
       "<style scoped>\n",
       "    .dataframe tbody tr th:only-of-type {\n",
       "        vertical-align: middle;\n",
       "    }\n",
       "\n",
       "    .dataframe tbody tr th {\n",
       "        vertical-align: top;\n",
       "    }\n",
       "\n",
       "    .dataframe thead th {\n",
       "        text-align: right;\n",
       "    }\n",
       "</style>\n",
       "<table border=\"1\" class=\"dataframe\">\n",
       "  <thead>\n",
       "    <tr style=\"text-align: right;\">\n",
       "      <th></th>\n",
       "      <th>id_community</th>\n",
       "      <th>id_post</th>\n",
       "      <th>date_posted</th>\n",
       "      <th>count_likes</th>\n",
       "      <th>count_views</th>\n",
       "      <th>count_comments</th>\n",
       "      <th>count_reposts</th>\n",
       "      <th>text_post</th>\n",
       "      <th>image_url</th>\n",
       "      <th>post_url</th>\n",
       "      <th>...</th>\n",
       "      <th>level_sentiment_ocr_1</th>\n",
       "      <th>level_sentiment_ocr_2</th>\n",
       "      <th>description_image</th>\n",
       "      <th>spell_text_with_re</th>\n",
       "      <th>perc_unk_words</th>\n",
       "      <th>perc_unk_words_re</th>\n",
       "      <th>likes_per_views</th>\n",
       "      <th>pop_class</th>\n",
       "      <th>full_text</th>\n",
       "      <th>full_id</th>\n",
       "    </tr>\n",
       "  </thead>\n",
       "  <tbody>\n",
       "    <tr>\n",
       "      <th>1</th>\n",
       "      <td>-95355317</td>\n",
       "      <td>2106041</td>\n",
       "      <td>2022-05-12 12:03:02</td>\n",
       "      <td>6</td>\n",
       "      <td>6342.0</td>\n",
       "      <td>4</td>\n",
       "      <td>9</td>\n",
       "      <td>NaN</td>\n",
       "      <td>https://sun1-18.userapi.com/s/v1/ig2/gwRD8wNJH...</td>\n",
       "      <td>https://vk.com/wall-95355317_2106041</td>\n",
       "      <td>...</td>\n",
       "      <td>0.986787</td>\n",
       "      <td>0.016925</td>\n",
       "      <td>the evolution of korean beauty in 2018 and 2020</td>\n",
       "      <td>когда вс жизнь мечтала стать парнем</td>\n",
       "      <td>0.666667</td>\n",
       "      <td>0.000000</td>\n",
       "      <td>0.000946</td>\n",
       "      <td>NaN</td>\n",
       "      <td>когда вс жизнь мечтала стать парнем</td>\n",
       "      <td>-95355317_2106041</td>\n",
       "    </tr>\n",
       "    <tr>\n",
       "      <th>3</th>\n",
       "      <td>-95355317</td>\n",
       "      <td>2106029</td>\n",
       "      <td>2022-05-12 10:03:00</td>\n",
       "      <td>9</td>\n",
       "      <td>8934.0</td>\n",
       "      <td>7</td>\n",
       "      <td>5</td>\n",
       "      <td>NaN</td>\n",
       "      <td>https://sun1-55.userapi.com/s/v1/ig2/iyfPNRSKA...</td>\n",
       "      <td>https://vk.com/wall-95355317_2106029</td>\n",
       "      <td>...</td>\n",
       "      <td>0.976321</td>\n",
       "      <td>0.275140</td>\n",
       "      <td>a small console table is made out of a metal</td>\n",
       "      <td>не могу понять стоит или лежит</td>\n",
       "      <td>0.000000</td>\n",
       "      <td>0.000000</td>\n",
       "      <td>0.001007</td>\n",
       "      <td>0.0</td>\n",
       "      <td>не могу понять стоит или лежит</td>\n",
       "      <td>-95355317_2106029</td>\n",
       "    </tr>\n",
       "    <tr>\n",
       "      <th>5</th>\n",
       "      <td>-95355317</td>\n",
       "      <td>2105981</td>\n",
       "      <td>2022-05-11 19:10:00</td>\n",
       "      <td>378</td>\n",
       "      <td>23118.0</td>\n",
       "      <td>2</td>\n",
       "      <td>161</td>\n",
       "      <td>NaN</td>\n",
       "      <td>https://sun1-96.userapi.com/s/v1/ig2/0Etc7GMf3...</td>\n",
       "      <td>https://vk.com/wall-95355317_2105981</td>\n",
       "      <td>...</td>\n",
       "      <td>0.362979</td>\n",
       "      <td>0.239359</td>\n",
       "      <td>the face of a monkey on a screenshot of a cell...</td>\n",
       "      <td>влад крутится ли воздух внутри колеса вчера в ...</td>\n",
       "      <td>0.354167</td>\n",
       "      <td>0.125000</td>\n",
       "      <td>0.016350</td>\n",
       "      <td>1.0</td>\n",
       "      <td>крутится ли воздух внутри колеса вчера в ответ...</td>\n",
       "      <td>-95355317_2105981</td>\n",
       "    </tr>\n",
       "    <tr>\n",
       "      <th>6</th>\n",
       "      <td>-95355317</td>\n",
       "      <td>2105977</td>\n",
       "      <td>2022-05-11 17:10:00</td>\n",
       "      <td>32</td>\n",
       "      <td>5581.0</td>\n",
       "      <td>0</td>\n",
       "      <td>42</td>\n",
       "      <td>NaN</td>\n",
       "      <td>https://sun1-83.userapi.com/s/v1/ig2/YQU9ENzXN...</td>\n",
       "      <td>https://vk.com/wall-95355317_2105977</td>\n",
       "      <td>...</td>\n",
       "      <td>0.992889</td>\n",
       "      <td>0.020974</td>\n",
       "      <td>a screenshot of a cell phone message with a cake</td>\n",
       "      <td>это мы когда отмечаете один день без ссор  ещё...</td>\n",
       "      <td>0.272727</td>\n",
       "      <td>0.058824</td>\n",
       "      <td>0.005733</td>\n",
       "      <td>NaN</td>\n",
       "      <td>это мы когда отмечаете один день без ссор ещё ...</td>\n",
       "      <td>-95355317_2105977</td>\n",
       "    </tr>\n",
       "    <tr>\n",
       "      <th>8</th>\n",
       "      <td>-95355317</td>\n",
       "      <td>2105968</td>\n",
       "      <td>2022-05-11 12:10:00</td>\n",
       "      <td>19</td>\n",
       "      <td>5397.0</td>\n",
       "      <td>0</td>\n",
       "      <td>23</td>\n",
       "      <td>NaN</td>\n",
       "      <td>https://sun1-54.userapi.com/s/v1/ig2/2mVk4bj_j...</td>\n",
       "      <td>https://vk.com/wall-95355317_2105968</td>\n",
       "      <td>...</td>\n",
       "      <td>0.737168</td>\n",
       "      <td>0.445540</td>\n",
       "      <td>a woman is making a bed with a clock</td>\n",
       "      <td>сегоднялягулоракьше  интересно что такого случ...</td>\n",
       "      <td>0.250000</td>\n",
       "      <td>0.083333</td>\n",
       "      <td>0.003520</td>\n",
       "      <td>NaN</td>\n",
       "      <td>интересно что такого случилось у гоголя что ок...</td>\n",
       "      <td>-95355317_2105968</td>\n",
       "    </tr>\n",
       "  </tbody>\n",
       "</table>\n",
       "<p>5 rows × 30 columns</p>\n",
       "</div>"
      ],
      "text/plain": [
       "   id_community  id_post         date_posted  count_likes  count_views  \\\n",
       "1     -95355317  2106041 2022-05-12 12:03:02            6       6342.0   \n",
       "3     -95355317  2106029 2022-05-12 10:03:00            9       8934.0   \n",
       "5     -95355317  2105981 2022-05-11 19:10:00          378      23118.0   \n",
       "6     -95355317  2105977 2022-05-11 17:10:00           32       5581.0   \n",
       "8     -95355317  2105968 2022-05-11 12:10:00           19       5397.0   \n",
       "\n",
       "   count_comments  count_reposts text_post  \\\n",
       "1               4              9       NaN   \n",
       "3               7              5       NaN   \n",
       "5               2            161       NaN   \n",
       "6               0             42       NaN   \n",
       "8               0             23       NaN   \n",
       "\n",
       "                                           image_url  \\\n",
       "1  https://sun1-18.userapi.com/s/v1/ig2/gwRD8wNJH...   \n",
       "3  https://sun1-55.userapi.com/s/v1/ig2/iyfPNRSKA...   \n",
       "5  https://sun1-96.userapi.com/s/v1/ig2/0Etc7GMf3...   \n",
       "6  https://sun1-83.userapi.com/s/v1/ig2/YQU9ENzXN...   \n",
       "8  https://sun1-54.userapi.com/s/v1/ig2/2mVk4bj_j...   \n",
       "\n",
       "                               post_url  ... level_sentiment_ocr_1  \\\n",
       "1  https://vk.com/wall-95355317_2106041  ...              0.986787   \n",
       "3  https://vk.com/wall-95355317_2106029  ...              0.976321   \n",
       "5  https://vk.com/wall-95355317_2105981  ...              0.362979   \n",
       "6  https://vk.com/wall-95355317_2105977  ...              0.992889   \n",
       "8  https://vk.com/wall-95355317_2105968  ...              0.737168   \n",
       "\n",
       "  level_sentiment_ocr_2                                  description_image  \\\n",
       "1              0.016925    the evolution of korean beauty in 2018 and 2020   \n",
       "3              0.275140       a small console table is made out of a metal   \n",
       "5              0.239359  the face of a monkey on a screenshot of a cell...   \n",
       "6              0.020974   a screenshot of a cell phone message with a cake   \n",
       "8              0.445540               a woman is making a bed with a clock   \n",
       "\n",
       "                                  spell_text_with_re perc_unk_words  \\\n",
       "1       когда вс жизнь мечтала стать парнем                0.666667   \n",
       "3                     не могу понять стоит или лежит       0.000000   \n",
       "5  влад крутится ли воздух внутри колеса вчера в ...       0.354167   \n",
       "6  это мы когда отмечаете один день без ссор  ещё...       0.272727   \n",
       "8  сегоднялягулоракьше  интересно что такого случ...       0.250000   \n",
       "\n",
       "  perc_unk_words_re  likes_per_views  pop_class  \\\n",
       "1          0.000000         0.000946        NaN   \n",
       "3          0.000000         0.001007        0.0   \n",
       "5          0.125000         0.016350        1.0   \n",
       "6          0.058824         0.005733        NaN   \n",
       "8          0.083333         0.003520        NaN   \n",
       "\n",
       "                                           full_text            full_id  \n",
       "1                когда вс жизнь мечтала стать парнем  -95355317_2106041  \n",
       "3                     не могу понять стоит или лежит  -95355317_2106029  \n",
       "5  крутится ли воздух внутри колеса вчера в ответ...  -95355317_2105981  \n",
       "6  это мы когда отмечаете один день без ссор ещё ...  -95355317_2105977  \n",
       "8  интересно что такого случилось у гоголя что ок...  -95355317_2105968  \n",
       "\n",
       "[5 rows x 30 columns]"
      ]
     },
     "execution_count": 128,
     "metadata": {},
     "output_type": "execute_result"
    }
   ],
   "source": [
    "final_df.head()"
   ]
  },
  {
   "cell_type": "code",
   "execution_count": 6,
   "metadata": {},
   "outputs": [],
   "source": [
    "ids_feat, all_vec = [], []"
   ]
  },
  {
   "cell_type": "code",
   "execution_count": 25,
   "metadata": {},
   "outputs": [],
   "source": [
    "final_df['full_id'] = final_df.apply(lambda row: f\"{row['id_community']}_{row['id_post']}\", axis=1)"
   ]
  },
  {
   "cell_type": "code",
   "execution_count": 33,
   "metadata": {},
   "outputs": [],
   "source": [
    "def get_all_vec(communities, my_df):\n",
    "    cnt = 0\n",
    "    all_vec = []\n",
    "    ids_feat = []\n",
    "    base_dir = '/media/sergey/Transcend/Serega/maga_diplom/images_full/communities/'\n",
    "    target_dir = '../popular/dataset/'\n",
    "    # cnt = 0 \n",
    "    for index, row in tqdm(my_df.iterrows()):\n",
    "        # cnt += 1\n",
    "        # if cnt == 10:\n",
    "            # break\n",
    "        if row['type_post'] == \"text\":\n",
    "            continue\n",
    "        cur_path = base_dir  + communities[int(row['id_community'])] + '/images/' + '_'.join([communities[int(row['id_community'])], str(row['id_community']), str(row['id_post'])]) + '.jpg'\n",
    "        # command = '[ -f {} ] && echo \"exist\"'.format(cur_path)\n",
    "        \n",
    "        if not os.path.isfile(cur_path):\n",
    "            # print(cur_path)\n",
    "            continue\n",
    "        try:\n",
    "            vec_img = get_vector(cur_path)\n",
    "            ids_feat.append(row['full_id'])\n",
    "            all_vec.append(vec_img)\n",
    "        except:\n",
    "            continue\n",
    "            # print(cur_path)\n",
    "    # print(ids_feat)\n",
    "    return ids_feat, all_vec"
   ]
  },
  {
   "cell_type": "code",
   "execution_count": 34,
   "metadata": {},
   "outputs": [
    {
     "name": "stderr",
     "output_type": "stream",
     "text": [
      "176781it [3:01:58, 16.19it/s] \n"
     ]
    }
   ],
   "source": [
    "ids_feat, all_vec = get_all_vec(communities, final_df)"
   ]
  },
  {
   "cell_type": "code",
   "execution_count": 86,
   "metadata": {},
   "outputs": [
    {
     "name": "stderr",
     "output_type": "stream",
     "text": [
      " 10%|▉         | 2635/26496 [02:53<26:31, 14.99it/s]"
     ]
    },
    {
     "name": "stdout",
     "output_type": "stream",
     "text": [
      "/home/sergey/maga_diploma/models/popular/dataset/is_pop/dayvinchik_-91050183_2440670.jpg\n"
     ]
    },
    {
     "name": "stderr",
     "output_type": "stream",
     "text": [
      " 14%|█▍        | 3800/26496 [04:09<20:35, 18.37it/s]"
     ]
    },
    {
     "name": "stdout",
     "output_type": "stream",
     "text": [
      "/home/sergey/maga_diploma/models/popular/dataset/is_pop/jokesss_-28468381_135343.jpg\n"
     ]
    },
    {
     "name": "stderr",
     "output_type": "stream",
     "text": [
      " 14%|█▍        | 3836/26496 [04:11<19:57, 18.92it/s]"
     ]
    },
    {
     "name": "stdout",
     "output_type": "stream",
     "text": [
      "/home/sergey/maga_diploma/models/popular/dataset/is_pop/jokesss_-28468381_137012.jpg\n",
      "/home/sergey/maga_diploma/models/popular/dataset/is_pop/jokesss_-28468381_137025.jpg\n"
     ]
    },
    {
     "name": "stderr",
     "output_type": "stream",
     "text": [
      " 15%|█▍        | 3879/26496 [04:14<20:41, 18.22it/s]"
     ]
    },
    {
     "name": "stdout",
     "output_type": "stream",
     "text": [
      "/home/sergey/maga_diploma/models/popular/dataset/is_pop/jokesss_-28468381_139330.jpg\n"
     ]
    },
    {
     "name": "stderr",
     "output_type": "stream",
     "text": [
      " 16%|█▌        | 4296/26496 [04:40<20:05, 18.41it/s]"
     ]
    },
    {
     "name": "stdout",
     "output_type": "stream",
     "text": [
      "/home/sergey/maga_diploma/models/popular/dataset/is_pop/jokesss_-28468381_220785.jpg\n"
     ]
    },
    {
     "name": "stderr",
     "output_type": "stream",
     "text": [
      " 17%|█▋        | 4431/26496 [04:49<22:00, 16.71it/s]"
     ]
    },
    {
     "name": "stdout",
     "output_type": "stream",
     "text": [
      "/home/sergey/maga_diploma/models/popular/dataset/is_pop/jokesss_-28468381_256434.jpg\n"
     ]
    },
    {
     "name": "stderr",
     "output_type": "stream",
     "text": [
      " 23%|██▎       | 6104/26496 [06:41<20:36, 16.49it/s]"
     ]
    },
    {
     "name": "stdout",
     "output_type": "stream",
     "text": [
      "/home/sergey/maga_diploma/models/popular/dataset/is_pop/mudakoff_-57846937_22123466.jpg\n"
     ]
    },
    {
     "name": "stderr",
     "output_type": "stream",
     "text": [
      " 33%|███▎      | 8809/26496 [09:53<18:41, 15.76it/s]"
     ]
    },
    {
     "name": "stdout",
     "output_type": "stream",
     "text": [
      "/home/sergey/maga_diploma/models/popular/dataset/is_pop/mudakoff_-57846937_39278132.jpg\n"
     ]
    },
    {
     "name": "stderr",
     "output_type": "stream",
     "text": [
      " 37%|███▋      | 9908/26496 [11:08<16:03, 17.22it/s]"
     ]
    },
    {
     "name": "stdout",
     "output_type": "stream",
     "text": [
      "/home/sergey/maga_diploma/models/popular/dataset/is_pop/sarsar_-25679656_1034015.jpg\n"
     ]
    },
    {
     "name": "stderr",
     "output_type": "stream",
     "text": [
      " 38%|███▊      | 10027/26496 [11:16<16:57, 16.18it/s]"
     ]
    },
    {
     "name": "stdout",
     "output_type": "stream",
     "text": [
      "/home/sergey/maga_diploma/models/popular/dataset/is_pop/sarsar_-25679656_107972.jpg\n"
     ]
    },
    {
     "name": "stderr",
     "output_type": "stream",
     "text": [
      " 38%|███▊      | 10050/26496 [11:18<16:08, 16.98it/s]"
     ]
    },
    {
     "name": "stdout",
     "output_type": "stream",
     "text": [
      "/home/sergey/maga_diploma/models/popular/dataset/is_pop/sarsar_-25679656_108869.jpg\n"
     ]
    },
    {
     "name": "stderr",
     "output_type": "stream",
     "text": [
      " 43%|████▎     | 11351/26496 [12:47<15:15, 16.54it/s]"
     ]
    },
    {
     "name": "stdout",
     "output_type": "stream",
     "text": [
      "/home/sergey/maga_diploma/models/popular/dataset/is_pop/sarsar_-25679656_83882.jpg\n",
      "/home/sergey/maga_diploma/models/popular/dataset/is_pop/sarsar_-25679656_839477.jpg\n"
     ]
    },
    {
     "name": "stderr",
     "output_type": "stream",
     "text": [
      " 43%|████▎     | 11367/26496 [12:48<15:22, 16.41it/s]"
     ]
    },
    {
     "name": "stdout",
     "output_type": "stream",
     "text": [
      "/home/sergey/maga_diploma/models/popular/dataset/is_pop/sarsar_-25679656_84327.jpg\n"
     ]
    },
    {
     "name": "stderr",
     "output_type": "stream",
     "text": [
      " 43%|████▎     | 11500/26496 [12:57<14:35, 17.14it/s]"
     ]
    },
    {
     "name": "stdout",
     "output_type": "stream",
     "text": [
      "/home/sergey/maga_diploma/models/popular/dataset/is_pop/sarsar_-25679656_88274.jpg\n"
     ]
    },
    {
     "name": "stderr",
     "output_type": "stream",
     "text": [
      " 45%|████▍     | 11799/26496 [13:18<14:32, 16.85it/s]"
     ]
    },
    {
     "name": "stdout",
     "output_type": "stream",
     "text": [
      "/home/sergey/maga_diploma/models/popular/dataset/is_pop/sarsar_-25679656_98426.jpg\n"
     ]
    },
    {
     "name": "stderr",
     "output_type": "stream",
     "text": [
      " 48%|████▊     | 12796/26496 [14:29<12:57, 17.62it/s]"
     ]
    },
    {
     "name": "stdout",
     "output_type": "stream",
     "text": [
      "/home/sergey/maga_diploma/models/popular/dataset/is_pop/scolu_-158490202_245450.jpg\n"
     ]
    },
    {
     "name": "stderr",
     "output_type": "stream",
     "text": [
      " 48%|████▊     | 12836/26496 [14:31<13:43, 16.59it/s]"
     ]
    },
    {
     "name": "stdout",
     "output_type": "stream",
     "text": [
      "/home/sergey/maga_diploma/models/popular/dataset/is_pop/scolu_-158490202_323849.jpg\n"
     ]
    },
    {
     "name": "stderr",
     "output_type": "stream",
     "text": [
      " 49%|████▊     | 12873/26496 [14:34<13:47, 16.47it/s]"
     ]
    },
    {
     "name": "stdout",
     "output_type": "stream",
     "text": [
      "/home/sergey/maga_diploma/models/popular/dataset/is_pop/scolu_-158490202_450214.jpg\n"
     ]
    },
    {
     "name": "stderr",
     "output_type": "stream",
     "text": [
      " 49%|████▉     | 13020/26496 [14:44<13:19, 16.85it/s]"
     ]
    },
    {
     "name": "stdout",
     "output_type": "stream",
     "text": [
      "/home/sergey/maga_diploma/models/popular/dataset/is_pop/scolu_-158490202_829494.jpg\n"
     ]
    },
    {
     "name": "stderr",
     "output_type": "stream",
     "text": [
      " 49%|████▉     | 13079/26496 [14:48<12:54, 17.31it/s]"
     ]
    },
    {
     "name": "stdout",
     "output_type": "stream",
     "text": [
      "/home/sergey/maga_diploma/models/popular/dataset/is_pop/scolu_-158490202_939725.jpg\n"
     ]
    },
    {
     "name": "stderr",
     "output_type": "stream",
     "text": [
      " 49%|████▉     | 13104/26496 [14:49<13:08, 16.98it/s]"
     ]
    },
    {
     "name": "stdout",
     "output_type": "stream",
     "text": [
      "/home/sergey/maga_diploma/models/popular/dataset/is_pop/scolu_-158490202_982290.jpg\n"
     ]
    },
    {
     "name": "stderr",
     "output_type": "stream",
     "text": [
      " 53%|█████▎    | 13987/26496 [15:48<11:52, 17.55it/s]"
     ]
    },
    {
     "name": "stdout",
     "output_type": "stream",
     "text": [
      "/home/sergey/maga_diploma/models/popular/dataset/not_pop/4ch_-95355317_2007396.jpg\n"
     ]
    },
    {
     "name": "stderr",
     "output_type": "stream",
     "text": [
      " 63%|██████▎   | 16638/26496 [18:48<08:25, 19.52it/s]"
     ]
    },
    {
     "name": "stdout",
     "output_type": "stream",
     "text": [
      "/home/sergey/maga_diploma/models/popular/dataset/not_pop/jokesss_-28468381_132157.jpg\n"
     ]
    },
    {
     "name": "stderr",
     "output_type": "stream",
     "text": [
      " 63%|██████▎   | 16807/26496 [18:58<09:05, 17.76it/s]"
     ]
    },
    {
     "name": "stdout",
     "output_type": "stream",
     "text": [
      "/home/sergey/maga_diploma/models/popular/dataset/not_pop/jokesss_-28468381_137911.jpg\n"
     ]
    },
    {
     "name": "stderr",
     "output_type": "stream",
     "text": [
      " 64%|██████▎   | 16836/26496 [19:00<09:08, 17.63it/s]"
     ]
    },
    {
     "name": "stdout",
     "output_type": "stream",
     "text": [
      "/home/sergey/maga_diploma/models/popular/dataset/not_pop/jokesss_-28468381_138603.jpg\n"
     ]
    },
    {
     "name": "stderr",
     "output_type": "stream",
     "text": [
      " 64%|██████▎   | 16857/26496 [19:01<09:10, 17.52it/s]"
     ]
    },
    {
     "name": "stdout",
     "output_type": "stream",
     "text": [
      "/home/sergey/maga_diploma/models/popular/dataset/not_pop/jokesss_-28468381_139189.jpg\n"
     ]
    },
    {
     "name": "stderr",
     "output_type": "stream",
     "text": [
      " 64%|██████▎   | 16876/26496 [19:03<09:12, 17.41it/s]"
     ]
    },
    {
     "name": "stdout",
     "output_type": "stream",
     "text": [
      "/home/sergey/maga_diploma/models/popular/dataset/not_pop/jokesss_-28468381_139613.jpg\n"
     ]
    },
    {
     "name": "stderr",
     "output_type": "stream",
     "text": [
      " 64%|██████▍   | 17049/26496 [19:14<10:14, 15.38it/s]"
     ]
    },
    {
     "name": "stdout",
     "output_type": "stream",
     "text": [
      "/home/sergey/maga_diploma/models/popular/dataset/not_pop/jokesss_-28468381_160670.jpg\n"
     ]
    },
    {
     "name": "stderr",
     "output_type": "stream",
     "text": [
      " 85%|████████▌ | 22586/26496 [25:28<04:00, 16.29it/s]"
     ]
    },
    {
     "name": "stdout",
     "output_type": "stream",
     "text": [
      "/home/sergey/maga_diploma/models/popular/dataset/not_pop/sarsar_-25679656_101128.jpg\n"
     ]
    },
    {
     "name": "stderr",
     "output_type": "stream",
     "text": [
      " 86%|████████▌ | 22769/26496 [25:40<03:35, 17.29it/s]"
     ]
    },
    {
     "name": "stdout",
     "output_type": "stream",
     "text": [
      "/home/sergey/maga_diploma/models/popular/dataset/not_pop/sarsar_-25679656_106320.jpg\n"
     ]
    },
    {
     "name": "stderr",
     "output_type": "stream",
     "text": [
      " 90%|█████████ | 23972/26496 [27:03<02:33, 16.39it/s]"
     ]
    },
    {
     "name": "stdout",
     "output_type": "stream",
     "text": [
      "/home/sergey/maga_diploma/models/popular/dataset/not_pop/sarsar_-25679656_450628.jpg\n"
     ]
    },
    {
     "name": "stderr",
     "output_type": "stream",
     "text": [
      " 91%|█████████ | 24029/26496 [27:07<02:25, 16.95it/s]"
     ]
    },
    {
     "name": "stdout",
     "output_type": "stream",
     "text": [
      "/home/sergey/maga_diploma/models/popular/dataset/not_pop/sarsar_-25679656_524946.jpg\n"
     ]
    },
    {
     "name": "stderr",
     "output_type": "stream",
     "text": [
      " 91%|█████████▏| 24208/26496 [27:20<02:30, 15.24it/s]"
     ]
    },
    {
     "name": "stdout",
     "output_type": "stream",
     "text": [
      "/home/sergey/maga_diploma/models/popular/dataset/not_pop/sarsar_-25679656_727723.jpg\n"
     ]
    },
    {
     "name": "stderr",
     "output_type": "stream",
     "text": [
      "100%|█████████▉| 26454/26496 [29:52<00:02, 15.24it/s]"
     ]
    },
    {
     "name": "stdout",
     "output_type": "stream",
     "text": [
      "/home/sergey/maga_diploma/models/popular/dataset/not_pop/scolu_-158490202_929114.jpg\n"
     ]
    },
    {
     "name": "stderr",
     "output_type": "stream",
     "text": [
      "100%|██████████| 26496/26496 [29:55<00:00, 14.76it/s]\n"
     ]
    }
   ],
   "source": [
    "all_vec = []\n",
    "ids_feat = []\n",
    "for img in tqdm(lst_imgs):\n",
    "    try:\n",
    "        vec_img = get_vector(img)\n",
    "        full_id_path = '_'.join(img.rstrip('.jpg').split('/')[-1].split('_')[-2:])\n",
    "        ids_feat.append(full_id_path)\n",
    "        all_vec.append(vec_img)\n",
    "    except:\n",
    "        print(img)"
   ]
  },
  {
   "cell_type": "code",
   "execution_count": 35,
   "metadata": {},
   "outputs": [],
   "source": [
    "df_ids_f = pd.DataFrame(ids_feat, columns =['full_id'])"
   ]
  },
  {
   "cell_type": "code",
   "execution_count": null,
   "metadata": {},
   "outputs": [],
   "source": []
  },
  {
   "cell_type": "code",
   "execution_count": 36,
   "metadata": {},
   "outputs": [],
   "source": [
    "df_features = pd.DataFrame(np.vstack(all_vec), index=df_ids_f['full_id'], columns=list(map(lambda x: f'r{x:04d}', range(all_vec[0].shape[0]))))"
   ]
  },
  {
   "cell_type": "code",
   "execution_count": 38,
   "metadata": {},
   "outputs": [
    {
     "data": {
      "text/plain": [
       "(110827, 2048)"
      ]
     },
     "execution_count": 38,
     "metadata": {},
     "output_type": "execute_result"
    }
   ],
   "source": [
    "df_features.shape"
   ]
  },
  {
   "cell_type": "code",
   "execution_count": 39,
   "metadata": {},
   "outputs": [],
   "source": [
    "df_features.to_pickle('features_v2_clear_text.pkl')"
   ]
  },
  {
   "cell_type": "code",
   "execution_count": 93,
   "metadata": {},
   "outputs": [],
   "source": [
    "df_features.to_pickle('features_v2_views_perc.pkl')"
   ]
  },
  {
   "cell_type": "code",
   "execution_count": 4,
   "metadata": {},
   "outputs": [],
   "source": [
    "df_features = pd.read_pickle('features_v2_views_perc.pkl')"
   ]
  },
  {
   "cell_type": "code",
   "execution_count": null,
   "metadata": {},
   "outputs": [],
   "source": [
    "final_df.query('type_post != \"text\"')"
   ]
  },
  {
   "cell_type": "code",
   "execution_count": 120,
   "metadata": {},
   "outputs": [
    {
     "name": "stderr",
     "output_type": "stream",
     "text": [
      "176781it [26:45, 110.12it/s]\n"
     ]
    }
   ],
   "source": [
    "lst_embeds = []\n",
    "for index, row in tqdm(final_df.iterrows()):\n",
    "    s1 = embed_text([row['full_text']]).numpy()\n",
    "    if pd.isna(row['description_image']):\n",
    "        s2 = np.zeros((1,512))\n",
    "    else:\n",
    "        s2 = embed_text([row['description_image']]).numpy()\n",
    "    \n",
    "    # s2 = embed_text([row['spell_text_with_re']]).numpy()\n",
    "    # s3 = embed_text([row['text_post']]).numpy()     #s3 - для опционального текста\n",
    "    lst_embeds.append(np.hstack((s1, s2)))\n",
    "    # break\n",
    "    # s3_s1 = np.append(s3, s1)\n",
    "    # lst_embeds.append(s3_s1)"
   ]
  },
  {
   "cell_type": "code",
   "execution_count": 119,
   "metadata": {},
   "outputs": [
    {
     "data": {
      "text/plain": [
       "(1, 1024)"
      ]
     },
     "execution_count": 119,
     "metadata": {},
     "output_type": "execute_result"
    }
   ],
   "source": [
    "lst_embeds[0].shape"
   ]
  },
  {
   "cell_type": "code",
   "execution_count": 121,
   "metadata": {},
   "outputs": [],
   "source": [
    "ids_e = final_df.apply(lambda row: f\"{row['id_community']}_{row['id_post']}\", axis=1)"
   ]
  },
  {
   "cell_type": "code",
   "execution_count": null,
   "metadata": {},
   "outputs": [],
   "source": []
  },
  {
   "cell_type": "code",
   "execution_count": 41,
   "metadata": {},
   "outputs": [],
   "source": [
    "df_class = final_df.set_index('full_id')['pop_class']"
   ]
  },
  {
   "cell_type": "code",
   "execution_count": null,
   "metadata": {},
   "outputs": [],
   "source": []
  },
  {
   "cell_type": "code",
   "execution_count": 123,
   "metadata": {},
   "outputs": [
    {
     "data": {
      "text/html": [
       "<div>\n",
       "<style scoped>\n",
       "    .dataframe tbody tr th:only-of-type {\n",
       "        vertical-align: middle;\n",
       "    }\n",
       "\n",
       "    .dataframe tbody tr th {\n",
       "        vertical-align: top;\n",
       "    }\n",
       "\n",
       "    .dataframe thead th {\n",
       "        text-align: right;\n",
       "    }\n",
       "</style>\n",
       "<table border=\"1\" class=\"dataframe\">\n",
       "  <thead>\n",
       "    <tr style=\"text-align: right;\">\n",
       "      <th></th>\n",
       "      <th>e0000</th>\n",
       "      <th>e0001</th>\n",
       "      <th>e0002</th>\n",
       "      <th>e0003</th>\n",
       "      <th>e0004</th>\n",
       "      <th>e0005</th>\n",
       "      <th>e0006</th>\n",
       "      <th>e0007</th>\n",
       "      <th>e0008</th>\n",
       "      <th>e0009</th>\n",
       "      <th>...</th>\n",
       "      <th>e1014</th>\n",
       "      <th>e1015</th>\n",
       "      <th>e1016</th>\n",
       "      <th>e1017</th>\n",
       "      <th>e1018</th>\n",
       "      <th>e1019</th>\n",
       "      <th>e1020</th>\n",
       "      <th>e1021</th>\n",
       "      <th>e1022</th>\n",
       "      <th>e1023</th>\n",
       "    </tr>\n",
       "  </thead>\n",
       "  <tbody>\n",
       "    <tr>\n",
       "      <th>-95355317_2106041</th>\n",
       "      <td>-0.050202</td>\n",
       "      <td>-0.005405</td>\n",
       "      <td>0.021376</td>\n",
       "      <td>-0.051566</td>\n",
       "      <td>-0.074584</td>\n",
       "      <td>0.023328</td>\n",
       "      <td>0.047106</td>\n",
       "      <td>0.056403</td>\n",
       "      <td>-0.059047</td>\n",
       "      <td>-0.047148</td>\n",
       "      <td>...</td>\n",
       "      <td>-0.024406</td>\n",
       "      <td>-0.041011</td>\n",
       "      <td>0.018773</td>\n",
       "      <td>0.064249</td>\n",
       "      <td>0.066774</td>\n",
       "      <td>0.043847</td>\n",
       "      <td>-0.024818</td>\n",
       "      <td>-0.010845</td>\n",
       "      <td>0.026412</td>\n",
       "      <td>0.038456</td>\n",
       "    </tr>\n",
       "    <tr>\n",
       "      <th>-95355317_2106029</th>\n",
       "      <td>0.003180</td>\n",
       "      <td>-0.026837</td>\n",
       "      <td>0.001380</td>\n",
       "      <td>-0.040814</td>\n",
       "      <td>-0.114463</td>\n",
       "      <td>0.009222</td>\n",
       "      <td>-0.029019</td>\n",
       "      <td>-0.046554</td>\n",
       "      <td>-0.105187</td>\n",
       "      <td>-0.007478</td>\n",
       "      <td>...</td>\n",
       "      <td>-0.017926</td>\n",
       "      <td>0.014094</td>\n",
       "      <td>-0.043782</td>\n",
       "      <td>0.054934</td>\n",
       "      <td>-0.061859</td>\n",
       "      <td>0.053387</td>\n",
       "      <td>-0.061283</td>\n",
       "      <td>-0.078392</td>\n",
       "      <td>-0.028585</td>\n",
       "      <td>-0.043558</td>\n",
       "    </tr>\n",
       "    <tr>\n",
       "      <th>-95355317_2105981</th>\n",
       "      <td>-0.018150</td>\n",
       "      <td>0.062485</td>\n",
       "      <td>-0.047640</td>\n",
       "      <td>0.046038</td>\n",
       "      <td>-0.028603</td>\n",
       "      <td>0.043973</td>\n",
       "      <td>0.050460</td>\n",
       "      <td>0.019902</td>\n",
       "      <td>-0.043200</td>\n",
       "      <td>-0.013904</td>\n",
       "      <td>...</td>\n",
       "      <td>-0.061047</td>\n",
       "      <td>-0.003726</td>\n",
       "      <td>0.042038</td>\n",
       "      <td>0.009857</td>\n",
       "      <td>0.001314</td>\n",
       "      <td>0.066375</td>\n",
       "      <td>-0.025699</td>\n",
       "      <td>0.014016</td>\n",
       "      <td>0.064210</td>\n",
       "      <td>0.016947</td>\n",
       "    </tr>\n",
       "    <tr>\n",
       "      <th>-95355317_2105977</th>\n",
       "      <td>-0.025884</td>\n",
       "      <td>0.049966</td>\n",
       "      <td>-0.010241</td>\n",
       "      <td>0.005267</td>\n",
       "      <td>0.030446</td>\n",
       "      <td>0.042081</td>\n",
       "      <td>0.029399</td>\n",
       "      <td>0.011158</td>\n",
       "      <td>-0.008990</td>\n",
       "      <td>0.018523</td>\n",
       "      <td>...</td>\n",
       "      <td>-0.033345</td>\n",
       "      <td>-0.032393</td>\n",
       "      <td>0.043702</td>\n",
       "      <td>-0.016369</td>\n",
       "      <td>-0.007129</td>\n",
       "      <td>0.089308</td>\n",
       "      <td>-0.043543</td>\n",
       "      <td>0.047753</td>\n",
       "      <td>0.069570</td>\n",
       "      <td>0.011778</td>\n",
       "    </tr>\n",
       "    <tr>\n",
       "      <th>-95355317_2105968</th>\n",
       "      <td>-0.061749</td>\n",
       "      <td>0.064719</td>\n",
       "      <td>-0.078596</td>\n",
       "      <td>-0.080345</td>\n",
       "      <td>-0.020010</td>\n",
       "      <td>0.047103</td>\n",
       "      <td>0.031237</td>\n",
       "      <td>0.009989</td>\n",
       "      <td>-0.020443</td>\n",
       "      <td>0.020826</td>\n",
       "      <td>...</td>\n",
       "      <td>-0.055325</td>\n",
       "      <td>-0.081176</td>\n",
       "      <td>0.064289</td>\n",
       "      <td>0.012770</td>\n",
       "      <td>0.014142</td>\n",
       "      <td>-0.010850</td>\n",
       "      <td>-0.089058</td>\n",
       "      <td>0.007772</td>\n",
       "      <td>0.031373</td>\n",
       "      <td>-0.013116</td>\n",
       "    </tr>\n",
       "    <tr>\n",
       "      <th>...</th>\n",
       "      <td>...</td>\n",
       "      <td>...</td>\n",
       "      <td>...</td>\n",
       "      <td>...</td>\n",
       "      <td>...</td>\n",
       "      <td>...</td>\n",
       "      <td>...</td>\n",
       "      <td>...</td>\n",
       "      <td>...</td>\n",
       "      <td>...</td>\n",
       "      <td>...</td>\n",
       "      <td>...</td>\n",
       "      <td>...</td>\n",
       "      <td>...</td>\n",
       "      <td>...</td>\n",
       "      <td>...</td>\n",
       "      <td>...</td>\n",
       "      <td>...</td>\n",
       "      <td>...</td>\n",
       "      <td>...</td>\n",
       "      <td>...</td>\n",
       "    </tr>\n",
       "    <tr>\n",
       "      <th>-25679656_1295</th>\n",
       "      <td>-0.043813</td>\n",
       "      <td>-0.033101</td>\n",
       "      <td>0.000426</td>\n",
       "      <td>-0.048782</td>\n",
       "      <td>-0.072084</td>\n",
       "      <td>-0.024985</td>\n",
       "      <td>-0.039337</td>\n",
       "      <td>-0.043402</td>\n",
       "      <td>-0.052349</td>\n",
       "      <td>-0.035921</td>\n",
       "      <td>...</td>\n",
       "      <td>-0.012747</td>\n",
       "      <td>0.010299</td>\n",
       "      <td>-0.010067</td>\n",
       "      <td>-0.055705</td>\n",
       "      <td>-0.032774</td>\n",
       "      <td>0.026927</td>\n",
       "      <td>0.029782</td>\n",
       "      <td>0.050931</td>\n",
       "      <td>0.066514</td>\n",
       "      <td>0.016577</td>\n",
       "    </tr>\n",
       "    <tr>\n",
       "      <th>-25679656_1294</th>\n",
       "      <td>0.019727</td>\n",
       "      <td>0.012492</td>\n",
       "      <td>-0.023962</td>\n",
       "      <td>-0.052555</td>\n",
       "      <td>0.027313</td>\n",
       "      <td>-0.014003</td>\n",
       "      <td>-0.008594</td>\n",
       "      <td>0.011278</td>\n",
       "      <td>-0.096872</td>\n",
       "      <td>0.000239</td>\n",
       "      <td>...</td>\n",
       "      <td>-0.032170</td>\n",
       "      <td>-0.093976</td>\n",
       "      <td>0.065428</td>\n",
       "      <td>-0.011611</td>\n",
       "      <td>0.011752</td>\n",
       "      <td>0.071408</td>\n",
       "      <td>0.071169</td>\n",
       "      <td>0.032212</td>\n",
       "      <td>0.075119</td>\n",
       "      <td>0.013449</td>\n",
       "    </tr>\n",
       "    <tr>\n",
       "      <th>-25679656_1293</th>\n",
       "      <td>0.100036</td>\n",
       "      <td>0.020600</td>\n",
       "      <td>-0.028816</td>\n",
       "      <td>-0.002237</td>\n",
       "      <td>-0.115259</td>\n",
       "      <td>-0.019824</td>\n",
       "      <td>-0.003626</td>\n",
       "      <td>0.056648</td>\n",
       "      <td>0.039402</td>\n",
       "      <td>0.025474</td>\n",
       "      <td>...</td>\n",
       "      <td>-0.050547</td>\n",
       "      <td>-0.078467</td>\n",
       "      <td>0.055211</td>\n",
       "      <td>0.011293</td>\n",
       "      <td>0.029411</td>\n",
       "      <td>0.071183</td>\n",
       "      <td>0.022823</td>\n",
       "      <td>0.015634</td>\n",
       "      <td>-0.009399</td>\n",
       "      <td>-0.028487</td>\n",
       "    </tr>\n",
       "    <tr>\n",
       "      <th>-25679656_1289</th>\n",
       "      <td>-0.076138</td>\n",
       "      <td>-0.049887</td>\n",
       "      <td>-0.020162</td>\n",
       "      <td>-0.014407</td>\n",
       "      <td>0.042206</td>\n",
       "      <td>-0.008082</td>\n",
       "      <td>-0.031086</td>\n",
       "      <td>0.053580</td>\n",
       "      <td>-0.070373</td>\n",
       "      <td>0.014257</td>\n",
       "      <td>...</td>\n",
       "      <td>-0.053842</td>\n",
       "      <td>-0.017229</td>\n",
       "      <td>0.056438</td>\n",
       "      <td>-0.012517</td>\n",
       "      <td>-0.086537</td>\n",
       "      <td>0.006583</td>\n",
       "      <td>0.025379</td>\n",
       "      <td>0.015859</td>\n",
       "      <td>0.065609</td>\n",
       "      <td>-0.007963</td>\n",
       "    </tr>\n",
       "    <tr>\n",
       "      <th>-25679656_1285</th>\n",
       "      <td>-0.073901</td>\n",
       "      <td>-0.003388</td>\n",
       "      <td>-0.042484</td>\n",
       "      <td>-0.008416</td>\n",
       "      <td>0.003805</td>\n",
       "      <td>-0.000181</td>\n",
       "      <td>0.007822</td>\n",
       "      <td>-0.005770</td>\n",
       "      <td>-0.064777</td>\n",
       "      <td>-0.042001</td>\n",
       "      <td>...</td>\n",
       "      <td>-0.048670</td>\n",
       "      <td>0.067998</td>\n",
       "      <td>0.077301</td>\n",
       "      <td>-0.033982</td>\n",
       "      <td>-0.054058</td>\n",
       "      <td>0.038743</td>\n",
       "      <td>0.052374</td>\n",
       "      <td>0.025735</td>\n",
       "      <td>0.059769</td>\n",
       "      <td>0.006915</td>\n",
       "    </tr>\n",
       "  </tbody>\n",
       "</table>\n",
       "<p>176781 rows × 1024 columns</p>\n",
       "</div>"
      ],
      "text/plain": [
       "                      e0000     e0001     e0002     e0003     e0004     e0005  \\\n",
       "-95355317_2106041 -0.050202 -0.005405  0.021376 -0.051566 -0.074584  0.023328   \n",
       "-95355317_2106029  0.003180 -0.026837  0.001380 -0.040814 -0.114463  0.009222   \n",
       "-95355317_2105981 -0.018150  0.062485 -0.047640  0.046038 -0.028603  0.043973   \n",
       "-95355317_2105977 -0.025884  0.049966 -0.010241  0.005267  0.030446  0.042081   \n",
       "-95355317_2105968 -0.061749  0.064719 -0.078596 -0.080345 -0.020010  0.047103   \n",
       "...                     ...       ...       ...       ...       ...       ...   \n",
       "-25679656_1295    -0.043813 -0.033101  0.000426 -0.048782 -0.072084 -0.024985   \n",
       "-25679656_1294     0.019727  0.012492 -0.023962 -0.052555  0.027313 -0.014003   \n",
       "-25679656_1293     0.100036  0.020600 -0.028816 -0.002237 -0.115259 -0.019824   \n",
       "-25679656_1289    -0.076138 -0.049887 -0.020162 -0.014407  0.042206 -0.008082   \n",
       "-25679656_1285    -0.073901 -0.003388 -0.042484 -0.008416  0.003805 -0.000181   \n",
       "\n",
       "                      e0006     e0007     e0008     e0009  ...     e1014  \\\n",
       "-95355317_2106041  0.047106  0.056403 -0.059047 -0.047148  ... -0.024406   \n",
       "-95355317_2106029 -0.029019 -0.046554 -0.105187 -0.007478  ... -0.017926   \n",
       "-95355317_2105981  0.050460  0.019902 -0.043200 -0.013904  ... -0.061047   \n",
       "-95355317_2105977  0.029399  0.011158 -0.008990  0.018523  ... -0.033345   \n",
       "-95355317_2105968  0.031237  0.009989 -0.020443  0.020826  ... -0.055325   \n",
       "...                     ...       ...       ...       ...  ...       ...   \n",
       "-25679656_1295    -0.039337 -0.043402 -0.052349 -0.035921  ... -0.012747   \n",
       "-25679656_1294    -0.008594  0.011278 -0.096872  0.000239  ... -0.032170   \n",
       "-25679656_1293    -0.003626  0.056648  0.039402  0.025474  ... -0.050547   \n",
       "-25679656_1289    -0.031086  0.053580 -0.070373  0.014257  ... -0.053842   \n",
       "-25679656_1285     0.007822 -0.005770 -0.064777 -0.042001  ... -0.048670   \n",
       "\n",
       "                      e1015     e1016     e1017     e1018     e1019     e1020  \\\n",
       "-95355317_2106041 -0.041011  0.018773  0.064249  0.066774  0.043847 -0.024818   \n",
       "-95355317_2106029  0.014094 -0.043782  0.054934 -0.061859  0.053387 -0.061283   \n",
       "-95355317_2105981 -0.003726  0.042038  0.009857  0.001314  0.066375 -0.025699   \n",
       "-95355317_2105977 -0.032393  0.043702 -0.016369 -0.007129  0.089308 -0.043543   \n",
       "-95355317_2105968 -0.081176  0.064289  0.012770  0.014142 -0.010850 -0.089058   \n",
       "...                     ...       ...       ...       ...       ...       ...   \n",
       "-25679656_1295     0.010299 -0.010067 -0.055705 -0.032774  0.026927  0.029782   \n",
       "-25679656_1294    -0.093976  0.065428 -0.011611  0.011752  0.071408  0.071169   \n",
       "-25679656_1293    -0.078467  0.055211  0.011293  0.029411  0.071183  0.022823   \n",
       "-25679656_1289    -0.017229  0.056438 -0.012517 -0.086537  0.006583  0.025379   \n",
       "-25679656_1285     0.067998  0.077301 -0.033982 -0.054058  0.038743  0.052374   \n",
       "\n",
       "                      e1021     e1022     e1023  \n",
       "-95355317_2106041 -0.010845  0.026412  0.038456  \n",
       "-95355317_2106029 -0.078392 -0.028585 -0.043558  \n",
       "-95355317_2105981  0.014016  0.064210  0.016947  \n",
       "-95355317_2105977  0.047753  0.069570  0.011778  \n",
       "-95355317_2105968  0.007772  0.031373 -0.013116  \n",
       "...                     ...       ...       ...  \n",
       "-25679656_1295     0.050931  0.066514  0.016577  \n",
       "-25679656_1294     0.032212  0.075119  0.013449  \n",
       "-25679656_1293     0.015634 -0.009399 -0.028487  \n",
       "-25679656_1289     0.015859  0.065609 -0.007963  \n",
       "-25679656_1285     0.025735  0.059769  0.006915  \n",
       "\n",
       "[176781 rows x 1024 columns]"
      ]
     },
     "execution_count": 123,
     "metadata": {},
     "output_type": "execute_result"
    }
   ],
   "source": [
    "df_embed_features = pd.DataFrame(np.vstack(lst_embeds), ids_e, columns=list(map(lambda x: f'e{x:04d}', range(1024))))\n",
    "df_embed_features"
   ]
  },
  {
   "cell_type": "code",
   "execution_count": 124,
   "metadata": {},
   "outputs": [],
   "source": [
    "df_embed_features.to_pickle('embeds_clear_text.pkl.bz2')"
   ]
  },
  {
   "cell_type": "code",
   "execution_count": 40,
   "metadata": {},
   "outputs": [],
   "source": [
    "df_embed_features = pd.read_pickle('embeds_clear_text.pkl.bz2')"
   ]
  },
  {
   "cell_type": "code",
   "execution_count": 42,
   "metadata": {},
   "outputs": [],
   "source": [
    "df_all = df_features.join(df_embed_features, how='inner').join(df_class, how='inner')"
   ]
  },
  {
   "cell_type": "code",
   "execution_count": 43,
   "metadata": {},
   "outputs": [
    {
     "data": {
      "text/plain": [
       "(110833, 3073)"
      ]
     },
     "execution_count": 43,
     "metadata": {},
     "output_type": "execute_result"
    }
   ],
   "source": [
    "df_all.shape"
   ]
  },
  {
   "cell_type": "code",
   "execution_count": 44,
   "metadata": {},
   "outputs": [],
   "source": [
    "df_all.to_pickle('ready_for_learning_v2_clear_text_views.pkl.bz2')"
   ]
  },
  {
   "cell_type": "code",
   "execution_count": null,
   "metadata": {},
   "outputs": [],
   "source": []
  }
 ],
 "metadata": {
  "kernelspec": {
   "display_name": "Python 3 (ipykernel)",
   "language": "python",
   "name": "python3"
  },
  "language_info": {
   "codemirror_mode": {
    "name": "ipython",
    "version": 3
   },
   "file_extension": ".py",
   "mimetype": "text/x-python",
   "name": "python",
   "nbconvert_exporter": "python",
   "pygments_lexer": "ipython3",
   "version": "3.6.9"
  }
 },
 "nbformat": 4,
 "nbformat_minor": 4
}
